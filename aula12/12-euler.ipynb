{
 "cells": [
  {
   "cell_type": "code",
   "execution_count": null,
   "metadata": {},
   "outputs": [],
   "source": []
  },
  {
   "cell_type": "markdown",
   "metadata": {
    "colab_type": "text",
    "id": "SHbMPISpmozK"
   },
   "source": [
    "## <center>Introdução à Linguagem Python</center>\n",
    "###  <center>Projeto de ensino - IFB</center>\n",
    "---\n",
    "## <center>12- Método de Euler Explícito </center>\n",
    "##### <center>Prof.: Bruno V. Ribeiro\n",
    "\n",
    "Vamos começar a ver algumas aplicações da programação para solução de problemas numéricos. Iniciaremos com um método simples de resolução de Equações Diferenciais (ED's) com condição inicial: o **Método de Euler Explícito**.\n",
    "    \n",
    "Usaremos definições básicas de diferenciais (derivadas) e alguns dos conceitos próprios da linguagem (Python) que vimos até agora. É importante ressaltar que o que veremos aqui é um método numérico e, portanto, pode ser implementado de várias maneiras e em diversas linguagens. Pensar em maneiras alternativas àquelas que vamos propor aqui é sempre uma boa maneira de estudar e se apropriar do conteúdo."
   ]
  },
  {
   "cell_type": "markdown",
   "metadata": {
    "colab_type": "text",
    "id": "mm6ZiyF-0wu2"
   },
   "source": [
    "A primeira coisa a ser feita é importar os módulos que usaremos. Como vamos trabalhar com problemas numéricos, usaremos o `numpy`. Seria legal visualizar algum gráfico para ver se nosso trabalho anda bem, então, usaremos o `matplotlib`."
   ]
  },
  {
   "cell_type": "code",
   "execution_count": 1,
   "metadata": {},
   "outputs": [],
   "source": [
    "import matplotlib.pyplot as plt\n",
    "import numpy as np"
   ]
  },
  {
   "cell_type": "markdown",
   "metadata": {},
   "source": [
    "## Definindo Equação Diferencial\n",
    "\n",
    "Primeiro, temos que entender o que é uma ED:\n",
    "\n",
    "Uma equação diferencial é uma equação envolvendo uma função $y(t)$, onde $t$ é uma variável independente, e suas derivadas $y', y'', y''', ...$. Aqui, usamos a notação:\n",
    "* $y' = \\frac{\\rm{d} y}{\\rm{d} t} $, $y'' = \\frac{\\rm{d}^2 y}{\\rm{d} t^2} $, $y''' = \\frac{\\rm{d}^3 y}{\\rm{d} t^3} $, ...\n",
    "\n",
    "A ordem de uma equação diferencial é dada pela maior ordem da derivada envolvida e a *linearidade* é dada pela maneira como a função $y$ aparece na equação.\n",
    "\n",
    "Por exemplo, a equação\n",
    "> $y'' + ty' + y^2 = t$\n",
    "\n",
    "é de segunda ordem (pelo termo $y''$) e não-linear (pois temos um termo não-linear em $y$: o termo $y^2$).\n",
    "\n",
    "Já a equação\n",
    "> $y' +t y = t^2$\n",
    "\n",
    "é de primeira ordem (a \"maior\" derivada é $y'$) e é linear (todos os termos em $y$ são lineares). A grande (GRANDE mesmo) maioria das equações diferenciais não podem ser explicitamente resolvidas. Por isso, usamos métodos numéricos para obter soluções aproximadas.\n",
    "\n",
    "Não vamos trabalhar, neste documento, com um método super geral que resolve todo tipo de ED. Começaremos com casos bem simples e vamos adicionando complexidade para nunca perder a noção de quais e onde estão nossas aproximações (traduzindo, onde estamos acumulando erros).\n",
    "\n",
    "Quando temos apenas uma variável independente, como é o caso descrito até aqui, dizemos que a ED é Ordinária (EDO). Trabalharemos, majoritariamente, com EDO's neste projeto.\n",
    "\n",
    "## Derivando o Método de Euler Explícito (MEE)\n",
    "\n",
    "Como queremos um **método numérico** de resolução de EDO's, um problema que temos para resolver é o da **discretização** das funções e dos operadores (derivadas, integrais e etc.) uma vez que nosso \"computador\" (aqui leiam isso como o objeto que está computando as respostas, pode ser você com um lápis e um papel) só trabalha com passos discretos.\n",
    "\n",
    "Considerem o problema de valor inicial (problema de Cauchy na forma normal, para os íntimos):\n",
    "\n",
    "<div align=\"center\"> $y'(t) = f(t, y(t)), \\quad y(t_0) = y_0$. </div>\n",
    "\n",
    "O valor $y_0$ é o dito valor inicial do problema. O termo que não podemos calcular explicitamente no \"computador\" é aquele contendo a derivada. Lembrando da definição básica de derivada:\n",
    "<div align=\"center\"> $y'(t) = \\lim_\\limits{h \\to 0} \\frac{y(t+h) - y(t)}{h}$ </div>\n",
    "\n",
    "O que não conseguimos fazer, numericamente, é o limite. Porém, para um valor finito de $h$, podemos calcular um valor aproximado para $y'(t)$. A ideia será, então, escolher $h$ bem pequeno de modo a nos aproximar cada vez mais do valor \"real\" da derivada. Ou seja,\n",
    "\n",
    "<div align=\"center\"> $y'(t) \\approx \\frac{y(t+h) - y(t)}{h}, \\quad 0 < h << 1$ </div>\n",
    "\n",
    "Usando isso na nossa definição do problema de valor inicial:\n",
    "\n",
    "<div align=\"center\"> $\\frac{y(t+h) - y(t)}{h} = f(t, y(t)), \\quad y(t_0) = y_0$ </div>\n",
    "\n",
    "<div align=\"center\"> $\\quad$ </div>\n",
    "\n",
    "<div align=\"center\"> $y(t+h) = y(t) + h \\cdot f(t, y(t)), \\quad y(t_0) = y_0$ </div>\n",
    "\n",
    "> Este é, exatamente, um passo do **MEE**.\n",
    "\n",
    "Ou seja, dado um valor de $y(t)$, conseguimos calcular o valor de $y(t + h)$ a partir da função $f$. A partir do valor inicial, podemos fazer uma **iteração** do método para obter o valor de $y$ em qualquer instante:\n",
    "* Com $y(t_0)$ obtemos $y(t_0 + h)$\n",
    "* Com $y(t_0 + h)$ obtemos $y(t_0 + 2h)$\n",
    "* Com $y(t_0 + 2h)$ obtemos $y(t_0 + 3h)$\n",
    "* ...\n",
    "* Com $y(t_0 + nh)$ obtemos $y(t_0 + (n+1)h)$\n",
    "\n",
    "\n",
    "Como estamos discretizando os passos, vamos enxugar a notação: definimos $t_{n} = t_0 + nh$ e $y_{n} = y(t_n)$.\n",
    "\n",
    "Assim, nosso **MEE** pode ser escrito na forma\n",
    "<div align=\"center\"> $y_{n+1} = y_n + h \\cdot f(t_n, y_n) \\qquad\\qquad\\qquad $ (1) </div>\n",
    "\n",
    "* NOTEM: $h = t_{n+1} - t_n$.\n",
    "\n",
    "#### Duas coisas importantes:\n",
    "\n",
    "* Menores valores de $h$ geram aproximações melhores\n",
    "* Menores valores de $h$ precisam de mais \"poder computacional\".\n",
    "\n",
    "### O algoritmo\n",
    "\n",
    "Para resolver um problema de valor inicial (conhecendo $f$ e $y_0$), então, seguimos o seguinte roteiro (**algoritmo**):\n",
    "\n",
    "- Usar **(1)** com $n=0$ para obter o valor de $y_1$\n",
    "- Usar **(1)** com $n=1$ para obter o valor de $y_2$\n",
    "- Usar **(1)** com $n=2$ para obter o valor de $y_3$\n",
    "- ...\n",
    "\n",
    "É importante que vocês vejam que este é um método **iterativo**, ou seja, facilmente implementado em uma linguagem de programação, que é o que faremos a seguir ;)."
   ]
  },
  {
   "cell_type": "markdown",
   "metadata": {},
   "source": [
    "# Implementando o MEE em Python\n",
    "\n",
    "Vamos definir uma função para dar *um passo* do **MEE**. O que queremos é implementar a equação\n",
    "> $y_{n+1} = y_n + h \\cdot f(t_n, y_n) $\n",
    "\n",
    "tendo como parâmetro o **passo no tempo** $h$, o valor anterior $y_n$, o tempo anterior $t_n$ e a função $f$ (NOTEM: nossa função do MEE irá chamar uma outra função $f$. $f$ é função no sentido matemático, a MEE é função no sentido de programação).\n",
    "\n",
    "O retorno da nossa função será o valor $y_{n+1}$. O que vamos fazer é usar este valor retornado para \"alimentar\" nossa função no próximo passo de tempo e repetir o processo até um tempo determinado. Vamos ver na prática:"
   ]
  },
  {
   "cell_type": "code",
   "execution_count": 2,
   "metadata": {},
   "outputs": [],
   "source": [
    "def mee(f, y_n, t_n, h):\n",
    "    y = y_n + f(t_n, y_n)*h\n",
    "    return y"
   ]
  },
  {
   "cell_type": "markdown",
   "metadata": {},
   "source": [
    "## Exemplo 1"
   ]
  },
  {
   "cell_type": "markdown",
   "metadata": {},
   "source": [
    "Parece bem simples porque, de fato, é bem simples! Vamos testar se essa função que dá um passo do método **MEE** funciona para um caso muito comum e com solução exata conhecida.\n",
    "\n",
    "- Vamos resolver a seguinte equação: $y'(t) = y(t), \\quad\\quad y_0 = 1.0$.\n",
    "- Neste caso a função $f(t,y(t)) = y(t)$.\n",
    "- A solução é conhecida: $y(t) = \\rm{e}^t$ (se você não sabe chegar a esta solução me procure - ou um livro de EDO).\n",
    "\n",
    "Para usar nossa função `mee` precisamos, primeiro, definir a função $f$:"
   ]
  },
  {
   "cell_type": "code",
   "execution_count": 3,
   "metadata": {},
   "outputs": [],
   "source": [
    "def f1(t,y):\n",
    "    return y\n",
    "# Que incrível!"
   ]
  },
  {
   "cell_type": "markdown",
   "metadata": {},
   "source": [
    "Agora, uns detalhes de ordem prática: precisamos definir algumas constantes:\n",
    "- h (o passo de tempo)\n",
    "- y0 (o valor inicial)\n",
    "- t0 (o instante inicial)\n",
    "- t_max (o tempo máximo de \"integração\")"
   ]
  },
  {
   "cell_type": "code",
   "execution_count": 4,
   "metadata": {},
   "outputs": [],
   "source": [
    "# Definindo constantes:\n",
    "h = 0.1\n",
    "y0 = 1.0\n",
    "t0 = 0.0\n",
    "t_max = 2.00"
   ]
  },
  {
   "cell_type": "markdown",
   "metadata": {},
   "source": [
    "Como queremos usar a função `mee` iterativamente (várias vezes), vamos definir um *loop* temporal, ou seja, iniciamos no tempo `t0` e repetimos o passo definido por `mee` até o tempo atingir `t_max`.\n",
    "\n",
    "Primeiro, vamos iniciar o *loop* temporal:"
   ]
  },
  {
   "cell_type": "code",
   "execution_count": 15,
   "metadata": {},
   "outputs": [],
   "source": [
    "# A variável t será usada para acompanhar o \"tempo atual\"\n",
    "t = t0\n",
    "\n",
    "# A variável y será usada como o valor de y no \"tempo atual\"\n",
    "y = y0\n",
    "\n",
    "# Criaremos um array para armazenar todos os valores de y ao longo do tempo\n",
    "y_t = np.array([y0])      # O primeiro elemento desta lista será o y0\n",
    "\n",
    "# Vamos criar um array para armazenar os valores do tempo também\n",
    "t_t = np.array([t0])      # O primeiro elemento desta lista será o t0\n",
    "\n",
    "while t <= t_max:\n",
    "    # Incrementando o valor de y usando a expressão (1)\n",
    "    y = mee(f1, y, t, h)\n",
    "    \n",
    "    # Incrementando o tempo\n",
    "    t += h\n",
    "    \n",
    "    # Armazenando o valor de y no array\n",
    "    y_t = np.append(y_t, y)\n",
    "    \n",
    "    # Armazenando o valor de t no array\n",
    "    t_t = np.append(t_t, t)"
   ]
  },
  {
   "cell_type": "markdown",
   "metadata": {},
   "source": [
    "Vamos plotar o nosso resultado para ver se faz sentido:"
   ]
  },
  {
   "cell_type": "code",
   "execution_count": 26,
   "metadata": {},
   "outputs": [
    {
     "data": {
      "image/png": "[encoded data removed]",
      "text/plain": [
       "<Figure size 432x288 with 1 Axes>"
      ]
     },
     "metadata": {
      "needs_background": "light"
     },
     "output_type": "display_data"
    }
   ],
   "source": [
    "plt.plot(t_t, y_t, 'r.-')\n",
    "plt.title(\"Solução do exemplo 1 - MEE\")\n",
    "plt.xlabel(\"t\")\n",
    "plt.ylabel(\"y(t)\")\n",
    "plt.grid()\n",
    "plt.show()"
   ]
  },
  {
   "cell_type": "markdown",
   "metadata": {},
   "source": [
    "Parece que temos um comportamento exponencial. Vamos comparar essa solução, que foi obtida a partir de um método numérico (**MEE**), com a solução \"real\". Neste caso, bem específico, conhecemos a solução (que deve ser $y(t) = \\rm{e}^t$) e, portanto, podemos usar a função exponencial fornecida pelo módulo `numpy` como solução \"real\" (coloco entre aspas, pois o módulo `numpy` também faz aproximações) e comparar com nosso método."
   ]
  },
  {
   "cell_type": "code",
   "execution_count": 27,
   "metadata": {},
   "outputs": [
    {
     "data": {
      "image/png": "[encoded data removed]",
      "text/plain": [
       "<Figure size 432x288 with 1 Axes>"
      ]
     },
     "metadata": {
      "needs_background": "light"
     },
     "output_type": "display_data"
    }
   ],
   "source": [
    "plt.plot(t_t, y_t, 'r.-')\n",
    "plt.plot(t_t, np.exp(t_t))\n",
    "plt.legend(['Euler', 'Solução \"real\"'])\n",
    "plt.title(\"Solução do exemplo 1\")\n",
    "plt.xlabel(\"t\")\n",
    "plt.ylabel(\"y(t)\")\n",
    "plt.grid()\n",
    "plt.show()"
   ]
  },
  {
   "cell_type": "markdown",
   "metadata": {},
   "source": [
    "Notem como a curva obtida pelo nosso método se afasta da \"real\" conforme **andamos no tempo** (aqui estou tratando o parâmetro $t$ como tempo, mas notem que pode ser qualquer parâmetro). Se repetirmos tudo isso, diminuindo o passo de tempo, $h$, esperamos que nossa curva se aproxime da real em um alcance maior.\n",
    "\n",
    "Vamos ver:"
   ]
  },
  {
   "cell_type": "code",
   "execution_count": 28,
   "metadata": {},
   "outputs": [],
   "source": [
    "# Diminuir em 10 vezes o passo de tempo\n",
    "h = 0.01\n",
    "\n",
    "# A variável t será usada para acompanhar o \"tempo atual\"\n",
    "t = t0\n",
    "\n",
    "# A variável y será usada como o valor de y no \"tempo atual\"\n",
    "y = y0\n",
    "\n",
    "# Criaremos um array para armazenar todos os valores de y ao longo do tempo\n",
    "y_t = np.array([y0])      # O primeiro elemento desta lista será o y0\n",
    "\n",
    "# Vamos criar um array para armazenar os valores do tempo também\n",
    "t_t = np.array([t0])      # O primeiro elemento desta lista será o t0\n",
    "\n",
    "while t <= t_max:\n",
    "    # Incrementando o valor de y usando a expressão (1)\n",
    "    y = mee(f1, y, t, h)\n",
    "    \n",
    "    # Incrementando o tempo\n",
    "    t += h\n",
    "    \n",
    "    # Armazenando o valor de y no array\n",
    "    y_t = np.append(y_t, y)\n",
    "    \n",
    "    # Armazenando o valor de t no array\n",
    "    t_t = np.append(t_t, t)"
   ]
  },
  {
   "cell_type": "code",
   "execution_count": 29,
   "metadata": {},
   "outputs": [
    {
     "data": {
      "image/png": "[encoded data removed]",
      "text/plain": [
       "<Figure size 432x288 with 1 Axes>"
      ]
     },
     "metadata": {
      "needs_background": "light"
     },
     "output_type": "display_data"
    }
   ],
   "source": [
    "plt.plot(t_t, y_t, 'r.-')\n",
    "plt.plot(t_t, np.exp(t_t))\n",
    "plt.legend(['Euler', 'Solução \"real\"'])\n",
    "plt.title(\"Solução do exemplo 1\")\n",
    "plt.xlabel(\"t\")\n",
    "plt.ylabel(\"y(t)\")\n",
    "plt.grid()\n",
    "plt.show()"
   ]
  },
  {
   "cell_type": "markdown",
   "metadata": {},
   "source": [
    "De fato!\n",
    "\n",
    "Não veremos aqui a fundo o estudo de erros do método numérico, mas vale notar que o erro neste método (**MEE**) cresce linearmente com o passo $h$. Ou seja, chamando de $y_n(t_n)$ o valor calculado pelo MEE no instante $t_n$ e $y(t_n)$ o mesmo valor *exato*, temos\n",
    "> $|| y_n(t_n) - y(t_n) || = O(h), \\qquad h \\to 0$.\n",
    "\n",
    "Dizemos que a aproximação que estamos fazendo é de primeira ordem (pois o $h$ está elevado a 1)."
   ]
  },
  {
   "cell_type": "markdown",
   "metadata": {},
   "source": [
    "## Exemplo 2\n",
    "\n",
    "- Vamos resolver a seguinte equação: $y'(t) = \\cos(t), \\quad\\quad y_0 = 0.0$.\n",
    "- Neste caso a função $f(t,y(t)) = \\cos(t)$.\n",
    "\n",
    "Para usar nossa função `mee` precisamos, primeiro, definir a função $f$:"
   ]
  },
  {
   "cell_type": "code",
   "execution_count": 30,
   "metadata": {},
   "outputs": [],
   "source": [
    "def f2(t,y):\n",
    "    return np.cos(t)\n",
    "# Que incrível!"
   ]
  },
  {
   "cell_type": "markdown",
   "metadata": {},
   "source": [
    "Definindo constantes:"
   ]
  },
  {
   "cell_type": "code",
   "execution_count": 34,
   "metadata": {},
   "outputs": [],
   "source": [
    "# Definindo constantes:\n",
    "h = 0.1\n",
    "y0 = 0.0\n",
    "t0 = 0.0\n",
    "t_max = 2*np.pi"
   ]
  },
  {
   "cell_type": "code",
   "execution_count": 35,
   "metadata": {},
   "outputs": [],
   "source": [
    "# A variável t será usada para acompanhar o \"tempo atual\"\n",
    "t = t0\n",
    "\n",
    "# A variável y será usada como o valor de y no \"tempo atual\"\n",
    "y = y0\n",
    "\n",
    "# Criaremos um array para armazenar todos os valores de y ao longo do tempo\n",
    "y_t = np.array([y0])      # O primeiro elemento desta lista será o y0\n",
    "\n",
    "# Vamos criar um array para armazenar os valores do tempo também\n",
    "t_t = np.array([t0])      # O primeiro elemento desta lista será o t0\n",
    "\n",
    "while t <= t_max:\n",
    "    # Incrementando o valor de y usando a expressão (1)\n",
    "    y = mee(f2, y, t, h)                                   ##### A ÚNICA DIFERENÇA ESTÁ AQUI\n",
    "    \n",
    "    # Incrementando o tempo\n",
    "    t += h\n",
    "    \n",
    "    # Armazenando o valor de y no array\n",
    "    y_t = np.append(y_t, y)\n",
    "    \n",
    "    # Armazenando o valor de t no array\n",
    "    t_t = np.append(t_t, t)"
   ]
  },
  {
   "cell_type": "markdown",
   "metadata": {},
   "source": [
    "Vamos ver o resultado gráfico:"
   ]
  },
  {
   "cell_type": "code",
   "execution_count": 36,
   "metadata": {},
   "outputs": [
    {
     "data": {
      "image/png": "[encoded data removed]",
      "text/plain": [
       "<Figure size 432x288 with 1 Axes>"
      ]
     },
     "metadata": {
      "needs_background": "light"
     },
     "output_type": "display_data"
    }
   ],
   "source": [
    "plt.plot(t_t, y_t, 'r.-')\n",
    "plt.title(\"Solução do exemplo 2 - MEE\")\n",
    "plt.xlabel(\"t\")\n",
    "plt.ylabel(\"y(t)\")\n",
    "plt.grid()\n",
    "plt.show()"
   ]
  },
  {
   "cell_type": "markdown",
   "metadata": {},
   "source": [
    "Fica como \"tarefa\" para vocês resolver a equação $y'(t) = \\cos(t), \\quad\\quad y_0 = 0.0$.\n",
    "\n",
    "Isso feito, o que acham do seguinte gráfico:"
   ]
  },
  {
   "cell_type": "code",
   "execution_count": 37,
   "metadata": {},
   "outputs": [
    {
     "data": {
      "image/png": "[encoded data removed]",
      "text/plain": [
       "<Figure size 432x288 with 1 Axes>"
      ]
     },
     "metadata": {
      "needs_background": "light"
     },
     "output_type": "display_data"
    }
   ],
   "source": [
    "plt.plot(t_t, y_t, 'r.-')\n",
    "plt.plot(t_t, np.sin(t_t))\n",
    "plt.legend(['Euler', 'sen(t)'])\n",
    "plt.title(\"Solução do exemplo 2\")\n",
    "plt.xlabel(\"t\")\n",
    "plt.ylabel(\"y(t)\")\n",
    "plt.grid()\n",
    "plt.show()"
   ]
  },
  {
   "cell_type": "markdown",
   "metadata": {},
   "source": [
    "# Exercício\n",
    "\n",
    "1. O primeiro exercício que vocês devem fazer é criar uma função que aceite como parâmetros a função $f$, o valor inicial do problema, o tempo inicial, o passo $h$ e o tempo máximo $t_max$ e já retorne o array com todos os valores calculados de $y$ e os tempos. Ou seja, na linguagem que trabalhamos até aqui, vocês devem produzir uma única função que retorne os arrays `y_t` e `t_t`.\n",
    "\n",
    "> Desafio 1. Faça essa função do exercício 1 já mostrar o gŕafico de $y(t)$ por $t$.\n",
    "\n",
    "\n",
    "\n",
    "2. Seja criativo (e curioso) e procure uma EDO que você acha legal e tente resolver com este método! Sugestões:\n",
    "* $y'(t) = 2 - \\rm{e}^{-4t} - 2 y, \\quad\\quad y_0 = 1.0$\n",
    "\n",
    "\n",
    "* $y'(t) = y - \\frac{1}{2}\\rm{e}^{\\frac{t}{2}} \\rm{sen}(5t) + 5\\rm{e}^{\\frac{t}{2}}\\cos(5t), \\quad y_0 = 0$"
   ]
  },
  {
   "cell_type": "code",
   "execution_count": null,
   "metadata": {},
   "outputs": [],
   "source": []
  }
 ],
 "metadata": {
  "colab": {
   "collapsed_sections": [],
   "name": "6-maisIteracoes.ipynb",
   "provenance": []
  },
  "kernelspec": {
   "display_name": "Python 3",
   "language": "python",
   "name": "python3"
  },
  "language_info": {
   "codemirror_mode": {
    "name": "ipython",
    "version": 3
   },
   "file_extension": ".py",
   "mimetype": "text/x-python",
   "name": "python",
   "nbconvert_exporter": "python",
   "pygments_lexer": "ipython3",
   "version": "3.8.5"
  }
 },
 "nbformat": 4,
 "nbformat_minor": 1
}
