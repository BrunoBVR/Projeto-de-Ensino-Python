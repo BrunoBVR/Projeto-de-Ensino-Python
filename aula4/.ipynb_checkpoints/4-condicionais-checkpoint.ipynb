{
 "cells": [
  {
   "cell_type": "markdown",
   "metadata": {
    "colab_type": "text",
    "id": "SHbMPISpmozK"
   },
   "source": [
    "## <center>Introdução à Linguagem Python</center>\n",
    "###  <center>Projeto de ensino - IFB</center>\n",
    "---\n",
    "## <center>4- Condicionais e controle de fluxo</center>\n",
    "##### <center>Prof.: Bruno V. Ribeiro"
   ]
  },
  {
   "cell_type": "markdown",
   "metadata": {
    "colab_type": "text",
    "id": "oQiBqoX8mozN"
   },
   "source": [
    "Uma parte enorme de saber programar é saber comparar coisas! A linguagem Python (assim como todas as outras) possui maneiras fáceis de fazer comparações usando os chamados `operadores de comparação`. A ideia é bem intuitiva, vamos ver na célula abaixo:"
   ]
  },
  {
   "cell_type": "code",
   "execution_count": 1,
   "metadata": {
    "colab": {},
    "colab_type": "code",
    "id": "cAPI3isaBYBy",
    "outputId": "f1445bc8-bda8-4395-fa68-8a400b3832c4"
   },
   "outputs": [
    {
     "data": {
      "text/plain": [
       "True"
      ]
     },
     "execution_count": 1,
     "metadata": {},
     "output_type": "execute_result"
    }
   ],
   "source": [
    "5 > 4"
   ]
  },
  {
   "cell_type": "markdown",
   "metadata": {
    "colab_type": "text",
    "id": "NNsQw-ycptaU"
   },
   "source": [
    "**Para executar o código de uma célula (este documento do GoogleColab é divido em células executáveis), selecione a célula e aperte Shift+Enter.**"
   ]
  },
  {
   "cell_type": "markdown",
   "metadata": {},
   "source": [
    "Note que passamos ao Python dois números para comparar e ele retornou (como resultado da execução da célula) um `boolean`, que, no caso, foi `True`. Ou seja, perguntamos se 5 é maior que 4 (`5 > 4`) e ele nos diz que isso é verdade (`True`). Veja os exemplos abaixo e pense nos resultados:"
   ]
  },
  {
   "cell_type": "code",
   "execution_count": 2,
   "metadata": {
    "colab": {
     "base_uri": "https://localhost:8080/",
     "height": 35
    },
    "colab_type": "code",
    "id": "avVP-UTPmozP",
    "outputId": "dd0a19c0-f3b8-4f35-8c15-8170b350aa51"
   },
   "outputs": [
    {
     "name": "stdout",
     "output_type": "stream",
     "text": [
      "True\n",
      "False\n",
      "True\n",
      "True\n",
      "True\n"
     ]
    }
   ],
   "source": [
    "print(5 > 2)\n",
    "\n",
    "print(3 < 1)\n",
    "\n",
    "print(5 > 2 * 2)\n",
    "\n",
    "print(1 == 1)\n",
    "\n",
    "print(5 != 2)\n"
   ]
  },
  {
   "cell_type": "markdown",
   "metadata": {
    "colab_type": "text",
    "id": "nq89zZqYmozV"
   },
   "source": [
    "Note duas coisas *diferentes* nesse célula: \n",
    "* o operador `==` -> verifica a igualdade. Usamos até aqui o operador `=` para atribuir valores. Esta diferença é bem importante: `=` atribui valores, `==` compara valores!\n",
    "* o operador `!=` -> o sinal `!` significa uma negação, então `!=` significa \"não é igual\"."
   ]
  },
  {
   "cell_type": "markdown",
   "metadata": {},
   "source": [
    "Já vimos `>` e `<`, mas o que significam `>=` e `<=`? Leia da seguinte forma:\n",
    "\n",
    "* `x > y` significa: x é maior que y\n",
    "* `x < y` significa: x é menor que y\n",
    "* `x <= y` significa: x é menor ou igual a y\n",
    "* `x >= y` significa: x é maior ou igual a y"
   ]
  },
  {
   "cell_type": "code",
   "execution_count": 3,
   "metadata": {
    "colab": {},
    "colab_type": "code",
    "id": "KYsxiid2BYB_"
   },
   "outputs": [
    {
     "name": "stdout",
     "output_type": "stream",
     "text": [
      "True\n",
      "\n",
      "False\n"
     ]
    }
   ],
   "source": [
    "# Podemos usar variáveis para comparações\n",
    "\n",
    "a = 8\n",
    "b = 2\n",
    "\n",
    "print(a > b)\n",
    "print()\n",
    "print(a!= b*4)"
   ]
  },
  {
   "cell_type": "markdown",
   "metadata": {
    "colab_type": "text",
    "id": "EqdhPimkmozW"
   },
   "source": [
    "Você pode pedir ao Python para comprar quantos números quiser e ele vai te dar uma resposta!\n",
    "\n",
    "* **and** - se você usar o operador and, as duas comparações terão que ser verdadeiras para que a expressão seja verdadeira (`True`)\n",
    "* **or** - se você usar o operador or, apenas uma das comparações precisa ser verdadeira para que a expressão seja verdadeira (`True`)"
   ]
  },
  {
   "cell_type": "code",
   "execution_count": null,
   "metadata": {
    "colab": {},
    "colab_type": "code",
    "id": "XmjQ8A8qBYCE"
   },
   "outputs": [],
   "source": [
    "# Pense nos comandos abaixo antes de rodar:\n",
    "print( 2 < 8 and 2 > 1)\n",
    "\n",
    "print(2*8 == 16 or 1 > 8)\n",
    "\n",
    "print(2**3 > 7 and 4/2 < 2)\n"
   ]
  },
  {
   "cell_type": "markdown",
   "metadata": {},
   "source": [
    "Como pequeno desafio, tente pensar na linha abaixo antes de rodar:"
   ]
  },
  {
   "cell_type": "code",
   "execution_count": null,
   "metadata": {},
   "outputs": [],
   "source": [
    "print( int(3/2) > 1 or 8%2 != 0 or 2**(int(1/2)) > 1)"
   ]
  },
  {
   "cell_type": "markdown",
   "metadata": {},
   "source": [
    "Existe, ainda, o comando *not* que, basicamente inverte o valor do `boolean` que estamos trabalhando. Veja o exemplo:"
   ]
  },
  {
   "cell_type": "code",
   "execution_count": 11,
   "metadata": {},
   "outputs": [
    {
     "data": {
      "text/plain": [
       "True"
      ]
     },
     "execution_count": 11,
     "metadata": {},
     "output_type": "execute_result"
    }
   ],
   "source": [
    "not 2 > 4"
   ]
  },
  {
   "cell_type": "markdown",
   "metadata": {},
   "source": [
    "Obviamente 2 > 4 é falso, mas a inclusão do **not** inverteu o resultado. Funciona como se a pergunta fosse invertida: \n",
    "* Eu: \"Dois não é maior que quatro, né?\"\n",
    "* Python: \"Correto!\""
   ]
  },
  {
   "cell_type": "markdown",
   "metadata": {},
   "source": [
    "# Controles de fluxo\n",
    "\n",
    "Sabendo que existem maneiras de comparar objetos em Python, podemos criar maneiras de nosso programa funcionar de uma ou outra forma baseado nos resultados de comparações. A isso chamamos de **controle de fluxo**. Provavelmente o mais conhecido comando de controle de fluxo é o `if`. \n",
    "\n",
    "O `if` funciona como maneira de dizer ao programa uma condição para executar alguma ação. Seu funcionamento é baseado em comparações e definições de blocos de ação. Todo `if` pode ser seguido de um ou mais comandos `elif` (que é uma maneira curta de dizer `else if`) e de um comando `else`. O esqueleto deste fluxo é dado a seguir:\n",
    "\n",
    "-----------------------------------------\n",
    "* Se (**alguma condição**):\n",
    "            - execute alguma ação\n",
    "* Se (**alguma outra condição**)\n",
    "            - execute alguma ação\n",
    "* Se (**alguma outra condição**)\n",
    "            - execute alguma ação\n",
    "* ...\n",
    "* Se (**nenhuma das condições acima**)\n",
    "            - execute alguma ação\n",
    "\n",
    "Traduzindo para o Python:\n",
    "\n",
    "* `if` **condição**:\n",
    "            - execute alguma ação\n",
    "* `elif` (**alguma outra condição**):\n",
    "            - execute alguma ação\n",
    "* `elif` (**alguma outra condição**):\n",
    "            - execute alguma ação\n",
    "* ...\n",
    "* `else`:\n",
    "            - execute alguma ação"
   ]
  },
  {
   "cell_type": "code",
   "execution_count": 12,
   "metadata": {},
   "outputs": [
    {
     "name": "stdout",
     "output_type": "stream",
     "text": [
      "x é maior que dois!\n"
     ]
    }
   ],
   "source": [
    "# Exemplo:\n",
    "\n",
    "x = 8\n",
    "\n",
    "if x > 2:\n",
    "    print(\"x é maior que dois!\")\n",
    "elif x ==2:\n",
    "    print(\"x é igual a dois!\")\n",
    "else:\n",
    "    print(\"x é maior que dois!\")"
   ]
  },
  {
   "cell_type": "markdown",
   "metadata": {},
   "source": [
    "Bom, de fato 8 é maior que dois. Vamos aproveitar e ver uma maneira de deixar o valor de `x` dinâmico. Fazemos isso com a função `input()`. Esta é uma função que pede ao usuário um valor a ser atribuído em alguma variável:\n"
   ]
  },
  {
   "cell_type": "markdown",
   "metadata": {},
   "source": [
    "**Detalhe importante:** note que ao final da linha que começa com `if`, `elif` ou `else` existe um `:`. Isso indica o fim do teste condicional. Abaixo disso, tudo o que queremos que seja executado se a condição for verdadeira está com um espaço (um TAB). Assim, definimos um **bloco de indentação** que são comandos executados apenas se uma certa condição é alcançada.\n",
    "\n",
    "Por exemplo, veja a célula abaixo:"
   ]
  },
  {
   "cell_type": "code",
   "execution_count": 17,
   "metadata": {},
   "outputs": [],
   "source": [
    "N = 4\n",
    "\n",
    "if N == 3:\n",
    "    print(N)\n",
    "    print(\"Oi!\")"
   ]
  },
  {
   "cell_type": "markdown",
   "metadata": {},
   "source": [
    "Nada é impresso acima porque N == 3 é falso!\n",
    "\n",
    "Mas, mudando a indentação:"
   ]
  },
  {
   "cell_type": "code",
   "execution_count": 18,
   "metadata": {},
   "outputs": [
    {
     "name": "stdout",
     "output_type": "stream",
     "text": [
      "Oi!\n"
     ]
    }
   ],
   "source": [
    "N = 4\n",
    "\n",
    "if N == 3:\n",
    "    print(N)\n",
    "print(\"Oi!\")"
   ]
  },
  {
   "cell_type": "markdown",
   "metadata": {},
   "source": [
    "O Python entende que o print(\"Oi!\") está fora do bloco do `if`!"
   ]
  },
  {
   "cell_type": "code",
   "execution_count": 13,
   "metadata": {},
   "outputs": [
    {
     "name": "stdout",
     "output_type": "stream",
     "text": [
      "Informe um número inteiro: 4\n",
      "4\n"
     ]
    }
   ],
   "source": [
    "# Ao rodar esta célula, você será pedido para informar um inteiro. Digite o valor que quiser e aperte `Enter`\n",
    "y = input(\"Informe um número inteiro: \")\n",
    "print(y)"
   ]
  },
  {
   "cell_type": "markdown",
   "metadata": {},
   "source": [
    "Temos o valor do inteiro que você escolheu acima, podemos testá-lo:"
   ]
  },
  {
   "cell_type": "code",
   "execution_count": null,
   "metadata": {},
   "outputs": [],
   "source": [
    "if y > 2:\n",
    "    print(\"Valor maior que dois!\")\n",
    "elif y == 2:\n",
    "    print(\"Você escolheu o dois!\")\n",
    "else:\n",
    "    print(\"valor maior que dois!\")"
   ]
  },
  {
   "cell_type": "markdown",
   "metadata": {},
   "source": [
    "Deu erro, né? Você consegue entender por que?\n",
    "\n",
    "**Dica, veja o type(y)!**"
   ]
  },
  {
   "cell_type": "markdown",
   "metadata": {},
   "source": [
    "# Exercício\n",
    "\n",
    "No primeiro documento enviado, tivemos o desafio:\n",
    "\n",
    "Declare uma variável x0 = 2.0. Declare outra variável v = 5. Escreva uma expressão para calcular a posição de um móvel em MRU em qualquer instante t sabendo que este possui posição inicial x0 e velocidade v.\n",
    "\n",
    "Use este expressão para calcular as posições em 10 tempos diferentes. Dica, antes da expressão funcionar, você precisará declarar um valor para t.\n",
    "\n",
    "Sua solução poderia ser da forma:"
   ]
  },
  {
   "cell_type": "code",
   "execution_count": 21,
   "metadata": {},
   "outputs": [
    {
     "name": "stdout",
     "output_type": "stream",
     "text": [
      "7.0\n"
     ]
    }
   ],
   "source": [
    "x0 = 2.0\n",
    "v = 5.0\n",
    "\n",
    "t = 1\n",
    "\n",
    "x = x0 + v*t\n",
    "\n",
    "print(x)"
   ]
  },
  {
   "cell_type": "markdown",
   "metadata": {},
   "source": [
    "Conforme mudamos `t`, o valor de x muda (claro!). Usando condicionais, faça um programa para perguntar (com o `input()` ) um valor para `t`. Fazendo isso, teste para ver se o valor de `x` correspondente a este `t` é maior ou menor do que `100`."
   ]
  },
  {
   "cell_type": "code",
   "execution_count": null,
   "metadata": {},
   "outputs": [],
   "source": [
    "# Faça aqui!\n"
   ]
  },
  {
   "cell_type": "markdown",
   "metadata": {},
   "source": [
    "# Desafio"
   ]
  },
  {
   "cell_type": "markdown",
   "metadata": {},
   "source": [
    "Faça um programa que pede um inteiro como `input` e verifica se ele é par ou ímpar. Após informar o número, imprima:\n",
    "\"O número é par!\" ou \"O número é ímpar\"\n",
    "\n",
    "Dica: veja a tabela de operações da primeira \"aula\"!"
   ]
  },
  {
   "cell_type": "code",
   "execution_count": null,
   "metadata": {},
   "outputs": [],
   "source": []
  }
 ],
 "metadata": {
  "colab": {
   "collapsed_sections": [],
   "name": "2-Strings.ipynb",
   "provenance": []
  },
  "kernelspec": {
   "display_name": "Python 3",
   "language": "python",
   "name": "python3"
  },
  "language_info": {
   "codemirror_mode": {
    "name": "ipython",
    "version": 3
   },
   "file_extension": ".py",
   "mimetype": "text/x-python",
   "name": "python",
   "nbconvert_exporter": "python",
   "pygments_lexer": "ipython3",
   "version": "3.8.2"
  }
 },
 "nbformat": 4,
 "nbformat_minor": 1
}
