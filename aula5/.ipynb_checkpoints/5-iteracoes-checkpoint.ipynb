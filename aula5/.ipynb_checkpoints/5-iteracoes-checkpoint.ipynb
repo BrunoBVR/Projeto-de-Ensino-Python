{
 "cells": [
  {
   "cell_type": "markdown",
   "metadata": {
    "colab_type": "text",
    "id": "SHbMPISpmozK"
   },
   "source": [
    "## <center>Introdução à Linguagem Python</center>\n",
    "###  <center>Projeto de ensino - IFB</center>\n",
    "---\n",
    "## <center>5- Iterações</center>\n",
    "##### <center>Prof.: Bruno V. Ribeiro"
   ]
  },
  {
   "cell_type": "markdown",
   "metadata": {
    "colab_type": "text",
    "id": "oQiBqoX8mozN"
   },
   "source": [
    "Muitas vezes, precisamos que nossos programas repitam a mesma ação um número muito grande de vezes (avançar um objeto no tempo a cada instante, somar vários números, contar ocorrências, entre outros).\n",
    "A execução repetida de uma sequência de instruções é chamada de iteração (iteration). Como iterar é muito comum, `Python` tem várias características para torná-la mais fácil.\n",
    "Um bloco básico de qualquer programa é o que permite repetir algum código várias e várias vezes. Na ciência da computação nos referimos a essa ideia repetitiva por **iteração**."
   ]
  },
  {
   "cell_type": "markdown",
   "metadata": {},
   "source": [
    "## Comando `for`"
   ]
  },
  {
   "cell_type": "markdown",
   "metadata": {},
   "source": [
    "O comando for do Python **itera** (faz algo repetidamente) sobre os itens de qualquer sequência (seja uma lista ou uma string), na ordem que aparecem na sequência. Por exemplo:"
   ]
  },
  {
   "cell_type": "code",
   "execution_count": 1,
   "metadata": {},
   "outputs": [
    {
     "name": "stdout",
     "output_type": "stream",
     "text": [
      "oi\n",
      "tudo\n",
      "bem\n",
      "?\n"
     ]
    }
   ],
   "source": [
    "lista = ['oi','tudo','bem','?']\n",
    "for elemento in lista:\n",
    "    print(elemento)"
   ]
  },
  {
   "cell_type": "markdown",
   "metadata": {},
   "source": [
    "Vamos entender cada linha acima:\n",
    "* Primeiro definimos uma lista com quatro elementos (ou itens) do tipo string: 'oi', 'tudo', 'bem', '?'\n",
    "* O comando `for` precisa ser informado do que iterar e onde iterar. Neste exemplo estamos iterando o `elemento` na `lista`.\n",
    "* Para cada `elemento` da `lista`, passamos um bloco de comando iniciado pelo `:`. Neste caso, estamos imprimindo cada `elemento` com a função `print()`. NOTEM: o bloco precisa ter a indentação correta, assim como no bloco definido por `if`s."
   ]
  },
  {
   "cell_type": "markdown",
   "metadata": {},
   "source": [
    "Em Python, o comando `for` nos permite escrever programas que implementam iterações. Por exemplo, vamos assumir que temos alguns amigos e que gostaríamos de enviar para cada um deles um email convidando-os para a nossa festa. Ainda não sabemos como enviar emails, então por enquanto vamos apenas imprimir uma mensagem para cada amigo."
   ]
  },
  {
   "cell_type": "code",
   "execution_count": 2,
   "metadata": {},
   "outputs": [
    {
     "name": "stdout",
     "output_type": "stream",
     "text": [
      "Olá  Antonio   Por favor venha à minha festa no sábado!\n",
      "Olá  Renata   Por favor venha à minha festa no sábado!\n",
      "Olá  Raquel   Por favor venha à minha festa no sábado!\n",
      "Olá  Mateus   Por favor venha à minha festa no sábado!\n",
      "Olá  Pedro   Por favor venha à minha festa no sábado!\n",
      "Olá  Julia   Por favor venha à minha festa no sábado!\n",
      "Olá  Bruno   Por favor venha à minha festa no sábado!\n"
     ]
    }
   ],
   "source": [
    "for amigo in [\"Antonio\", \"Renata\", \"Raquel\", \"Mateus\", \"Pedro\", \"Julia\", \"Bruno\"]:\n",
    "    print(\"Olá \", amigo, \"  Por favor venha à minha festa no sábado!\")"
   ]
  },
  {
   "cell_type": "markdown",
   "metadata": {},
   "source": [
    "Dê uma olhada na saída produzida quando você roda a célula (`Shift+Enter`). Existe uma linha impressa para cada amigo. Isso funciona assim:\n",
    "\n",
    "* `amigo` nesse comando `for` é chamado de variável do laço (ou **loop*).\n",
    "* A lista de nomes em colchetes é chamada de lista em Python. Listas são muito úteis. Vimos muitas utilidades para elas.\n",
    "* A linha 2 é o corpo do laço. O corpo do laço é sempre recuado de um `tab`. Esse recuo determina exatamente que comandos estão “dentro do laço”. O corpo do laço é executado uma vez para cada nome na lista.\n",
    "* A cada iteração ou passagem do laço, primeiro é feito um teste que verifica se ainda existem itens para serem processados. Se não há mais nenhum (isso é chamado de condição de parada do laço), o laço termina. A execução do programa continua na próxima instrução após o corpo do laço.\n",
    "* Se ainda houver itens a serem processados, a variável do laço é atualizada para referenciar o próximo item da lista. Isto significa, neste caso, que o corpo do laço é executado sete vezes, e em cada vez `amigo` fará referência a um amigo diferente.\n",
    "* No final de cada execução do corpo do laço, o Python volta ao comando `for` para ver se há mais itens a serem manipulados."
   ]
  },
  {
   "cell_type": "markdown",
   "metadata": {},
   "source": [
    "Note que o nome que damos à variável de laço é completamente arbitrário. Ele é apenas um nome que damos para que o programa saiba \"apontar\" para o lugar certo. Apesar de ser arbitrário, tentamos sempre seguir uma lógica para que nosso código faça sentido para quem for ler. Por exemplo, no caso acima, usamos o nome `amigo` pois estamos iterando em uma lista de nomes de amigos. Podemos mudar, mas pode ficar sem sentido, por exemplo:"
   ]
  },
  {
   "cell_type": "code",
   "execution_count": 3,
   "metadata": {},
   "outputs": [
    {
     "name": "stdout",
     "output_type": "stream",
     "text": [
      "Olá  Antonio   Por favor venha à minha festa no sábado!\n",
      "Olá  Renata   Por favor venha à minha festa no sábado!\n",
      "Olá  Raquel   Por favor venha à minha festa no sábado!\n",
      "Olá  Mateus   Por favor venha à minha festa no sábado!\n",
      "Olá  Pedro   Por favor venha à minha festa no sábado!\n",
      "Olá  Julia   Por favor venha à minha festa no sábado!\n",
      "Olá  Bruno   Por favor venha à minha festa no sábado!\n"
     ]
    }
   ],
   "source": [
    "for abobrinha in [\"Antonio\", \"Renata\", \"Raquel\", \"Mateus\", \"Pedro\", \"Julia\", \"Bruno\"]:\n",
    "    print(\"Olá \", abobrinha, \"  Por favor venha à minha festa no sábado!\")"
   ]
  },
  {
   "cell_type": "markdown",
   "metadata": {},
   "source": [
    "Por enquanto mostramos iterações em listas com `strings`. Mas, para nós será muito mais usual usarmos laços em listas com valores numéricos, que também é possível usando `for`:"
   ]
  },
  {
   "cell_type": "code",
   "execution_count": 4,
   "metadata": {},
   "outputs": [
    {
     "name": "stdout",
     "output_type": "stream",
     "text": [
      "0\n",
      "1\n",
      "2\n",
      "3\n",
      "4\n",
      "5\n",
      "6\n",
      "7\n",
      "8\n",
      "9\n",
      "10\n"
     ]
    }
   ],
   "source": [
    "numeros = [0,1,2,3,4,5,6,7,8,9,10]\n",
    "\n",
    "for i in numeros:\n",
    "    print(i)"
   ]
  },
  {
   "cell_type": "markdown",
   "metadata": {},
   "source": [
    "**Note:** usei o `i` como variável iterável para economizar um pouco de espaço (poderia usar `número`). Aliás, é usual usarmos `i`, `j` e `k` para inteiros.\n",
    "Usando laços podemos realizar operações matemáticas interessantes como, por exemplo, a soma dos números de 0 a 10:"
   ]
  },
  {
   "cell_type": "code",
   "execution_count": 5,
   "metadata": {},
   "outputs": [
    {
     "name": "stdout",
     "output_type": "stream",
     "text": [
      "55\n"
     ]
    }
   ],
   "source": [
    "numeros = [0,1,2,3,4,5,6,7,8,9,10]\n",
    "\n",
    "soma = 0\n",
    "for i in numeros:\n",
    "    soma = soma + i\n",
    "    \n",
    "print(soma)    "
   ]
  },
  {
   "cell_type": "markdown",
   "metadata": {},
   "source": [
    "Ou, o produto de 1 a 10 (se incluirmos o 0 o produto será zero...):"
   ]
  },
  {
   "cell_type": "code",
   "execution_count": 6,
   "metadata": {},
   "outputs": [
    {
     "name": "stdout",
     "output_type": "stream",
     "text": [
      "3628800\n"
     ]
    }
   ],
   "source": [
    "numeros = [1,2,3,4,5,6,7,8,9,10]\n",
    "\n",
    "produto = 1\n",
    "for i in numeros:\n",
    "    produto = produto * i\n",
    "    \n",
    "print(produto)"
   ]
  },
  {
   "cell_type": "markdown",
   "metadata": {},
   "source": [
    "#### Um comentário aqui para melhorar nossa escrita de códigos:\n",
    "\n",
    "A linha `soma = soma + i` pega o atual valor de `soma`e acrescenta `i`. Existe uma maneira mais compacta de dizer ao Python para fazer isso e economizar um pouco de texto:\n",
    "* `soma += i`: isso diz ao programa pegar somar ao atual valor de `soma` a quantidade `i`.\n",
    "\n",
    "De maneira análoga, podemos substituir `soma = soma * i` por `soma *= i`.\n",
    "\n",
    "Na célula abaixo, reescreva (**sem usar Ctrl+C e Ctrl+V**) as duas últimas células usando esta nova notação."
   ]
  },
  {
   "cell_type": "code",
   "execution_count": null,
   "metadata": {},
   "outputs": [],
   "source": [
    "# Faça aqui o que se pede\n"
   ]
  },
  {
   "cell_type": "markdown",
   "metadata": {},
   "source": [
    "Seria muito tedioso fazer este tipo de iterações se pensarmos em números muito maiores. Por exemplo, se quisermos somar todos os números de 0 a 100000 não seria legal escrevermos 100000 números em uma lista para depois iniciar o `for`.\n",
    "Para tarefas como esta, se você precisa iterar sobre sequências numéricas, a função embutida `range()` é a resposta. Ela gera progressões aritméticas:"
   ]
  },
  {
   "cell_type": "code",
   "execution_count": 9,
   "metadata": {},
   "outputs": [
    {
     "name": "stdout",
     "output_type": "stream",
     "text": [
      "0\n",
      "1\n",
      "2\n",
      "3\n",
      "4\n",
      "5\n",
      "6\n",
      "7\n",
      "8\n",
      "9\n"
     ]
    }
   ],
   "source": [
    "for i in range(10):\n",
    "    print(i)"
   ]
  },
  {
   "cell_type": "markdown",
   "metadata": {},
   "source": [
    "Veja o código comentado para entender melhor:"
   ]
  },
  {
   "cell_type": "code",
   "execution_count": 11,
   "metadata": {},
   "outputs": [
    {
     "name": "stdout",
     "output_type": "stream",
     "text": [
      "Primeiro exemplo:\n",
      "0\n",
      "1\n",
      "2\n",
      "3\n",
      "----------------------------------------\n",
      "Segundo exemplo:\n",
      "0\n",
      "1\n",
      "2\n",
      "3\n",
      "4\n",
      "5\n",
      "6\n",
      "7\n",
      "8\n",
      "9\n"
     ]
    }
   ],
   "source": [
    "print('Primeiro exemplo:')\n",
    "for i in range(4):\n",
    "    print(i)\n",
    "    # Executa o corpo com i = 0, depois 1, depois 2, depois 3\n",
    "    \n",
    "print(40*'-')    \n",
    "print('Segundo exemplo:')    \n",
    "for x in range(10):\n",
    "    print(x)\n",
    "    # x recebe um valor de [0, 1, 2, 3, 4, 5, 6, 7, 8, 9] de cada vez"
   ]
  },
  {
   "cell_type": "markdown",
   "metadata": {},
   "source": [
    "O ponto de parada fornecido nunca é incluído na lista: `range(10)` gera uma lista com 10 valores, exatamente os índices válidos para uma sequência de comprimento 10 (0,1,2,3,4,5,6,7,8,9). É possível iniciar o intervalo em outro número, ou alterar a razão da progressão (inclusive com passo negativo):"
   ]
  },
  {
   "cell_type": "code",
   "execution_count": 12,
   "metadata": {},
   "outputs": [
    {
     "name": "stdout",
     "output_type": "stream",
     "text": [
      "5\n",
      "6\n",
      "7\n",
      "8\n",
      "9\n"
     ]
    }
   ],
   "source": [
    "for i in range(5, 10):\n",
    "    print(i)"
   ]
  },
  {
   "cell_type": "code",
   "execution_count": 13,
   "metadata": {},
   "outputs": [
    {
     "name": "stdout",
     "output_type": "stream",
     "text": [
      "0\n",
      "3\n",
      "6\n",
      "9\n"
     ]
    }
   ],
   "source": [
    "for i in range(0, 10, 3):\n",
    "    print(i)"
   ]
  },
  {
   "cell_type": "code",
   "execution_count": 14,
   "metadata": {},
   "outputs": [
    {
     "name": "stdout",
     "output_type": "stream",
     "text": [
      "-10\n",
      "-40\n",
      "-70\n"
     ]
    }
   ],
   "source": [
    "for i in range(-10, -100, -30):\n",
    "    print(i)"
   ]
  },
  {
   "cell_type": "markdown",
   "metadata": {},
   "source": [
    "## Exercício rápido:\n",
    "\n",
    "1) Use o que aprendeu até aqui para somar todos os números de 0 a 1000000.\n",
    "2) Some apenas os números pares de 0 a 1000000.\n",
    "3) Some apenas os múltiplos de 5 de 0 a 1000000."
   ]
  },
  {
   "cell_type": "code",
   "execution_count": null,
   "metadata": {},
   "outputs": [],
   "source": [
    "# Faça aqui o exercício."
   ]
  },
  {
   "cell_type": "code",
   "execution_count": null,
   "metadata": {},
   "outputs": [],
   "source": []
  },
  {
   "cell_type": "code",
   "execution_count": null,
   "metadata": {},
   "outputs": [],
   "source": []
  },
  {
   "cell_type": "code",
   "execution_count": null,
   "metadata": {},
   "outputs": [],
   "source": []
  },
  {
   "cell_type": "code",
   "execution_count": null,
   "metadata": {},
   "outputs": [],
   "source": []
  },
  {
   "cell_type": "code",
   "execution_count": 1,
   "metadata": {
    "colab": {},
    "colab_type": "code",
    "id": "cAPI3isaBYBy",
    "outputId": "f1445bc8-bda8-4395-fa68-8a400b3832c4"
   },
   "outputs": [
    {
     "data": {
      "text/plain": [
       "True"
      ]
     },
     "execution_count": 1,
     "metadata": {},
     "output_type": "execute_result"
    }
   ],
   "source": [
    "5 > 4"
   ]
  },
  {
   "cell_type": "markdown",
   "metadata": {
    "colab_type": "text",
    "id": "NNsQw-ycptaU"
   },
   "source": [
    "**Para executar o código de uma célula (este documento do GoogleColab é divido em células executáveis), selecione a célula e aperte Shift+Enter.**"
   ]
  },
  {
   "cell_type": "markdown",
   "metadata": {},
   "source": [
    "Note que passamos ao Python dois números para comparar e ele retornou (como resultado da execução da célula) um `boolean`, que, no caso, foi `True`. Ou seja, perguntamos se 5 é maior que 4 (`5 > 4`) e ele nos diz que isso é verdade (`True`). Veja os exemplos abaixo e pense nos resultados:"
   ]
  },
  {
   "cell_type": "code",
   "execution_count": 2,
   "metadata": {
    "colab": {
     "base_uri": "https://localhost:8080/",
     "height": 35
    },
    "colab_type": "code",
    "id": "avVP-UTPmozP",
    "outputId": "dd0a19c0-f3b8-4f35-8c15-8170b350aa51"
   },
   "outputs": [
    {
     "name": "stdout",
     "output_type": "stream",
     "text": [
      "True\n",
      "False\n",
      "True\n",
      "True\n",
      "True\n"
     ]
    }
   ],
   "source": [
    "print(5 > 2)\n",
    "\n",
    "print(3 < 1)\n",
    "\n",
    "print(5 > 2 * 2)\n",
    "\n",
    "print(1 == 1)\n",
    "\n",
    "print(5 != 2)\n"
   ]
  },
  {
   "cell_type": "markdown",
   "metadata": {
    "colab_type": "text",
    "id": "nq89zZqYmozV"
   },
   "source": [
    "Note duas coisas *diferentes* nesse célula: \n",
    "* o operador `==` -> verifica a igualdade. Usamos até aqui o operador `=` para atribuir valores. Esta diferença é bem importante: `=` atribui valores, `==` compara valores!\n",
    "* o operador `!=` -> o sinal `!` significa uma negação, então `!=` significa \"não é igual\"."
   ]
  },
  {
   "cell_type": "markdown",
   "metadata": {},
   "source": [
    "Já vimos `>` e `<`, mas o que significam `>=` e `<=`? Leia da seguinte forma:\n",
    "\n",
    "* `x > y` significa: x é maior que y\n",
    "* `x < y` significa: x é menor que y\n",
    "* `x <= y` significa: x é menor ou igual a y\n",
    "* `x >= y` significa: x é maior ou igual a y"
   ]
  },
  {
   "cell_type": "code",
   "execution_count": 3,
   "metadata": {
    "colab": {},
    "colab_type": "code",
    "id": "KYsxiid2BYB_"
   },
   "outputs": [
    {
     "name": "stdout",
     "output_type": "stream",
     "text": [
      "True\n",
      "\n",
      "False\n"
     ]
    }
   ],
   "source": [
    "# Podemos usar variáveis para comparações\n",
    "\n",
    "a = 8\n",
    "b = 2\n",
    "\n",
    "print(a > b)\n",
    "print()\n",
    "print(a!= b*4)"
   ]
  },
  {
   "cell_type": "markdown",
   "metadata": {
    "colab_type": "text",
    "id": "EqdhPimkmozW"
   },
   "source": [
    "Você pode pedir ao Python para comprar quantos números quiser e ele vai te dar uma resposta!\n",
    "\n",
    "* **and** - se você usar o operador and, as duas comparações terão que ser verdadeiras para que a expressão seja verdadeira (`True`)\n",
    "* **or** - se você usar o operador or, apenas uma das comparações precisa ser verdadeira para que a expressão seja verdadeira (`True`)"
   ]
  },
  {
   "cell_type": "code",
   "execution_count": null,
   "metadata": {
    "colab": {},
    "colab_type": "code",
    "id": "XmjQ8A8qBYCE"
   },
   "outputs": [],
   "source": [
    "# Pense nos comandos abaixo antes de rodar:\n",
    "print( 2 < 8 and 2 > 1)\n",
    "\n",
    "print(2*8 == 16 or 1 > 8)\n",
    "\n",
    "print(2**3 > 7 and 4/2 < 2)\n"
   ]
  },
  {
   "cell_type": "markdown",
   "metadata": {},
   "source": [
    "Como pequeno desafio, tente pensar na linha abaixo antes de rodar:"
   ]
  },
  {
   "cell_type": "code",
   "execution_count": null,
   "metadata": {},
   "outputs": [],
   "source": [
    "print( int(3/2) > 1 or 8%2 != 0 or 2**(int(1/2)) > 1)"
   ]
  },
  {
   "cell_type": "markdown",
   "metadata": {},
   "source": [
    "Existe, ainda, o comando *not* que, basicamente inverte o valor do `boolean` que estamos trabalhando. Veja o exemplo:"
   ]
  },
  {
   "cell_type": "code",
   "execution_count": 11,
   "metadata": {},
   "outputs": [
    {
     "data": {
      "text/plain": [
       "True"
      ]
     },
     "execution_count": 11,
     "metadata": {},
     "output_type": "execute_result"
    }
   ],
   "source": [
    "not 2 > 4"
   ]
  },
  {
   "cell_type": "markdown",
   "metadata": {},
   "source": [
    "Obviamente 2 > 4 é falso, mas a inclusão do **not** inverteu o resultado. Funciona como se a pergunta fosse invertida: \n",
    "* Eu: \"Dois não é maior que quatro, né?\"\n",
    "* Python: \"Correto!\""
   ]
  },
  {
   "cell_type": "markdown",
   "metadata": {},
   "source": [
    "# Controles de fluxo\n",
    "\n",
    "Sabendo que existem maneiras de comparar objetos em Python, podemos criar maneiras de nosso programa funcionar de uma ou outra forma baseado nos resultados de comparações. A isso chamamos de **controle de fluxo**. Provavelmente o mais conhecido comando de controle de fluxo é o `if`. \n",
    "\n",
    "O `if` funciona como maneira de dizer ao programa uma condição para executar alguma ação. Seu funcionamento é baseado em comparações e definições de blocos de ação. Todo `if` pode ser seguido de um ou mais comandos `elif` (que é uma maneira curta de dizer `else if`) e de um comando `else`. O esqueleto deste fluxo é dado a seguir:\n",
    "\n",
    "-----------------------------------------\n",
    "* Se (**alguma condição**):\n",
    "            - execute alguma ação\n",
    "* Se (**alguma outra condição**)\n",
    "            - execute alguma ação\n",
    "* Se (**alguma outra condição**)\n",
    "            - execute alguma ação\n",
    "* ...\n",
    "* Se (**nenhuma das condições acima**)\n",
    "            - execute alguma ação\n",
    "\n",
    "Traduzindo para o Python:\n",
    "\n",
    "* `if` **condição**:\n",
    "            - execute alguma ação\n",
    "* `elif` (**alguma outra condição**):\n",
    "            - execute alguma ação\n",
    "* `elif` (**alguma outra condição**):\n",
    "            - execute alguma ação\n",
    "* ...\n",
    "* `else`:\n",
    "            - execute alguma ação"
   ]
  },
  {
   "cell_type": "code",
   "execution_count": 12,
   "metadata": {},
   "outputs": [
    {
     "name": "stdout",
     "output_type": "stream",
     "text": [
      "x é maior que dois!\n"
     ]
    }
   ],
   "source": [
    "# Exemplo:\n",
    "\n",
    "x = 8\n",
    "\n",
    "if x > 2:\n",
    "    print(\"x é maior que dois!\")\n",
    "elif x ==2:\n",
    "    print(\"x é igual a dois!\")\n",
    "else:\n",
    "    print(\"x é maior que dois!\")"
   ]
  },
  {
   "cell_type": "markdown",
   "metadata": {},
   "source": [
    "Bom, de fato 8 é maior que dois. Vamos aproveitar e ver uma maneira de deixar o valor de `x` dinâmico. Fazemos isso com a função `input()`. Esta é uma função que pede ao usuário um valor a ser atribuído em alguma variável:\n"
   ]
  },
  {
   "cell_type": "markdown",
   "metadata": {},
   "source": [
    "**Detalhe importante:** note que ao final da linha que começa com `if`, `elif` ou `else` existe um `:`. Isso indica o fim do teste condicional. Abaixo disso, tudo o que queremos que seja executado se a condição for verdadeira está com um espaço (um TAB). Assim, definimos um **bloco de indentação** que são comandos executados apenas se uma certa condição é alcançada.\n",
    "\n",
    "Por exemplo, veja a célula abaixo:"
   ]
  },
  {
   "cell_type": "code",
   "execution_count": 17,
   "metadata": {},
   "outputs": [],
   "source": [
    "N = 4\n",
    "\n",
    "if N == 3:\n",
    "    print(N)\n",
    "    print(\"Oi!\")"
   ]
  },
  {
   "cell_type": "markdown",
   "metadata": {},
   "source": [
    "Nada é impresso acima porque N == 3 é falso!\n",
    "\n",
    "Mas, mudando a indentação:"
   ]
  },
  {
   "cell_type": "code",
   "execution_count": 18,
   "metadata": {},
   "outputs": [
    {
     "name": "stdout",
     "output_type": "stream",
     "text": [
      "Oi!\n"
     ]
    }
   ],
   "source": [
    "N = 4\n",
    "\n",
    "if N == 3:\n",
    "    print(N)\n",
    "print(\"Oi!\")"
   ]
  },
  {
   "cell_type": "markdown",
   "metadata": {},
   "source": [
    "O Python entende que o print(\"Oi!\") está fora do bloco do `if`!"
   ]
  },
  {
   "cell_type": "code",
   "execution_count": 13,
   "metadata": {},
   "outputs": [
    {
     "name": "stdout",
     "output_type": "stream",
     "text": [
      "Informe um número inteiro: 4\n",
      "4\n"
     ]
    }
   ],
   "source": [
    "# Ao rodar esta célula, você será pedido para informar um inteiro. Digite o valor que quiser e aperte `Enter`\n",
    "y = input(\"Informe um número inteiro: \")\n",
    "print(y)"
   ]
  },
  {
   "cell_type": "markdown",
   "metadata": {},
   "source": [
    "Temos o valor do inteiro que você escolheu acima, podemos testá-lo:"
   ]
  },
  {
   "cell_type": "code",
   "execution_count": null,
   "metadata": {},
   "outputs": [],
   "source": [
    "if y > 2:\n",
    "    print(\"Valor maior que dois!\")\n",
    "elif y == 2:\n",
    "    print(\"Você escolheu o dois!\")\n",
    "else:\n",
    "    print(\"valor maior que dois!\")"
   ]
  },
  {
   "cell_type": "markdown",
   "metadata": {},
   "source": [
    "Deu erro, né? Você consegue entender por que?\n",
    "\n",
    "**Dica, veja o type(y)!**"
   ]
  },
  {
   "cell_type": "markdown",
   "metadata": {},
   "source": [
    "# Exercício\n",
    "\n",
    "No primeiro documento enviado, tivemos o desafio:\n",
    "\n",
    "Declare uma variável x0 = 2.0. Declare outra variável v = 5. Escreva uma expressão para calcular a posição de um móvel em MRU em qualquer instante t sabendo que este possui posição inicial x0 e velocidade v.\n",
    "\n",
    "Use este expressão para calcular as posições em 10 tempos diferentes. Dica, antes da expressão funcionar, você precisará declarar um valor para t.\n",
    "\n",
    "Sua solução poderia ser da forma:"
   ]
  },
  {
   "cell_type": "code",
   "execution_count": 21,
   "metadata": {},
   "outputs": [
    {
     "name": "stdout",
     "output_type": "stream",
     "text": [
      "7.0\n"
     ]
    }
   ],
   "source": [
    "x0 = 2.0\n",
    "v = 5.0\n",
    "\n",
    "t = 1\n",
    "\n",
    "x = x0 + v*t\n",
    "\n",
    "print(x)"
   ]
  },
  {
   "cell_type": "markdown",
   "metadata": {},
   "source": [
    "Conforme mudamos `t`, o valor de x muda (claro!). Usando condicionais, faça um programa para perguntar (com o `input()` ) um valor para `t`. Fazendo isso, teste para ver se o valor de `x` correspondente a este `t` é maior ou menor do que `100`."
   ]
  },
  {
   "cell_type": "code",
   "execution_count": null,
   "metadata": {},
   "outputs": [],
   "source": [
    "# Faça aqui!\n"
   ]
  },
  {
   "cell_type": "markdown",
   "metadata": {},
   "source": [
    "# Desafio"
   ]
  },
  {
   "cell_type": "markdown",
   "metadata": {},
   "source": [
    "Faça um programa que pede um inteiro como `input` e verifica se ele é par ou ímpar. Após informar o número, imprima:\n",
    "\"O número é par!\" ou \"O número é ímpar\"\n",
    "\n",
    "Dica: veja a tabela de operações da primeira \"aula\"!"
   ]
  },
  {
   "cell_type": "code",
   "execution_count": null,
   "metadata": {},
   "outputs": [],
   "source": []
  }
 ],
 "metadata": {
  "colab": {
   "collapsed_sections": [],
   "name": "2-Strings.ipynb",
   "provenance": []
  },
  "kernelspec": {
   "display_name": "Python 3",
   "language": "python",
   "name": "python3"
  },
  "language_info": {
   "codemirror_mode": {
    "name": "ipython",
    "version": 3
   },
   "file_extension": ".py",
   "mimetype": "text/x-python",
   "name": "python",
   "nbconvert_exporter": "python",
   "pygments_lexer": "ipython3",
   "version": "3.8.2"
  }
 },
 "nbformat": 4,
 "nbformat_minor": 1
}
