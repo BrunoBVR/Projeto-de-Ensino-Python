{
 "cells": [
  {
   "cell_type": "markdown",
   "metadata": {
    "colab_type": "text",
    "id": "SHbMPISpmozK"
   },
   "source": [
    "## <center>Introdução à Linguagem Python</center>\n",
    "###  <center>Projeto de ensino - IFB</center>\n",
    "---\n",
    "## <center>5- Iterações</center>\n",
    "##### <center>Prof.: Bruno V. Ribeiro"
   ]
  },
  {
   "cell_type": "markdown",
   "metadata": {
    "colab_type": "text",
    "id": "oQiBqoX8mozN"
   },
   "source": [
    "Muitas vezes, precisamos que nossos programas repitam a mesma ação um número muito grande de vezes (avançar um objeto no tempo a cada instante, somar vários números, contar ocorrências, entre outros).\n",
    "A execução repetida de uma sequência de instruções é chamada de iteração (iteration). Como iterar é muito comum, `Python` tem várias características para torná-la mais fácil.\n",
    "Um bloco básico de qualquer programa é o que permite repetir algum código várias e várias vezes. Na ciência da computação nos referimos a essa ideia repetitiva por **iteração**."
   ]
  },
  {
   "cell_type": "markdown",
   "metadata": {},
   "source": [
    "## Comando `for`"
   ]
  },
  {
   "cell_type": "markdown",
   "metadata": {},
   "source": [
    "O comando for do Python **itera** (faz algo repetidamente) sobre os itens de qualquer sequência (seja uma lista ou uma string), na ordem que aparecem na sequência. Por exemplo:"
   ]
  },
  {
   "cell_type": "code",
   "execution_count": 1,
   "metadata": {},
   "outputs": [
    {
     "name": "stdout",
     "output_type": "stream",
     "text": [
      "oi\n",
      "tudo\n",
      "bem\n",
      "?\n"
     ]
    }
   ],
   "source": [
    "lista = ['oi','tudo','bem','?']\n",
    "for elemento in lista:\n",
    "    print(elemento)"
   ]
  },
  {
   "cell_type": "markdown",
   "metadata": {},
   "source": [
    "Vamos entender cada linha acima:\n",
    "* Primeiro definimos uma lista com quatro elementos (ou itens) do tipo string: 'oi', 'tudo', 'bem', '?'\n",
    "* O comando `for` precisa ser informado do que iterar e onde iterar. Neste exemplo estamos iterando o `elemento` na `lista`.\n",
    "* Para cada `elemento` da `lista`, passamos um bloco de comando iniciado pelo `:`. Neste caso, estamos imprimindo cada `elemento` com a função `print()`. NOTEM: o bloco precisa ter a indentação correta, assim como no bloco definido por `if`s."
   ]
  },
  {
   "cell_type": "markdown",
   "metadata": {},
   "source": [
    "Em Python, o comando `for` nos permite escrever programas que implementam iterações. Por exemplo, vamos assumir que temos alguns amigos e que gostaríamos de enviar para cada um deles um email convidando-os para a nossa festa. Ainda não sabemos como enviar emails, então por enquanto vamos apenas imprimir uma mensagem para cada amigo."
   ]
  },
  {
   "cell_type": "code",
   "execution_count": 2,
   "metadata": {},
   "outputs": [
    {
     "name": "stdout",
     "output_type": "stream",
     "text": [
      "Olá  Antonio   Por favor venha à minha festa no sábado!\n",
      "Olá  Renata   Por favor venha à minha festa no sábado!\n",
      "Olá  Raquel   Por favor venha à minha festa no sábado!\n",
      "Olá  Mateus   Por favor venha à minha festa no sábado!\n",
      "Olá  Pedro   Por favor venha à minha festa no sábado!\n",
      "Olá  Julia   Por favor venha à minha festa no sábado!\n",
      "Olá  Bruno   Por favor venha à minha festa no sábado!\n"
     ]
    }
   ],
   "source": [
    "for amigo in [\"Antonio\", \"Renata\", \"Raquel\", \"Mateus\", \"Pedro\", \"Julia\", \"Bruno\"]:\n",
    "    print(\"Olá \", amigo, \"  Por favor venha à minha festa no sábado!\")"
   ]
  },
  {
   "cell_type": "markdown",
   "metadata": {},
   "source": [
    "Dê uma olhada na saída produzida quando você roda a célula (`Shift+Enter`). Existe uma linha impressa para cada amigo. Isso funciona assim:\n",
    "\n",
    "* `amigo` nesse comando `for` é chamado de variável do laço (ou **loop*).\n",
    "* A lista de nomes em colchetes é chamada de lista em Python. Listas são muito úteis. Vimos muitas utilidades para elas.\n",
    "* A linha 2 é o corpo do laço. O corpo do laço é sempre recuado de um `tab`. Esse recuo determina exatamente que comandos estão “dentro do laço”. O corpo do laço é executado uma vez para cada nome na lista.\n",
    "* A cada iteração ou passagem do laço, primeiro é feito um teste que verifica se ainda existem itens para serem processados. Se não há mais nenhum (isso é chamado de condição de parada do laço), o laço termina. A execução do programa continua na próxima instrução após o corpo do laço.\n",
    "* Se ainda houver itens a serem processados, a variável do laço é atualizada para referenciar o próximo item da lista. Isto significa, neste caso, que o corpo do laço é executado sete vezes, e em cada vez `amigo` fará referência a um amigo diferente.\n",
    "* No final de cada execução do corpo do laço, o Python volta ao comando `for` para ver se há mais itens a serem manipulados."
   ]
  },
  {
   "cell_type": "markdown",
   "metadata": {},
   "source": [
    "Note que o nome que damos à variável de laço é completamente arbitrário. Ele é apenas um nome que damos para que o programa saiba \"apontar\" para o lugar certo. Apesar de ser arbitrário, tentamos sempre seguir uma lógica para que nosso código faça sentido para quem for ler. Por exemplo, no caso acima, usamos o nome `amigo` pois estamos iterando em uma lista de nomes de amigos. Podemos mudar, mas pode ficar sem sentido, por exemplo:"
   ]
  },
  {
   "cell_type": "code",
   "execution_count": 3,
   "metadata": {},
   "outputs": [
    {
     "name": "stdout",
     "output_type": "stream",
     "text": [
      "Olá  Antonio   Por favor venha à minha festa no sábado!\n",
      "Olá  Renata   Por favor venha à minha festa no sábado!\n",
      "Olá  Raquel   Por favor venha à minha festa no sábado!\n",
      "Olá  Mateus   Por favor venha à minha festa no sábado!\n",
      "Olá  Pedro   Por favor venha à minha festa no sábado!\n",
      "Olá  Julia   Por favor venha à minha festa no sábado!\n",
      "Olá  Bruno   Por favor venha à minha festa no sábado!\n"
     ]
    }
   ],
   "source": [
    "for abobrinha in [\"Antonio\", \"Renata\", \"Raquel\", \"Mateus\", \"Pedro\", \"Julia\", \"Bruno\"]:\n",
    "    print(\"Olá \", abobrinha, \"  Por favor venha à minha festa no sábado!\")"
   ]
  },
  {
   "cell_type": "markdown",
   "metadata": {},
   "source": [
    "Por enquanto mostramos iterações em listas com `strings`. Mas, para nós será muito mais usual usarmos laços em listas com valores numéricos, que também é possível usando `for`:"
   ]
  },
  {
   "cell_type": "code",
   "execution_count": 4,
   "metadata": {},
   "outputs": [
    {
     "name": "stdout",
     "output_type": "stream",
     "text": [
      "0\n",
      "1\n",
      "2\n",
      "3\n",
      "4\n",
      "5\n",
      "6\n",
      "7\n",
      "8\n",
      "9\n",
      "10\n"
     ]
    }
   ],
   "source": [
    "numeros = [0,1,2,3,4,5,6,7,8,9,10]\n",
    "\n",
    "for i in numeros:\n",
    "    print(i)"
   ]
  },
  {
   "cell_type": "markdown",
   "metadata": {},
   "source": [
    "**Note:** usei o `i` como variável iterável para economizar um pouco de espaço (poderia usar `número`). Aliás, é usual usarmos `i`, `j` e `k` para inteiros.\n",
    "Usando laços podemos realizar operações matemáticas interessantes como, por exemplo, a soma dos números de 0 a 10:"
   ]
  },
  {
   "cell_type": "code",
   "execution_count": 5,
   "metadata": {},
   "outputs": [
    {
     "name": "stdout",
     "output_type": "stream",
     "text": [
      "55\n"
     ]
    }
   ],
   "source": [
    "numeros = [0,1,2,3,4,5,6,7,8,9,10]\n",
    "\n",
    "soma = 0\n",
    "for i in numeros:\n",
    "    soma = soma + i\n",
    "    \n",
    "print(soma)    "
   ]
  },
  {
   "cell_type": "markdown",
   "metadata": {},
   "source": [
    "Ou, o produto de 1 a 10 (se incluirmos o 0 o produto será zero...):"
   ]
  },
  {
   "cell_type": "code",
   "execution_count": 6,
   "metadata": {},
   "outputs": [
    {
     "name": "stdout",
     "output_type": "stream",
     "text": [
      "3628800\n"
     ]
    }
   ],
   "source": [
    "numeros = [1,2,3,4,5,6,7,8,9,10]\n",
    "\n",
    "produto = 1\n",
    "for i in numeros:\n",
    "    produto = produto * i\n",
    "    \n",
    "print(produto)"
   ]
  },
  {
   "cell_type": "markdown",
   "metadata": {},
   "source": [
    "#### Um comentário aqui para melhorar nossa escrita de códigos:\n",
    "\n",
    "A linha `soma = soma + i` pega o atual valor de `soma`e acrescenta `i`. Existe uma maneira mais compacta de dizer ao Python para fazer isso e economizar um pouco de texto:\n",
    "* `soma += i`: isso diz ao programa pegar somar ao atual valor de `soma` a quantidade `i`.\n",
    "\n",
    "De maneira análoga, podemos substituir `soma = soma * i` por `soma *= i`.\n",
    "\n",
    "Na célula abaixo, reescreva (**sem usar Ctrl+C e Ctrl+V**) as duas últimas células usando esta nova notação."
   ]
  },
  {
   "cell_type": "code",
   "execution_count": null,
   "metadata": {},
   "outputs": [],
   "source": [
    "# Faça aqui o que se pede\n"
   ]
  },
  {
   "cell_type": "markdown",
   "metadata": {},
   "source": [
    "Seria muito tedioso fazer este tipo de iterações se pensarmos em números muito maiores. Por exemplo, se quisermos somar todos os números de 0 a 100000 não seria legal escrevermos 100000 números em uma lista para depois iniciar o `for`.\n",
    "Para tarefas como esta, se você precisa iterar sobre sequências numéricas, a função embutida `range()` é a resposta. Ela gera progressões aritméticas:"
   ]
  },
  {
   "cell_type": "code",
   "execution_count": 9,
   "metadata": {},
   "outputs": [
    {
     "name": "stdout",
     "output_type": "stream",
     "text": [
      "0\n",
      "1\n",
      "2\n",
      "3\n",
      "4\n",
      "5\n",
      "6\n",
      "7\n",
      "8\n",
      "9\n"
     ]
    }
   ],
   "source": [
    "for i in range(10):\n",
    "    print(i)"
   ]
  },
  {
   "cell_type": "markdown",
   "metadata": {},
   "source": [
    "**Note que range(10) gera valores de 0 a 9. O limite superior (10, no caso) não é incluído!**\n",
    "\n",
    "Veja o código comentado para entender melhor:"
   ]
  },
  {
   "cell_type": "code",
   "execution_count": 11,
   "metadata": {},
   "outputs": [
    {
     "name": "stdout",
     "output_type": "stream",
     "text": [
      "Primeiro exemplo:\n",
      "0\n",
      "1\n",
      "2\n",
      "3\n",
      "----------------------------------------\n",
      "Segundo exemplo:\n",
      "0\n",
      "1\n",
      "2\n",
      "3\n",
      "4\n",
      "5\n",
      "6\n",
      "7\n",
      "8\n",
      "9\n"
     ]
    }
   ],
   "source": [
    "print('Primeiro exemplo:')\n",
    "for i in range(4):\n",
    "    print(i)\n",
    "    # Executa o corpo com i = 0, depois 1, depois 2, depois 3\n",
    "    \n",
    "print(40*'-')    \n",
    "print('Segundo exemplo:')    \n",
    "for x in range(10):\n",
    "    print(x)\n",
    "    # x recebe um valor de [0, 1, 2, 3, 4, 5, 6, 7, 8, 9] de cada vez"
   ]
  },
  {
   "cell_type": "markdown",
   "metadata": {},
   "source": [
    "O ponto de parada fornecido nunca é incluído na lista: `range(10)` gera uma lista com 10 valores, exatamente os índices válidos para uma sequência de comprimento 10 (0,1,2,3,4,5,6,7,8,9). É possível iniciar o intervalo em outro número, ou alterar a razão da progressão (inclusive com passo negativo):"
   ]
  },
  {
   "cell_type": "code",
   "execution_count": 12,
   "metadata": {},
   "outputs": [
    {
     "name": "stdout",
     "output_type": "stream",
     "text": [
      "5\n",
      "6\n",
      "7\n",
      "8\n",
      "9\n"
     ]
    }
   ],
   "source": [
    "for i in range(5, 10):\n",
    "    print(i)"
   ]
  },
  {
   "cell_type": "code",
   "execution_count": 13,
   "metadata": {},
   "outputs": [
    {
     "name": "stdout",
     "output_type": "stream",
     "text": [
      "0\n",
      "3\n",
      "6\n",
      "9\n"
     ]
    }
   ],
   "source": [
    "for i in range(0, 10, 3):\n",
    "    print(i)"
   ]
  },
  {
   "cell_type": "code",
   "execution_count": 14,
   "metadata": {},
   "outputs": [
    {
     "name": "stdout",
     "output_type": "stream",
     "text": [
      "-10\n",
      "-40\n",
      "-70\n"
     ]
    }
   ],
   "source": [
    "for i in range(-10, -100, -30):\n",
    "    print(i)"
   ]
  },
  {
   "cell_type": "markdown",
   "metadata": {},
   "source": [
    "Usando `range()` para somar números de 1 a 10:"
   ]
  },
  {
   "cell_type": "code",
   "execution_count": 17,
   "metadata": {},
   "outputs": [
    {
     "name": "stdout",
     "output_type": "stream",
     "text": [
      "55\n"
     ]
    }
   ],
   "source": [
    "soma = 0\n",
    "for numero in range(1,11):\n",
    "    soma += numero\n",
    "    \n",
    "print(soma)    "
   ]
  },
  {
   "cell_type": "markdown",
   "metadata": {},
   "source": [
    "Para rever, a variável `soma` é chamada de acumulador. Ela é inicializada com zero antes de iniciar o laço. A variável do laço, `numero` irá assumir os valores retornados pela chamada de função `range(1, 10+1)`. Note que esta chamada produz uma lista com todos os inteiros a partir de 1 até o valor de 10+1. Se não tivéssemos adicionado 1 em 10 a função `range` teria devolvido uma lista sem o valor `10` pois essa função não inclui o limite superior.\n",
    "\n",
    "O comando de atribuição, `soma += numero`, atualiza o valor de `soma` a cada iteração do laço. A variável `soma` recebe portanto o total parcial até um determinado instante da execução. Finalmente, o `print(soma)` imprime o valor de `soma` ao final do laço."
   ]
  },
  {
   "cell_type": "markdown",
   "metadata": {},
   "source": [
    "## Exercício rápido:\n",
    "\n",
    "1) Use o que aprendeu até aqui para somar todos os números de 0 a 1000000.\n",
    "\n",
    "2) Some apenas os números pares de 0 a 1000000.\n",
    "\n",
    "3) Some apenas os múltiplos de 5 de 0 a 1000000."
   ]
  },
  {
   "cell_type": "code",
   "execution_count": 18,
   "metadata": {},
   "outputs": [],
   "source": [
    "# Faça aqui o exercício.\n",
    "\n",
    "\n",
    "\n",
    "\n"
   ]
  },
  {
   "cell_type": "markdown",
   "metadata": {},
   "source": [
    "Podemos juntar as noções de laço e condicional para escrever códigos cada vez mais interessantes:"
   ]
  },
  {
   "cell_type": "code",
   "execution_count": 23,
   "metadata": {},
   "outputs": [
    {
     "name": "stdout",
     "output_type": "stream",
     "text": [
      "0  - Ainda não chegamos na metade do laço!\n",
      "1  - Ainda não chegamos na metade do laço!\n",
      "2  - Ainda não chegamos na metade do laço!\n",
      "3  - Ainda não chegamos na metade do laço!\n",
      "4  - Ainda não chegamos na metade do laço!\n",
      "5  - Ainda não chegamos na metade do laço!\n",
      "6  - Ainda não chegamos na metade do laço!\n",
      "7  - Ainda não chegamos na metade do laço!\n",
      "8  - Ainda não chegamos na metade do laço!\n",
      "9  - Ainda não chegamos na metade do laço!\n",
      "10  - Ainda não chegamos na metade do laço!\n",
      "11  - Ainda não chegamos na metade do laço!\n",
      "12  - Ainda não chegamos na metade do laço!\n",
      "13  - Ainda não chegamos na metade do laço!\n",
      "14  - Ainda não chegamos na metade do laço!\n",
      "15  - Ainda não chegamos na metade do laço!\n",
      "16  - Ainda não chegamos na metade do laço!\n",
      "17  - Ainda não chegamos na metade do laço!\n",
      "18  - Ainda não chegamos na metade do laço!\n",
      "19  - Ainda não chegamos na metade do laço!\n",
      "20  - Ainda não chegamos na metade do laço!\n",
      "21  - Ainda não chegamos na metade do laço!\n",
      "22  - Ainda não chegamos na metade do laço!\n",
      "23  - Ainda não chegamos na metade do laço!\n",
      "24  - Ainda não chegamos na metade do laço!\n",
      "25  - Ainda não chegamos na metade do laço!\n",
      "26  - Ainda não chegamos na metade do laço!\n",
      "27  - Ainda não chegamos na metade do laço!\n",
      "28  - Ainda não chegamos na metade do laço!\n",
      "29  - Ainda não chegamos na metade do laço!\n",
      "30  - Ainda não chegamos na metade do laço!\n",
      "31  - Ainda não chegamos na metade do laço!\n",
      "32  - Ainda não chegamos na metade do laço!\n",
      "33  - Ainda não chegamos na metade do laço!\n",
      "34  - Ainda não chegamos na metade do laço!\n",
      "35  - Ainda não chegamos na metade do laço!\n",
      "36  - Ainda não chegamos na metade do laço!\n",
      "37  - Ainda não chegamos na metade do laço!\n",
      "38  - Ainda não chegamos na metade do laço!\n",
      "39  - Ainda não chegamos na metade do laço!\n",
      "40  - Ainda não chegamos na metade do laço!\n",
      "41  - Ainda não chegamos na metade do laço!\n",
      "42  - Ainda não chegamos na metade do laço!\n",
      "43  - Ainda não chegamos na metade do laço!\n",
      "44  - Ainda não chegamos na metade do laço!\n",
      "45  - Ainda não chegamos na metade do laço!\n",
      "46  - Ainda não chegamos na metade do laço!\n",
      "47  - Ainda não chegamos na metade do laço!\n",
      "48  - Ainda não chegamos na metade do laço!\n",
      "49  - Ainda não chegamos na metade do laço!\n",
      "50 - Já passamos da metade!\n",
      "51 - Já passamos da metade!\n",
      "52 - Já passamos da metade!\n",
      "53 - Já passamos da metade!\n",
      "54 - Já passamos da metade!\n",
      "55 - Já passamos da metade!\n",
      "56 - Já passamos da metade!\n",
      "57 - Já passamos da metade!\n",
      "58 - Já passamos da metade!\n",
      "59 - Já passamos da metade!\n",
      "60 - Já passamos da metade!\n",
      "61 - Já passamos da metade!\n",
      "62 - Já passamos da metade!\n",
      "63 - Já passamos da metade!\n",
      "64 - Já passamos da metade!\n",
      "65 - Já passamos da metade!\n",
      "66 - Já passamos da metade!\n",
      "67 - Já passamos da metade!\n",
      "68 - Já passamos da metade!\n",
      "69 - Já passamos da metade!\n",
      "70 - Já passamos da metade!\n",
      "71 - Já passamos da metade!\n",
      "72 - Já passamos da metade!\n",
      "73 - Já passamos da metade!\n",
      "74 - Já passamos da metade!\n",
      "75 - Já passamos da metade!\n",
      "76 - Já passamos da metade!\n",
      "77 - Já passamos da metade!\n",
      "78 - Já passamos da metade!\n",
      "79 - Já passamos da metade!\n",
      "80 - Já passamos da metade!\n",
      "81 - Já passamos da metade!\n",
      "82 - Já passamos da metade!\n",
      "83 - Já passamos da metade!\n",
      "84 - Já passamos da metade!\n",
      "85 - Já passamos da metade!\n",
      "86 - Já passamos da metade!\n",
      "87 - Já passamos da metade!\n",
      "88 - Já passamos da metade!\n",
      "89 - Já passamos da metade!\n",
      "Estamos nos dez últimos números, uhuuu! Faltam:  9\n",
      "Estamos nos dez últimos números, uhuuu! Faltam:  8\n",
      "Estamos nos dez últimos números, uhuuu! Faltam:  7\n",
      "Estamos nos dez últimos números, uhuuu! Faltam:  6\n",
      "Estamos nos dez últimos números, uhuuu! Faltam:  5\n",
      "Estamos nos dez últimos números, uhuuu! Faltam:  4\n",
      "Estamos nos dez últimos números, uhuuu! Faltam:  3\n",
      "Estamos nos dez últimos números, uhuuu! Faltam:  2\n",
      "Estamos nos dez últimos números, uhuuu! Faltam:  1\n",
      "Estamos nos dez últimos números, uhuuu! Faltam:  0\n"
     ]
    }
   ],
   "source": [
    "qtd = 100\n",
    "\n",
    "for i in range(qtd):\n",
    "    if i < qtd/2:\n",
    "        print(i, \" - Ainda não chegamos na metade do laço!\")\n",
    "        \n",
    "    elif i >= qtd/2 and i < (qtd-10):\n",
    "        print(i, \"- Já passamos da metade!\")\n",
    "    \n",
    "    else:\n",
    "        print(\"Estamos nos dez últimos números, uhuuu! Faltam: \", (qtd-1) - i)"
   ]
  },
  {
   "cell_type": "markdown",
   "metadata": {},
   "source": [
    "Tente acompanhar cada linha da célula acima. Note que ao final de cada linha que se inicia com `for`, `if`, `elif` ou `else` existe um `:`. Cada vez que chegamos a um `:` definimos um bloco de execução que deve ser recuado com um TAB, por isso os espaços nas linhas 5, 8 e 11 da célula."
   ]
  },
  {
   "cell_type": "markdown",
   "metadata": {},
   "source": [
    "## Comando `break`"
   ]
  },
  {
   "cell_type": "markdown",
   "metadata": {},
   "source": [
    "O comando `break` finaliza a iteração e o programa continua a execução normalmente. O objetivo dessa instrução é fornecer a capacidade de forçar a interrupção da iteração. Veja o exemplo."
   ]
  },
  {
   "cell_type": "code",
   "execution_count": 24,
   "metadata": {},
   "outputs": [
    {
     "name": "stdout",
     "output_type": "stream",
     "text": [
      "0\n",
      "1\n",
      "2\n",
      "3\n",
      "4\n",
      "5\n",
      "6\n",
      "7\n",
      "8\n",
      "9\n",
      "10\n",
      "11\n",
      "12\n",
      "13\n",
      "14\n",
      "15\n",
      "16\n",
      "17\n",
      "18\n",
      "19\n",
      "20\n",
      "21\n",
      "22\n",
      "23\n",
      "24\n",
      "25\n",
      "26\n",
      "27\n",
      "28\n",
      "29\n",
      "30\n",
      "31\n",
      "32\n",
      "33\n",
      "34\n",
      "35\n",
      "36\n",
      "37\n",
      "38\n",
      "39\n",
      "40\n",
      "41\n",
      "42\n",
      "43\n",
      "44\n",
      "45\n",
      "46\n",
      "47\n",
      "48\n",
      "49\n",
      "50\n",
      "Chega de números!\n"
     ]
    }
   ],
   "source": [
    "for i in range (100):\n",
    "    print(i)\n",
    "    if i == 50:\n",
    "        print(\"Chega de números!\")\n",
    "        break"
   ]
  },
  {
   "cell_type": "markdown",
   "metadata": {},
   "source": [
    "Note que, ao chegar na condição `i == 50`, o laço parou devido ao `break` e poderíamos incluir qualquer nova instrução fora do laço. Veja:"
   ]
  },
  {
   "cell_type": "code",
   "execution_count": 25,
   "metadata": {},
   "outputs": [
    {
     "name": "stdout",
     "output_type": "stream",
     "text": [
      "0\n",
      "1\n",
      "2\n",
      "3\n",
      "4\n",
      "5\n",
      "Chega de números!\n",
      "Saímos do laço antes de chegar ao fim. Valeu break!\n"
     ]
    }
   ],
   "source": [
    "for i in range (10):\n",
    "    print(i)\n",
    "    if i == 5:\n",
    "        print(\"Chega de números!\")\n",
    "        break\n",
    "        \n",
    "print(\"Saímos do laço antes de chegar ao fim. Valeu break!\")        "
   ]
  },
  {
   "cell_type": "markdown",
   "metadata": {},
   "source": [
    "## Desafio\n",
    "\n",
    "Crie um código para verificar se um número é primo ou não. O seu código deve pedir ao usuário um input numérico. Você deve transformar este input em inteiro (lembrem-se do **cast**) e verificar se ele é maior que um (para ser primo) e se é ou não primo."
   ]
  },
  {
   "cell_type": "code",
   "execution_count": null,
   "metadata": {},
   "outputs": [],
   "source": []
  }
 ],
 "metadata": {
  "colab": {
   "collapsed_sections": [],
   "name": "2-Strings.ipynb",
   "provenance": []
  },
  "kernelspec": {
   "display_name": "Python 3",
   "language": "python",
   "name": "python3"
  },
  "language_info": {
   "codemirror_mode": {
    "name": "ipython",
    "version": 3
   },
   "file_extension": ".py",
   "mimetype": "text/x-python",
   "name": "python",
   "nbconvert_exporter": "python",
   "pygments_lexer": "ipython3",
   "version": "3.8.2"
  }
 },
 "nbformat": 4,
 "nbformat_minor": 1
}
