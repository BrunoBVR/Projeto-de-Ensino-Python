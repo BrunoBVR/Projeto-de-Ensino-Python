{
 "cells": [
  {
   "cell_type": "code",
   "execution_count": null,
   "metadata": {},
   "outputs": [],
   "source": []
  },
  {
   "cell_type": "markdown",
   "metadata": {
    "colab_type": "text",
    "id": "SHbMPISpmozK"
   },
   "source": [
    "## <center>Introdução à Linguagem Python</center>\n",
    "###  <center>Projeto de ensino - IFB</center>\n",
    "---\n",
    "## <center>11- Módulo Matplotlib - continuação </center>\n",
    "##### <center>Prof.: Bruno V. Ribeiro\n",
    "\n",
    "Vamos continuar a ver o módulo `matplotlib` neste documento. Já vimos como fazer curvas (com a função .plot() e .scatter() ). Agora veremos algumas novas  possibilidades de visualização:\n",
    " * Gráfico em barras\n",
    " * Histogramas\n",
    "\n",
    "    \n",
    "A documentação completa do módulo esta na página [matplotlib.org](https://matplotlib.org/)."
   ]
  },
  {
   "cell_type": "markdown",
   "metadata": {
    "colab_type": "text",
    "id": "mm6ZiyF-0wu2"
   },
   "source": [
    "A primeira coisa a ser feita é importar o módulo para ter acesso a seu conteúdo:"
   ]
  },
  {
   "cell_type": "code",
   "execution_count": 1,
   "metadata": {},
   "outputs": [],
   "source": [
    "import matplotlib.pyplot as plt\n",
    "import numpy as np"
   ]
  },
  {
   "cell_type": "markdown",
   "metadata": {},
   "source": [
    "Novamente, vamos utilizar bastante o módulo `numpy`, já que ele é chave para lidar com dados numéricos (que é o que queremos para gerar gráficos).\n",
    "\n",
    "Antes de ver novos visualizações, vamos aprender duas coisas novas e bastante importantes: **números aleatórios** e **dicionários**."
   ]
  },
  {
   "cell_type": "markdown",
   "metadata": {},
   "source": [
    "## Números aletórios\n",
    "\n",
    "Dentro do `numpy` existe um módulo **muito** interessante e importante para nós chamado `random`. Ele é utilizado para gerar números pseudo-aleatórios. É importante notar a presença do **pseudo** aqui, pois computadores funcionam por meio de programas, que funcionam seguindo instruções dadas por meio de algoritmos. Ou seja, nunca conseguiremos um número verdadeiramente aleatório, mas podemos criar algoritmos que gerem sequências longas de números sem repetição e (aparentemente) sem ordem. Não vamos falar a fundo disso aqui, pois foge do foco do nosso projeto (mas quem se interessar é só me procurar!)."
   ]
  },
  {
   "cell_type": "markdown",
   "metadata": {},
   "source": [
    "### Como gerar um número aletório **inteiro**"
   ]
  },
  {
   "cell_type": "code",
   "execution_count": 5,
   "metadata": {},
   "outputs": [
    {
     "name": "stdout",
     "output_type": "stream",
     "text": [
      "8\n"
     ]
    }
   ],
   "source": [
    "# Gerando um inteiro aleatório na variável n\n",
    "\n",
    "n = np.random.randint(100)\n",
    "\n",
    "print(n)"
   ]
  },
  {
   "cell_type": "markdown",
   "metadata": {},
   "source": [
    "O que fizemos: dentro do `numpy` (np) acessamos o módulo `random` (.random) e, dentro deste, acessamos a função `randint` (.randint(), de **random integer**). Passamos o argumento `100` para gerar um inteiro aleatório de 0 a 100.\n",
    "\n",
    "Rodem a célula acima várias vezes e vejam como são impressos números diferentes."
   ]
  },
  {
   "cell_type": "markdown",
   "metadata": {},
   "source": [
    "### Como gerar um número aleatório `float` de 0 a 1"
   ]
  },
  {
   "cell_type": "code",
   "execution_count": 34,
   "metadata": {},
   "outputs": [
    {
     "name": "stdout",
     "output_type": "stream",
     "text": [
      "0.05897817261470206\n"
     ]
    }
   ],
   "source": [
    "# Gerando um float aleatório na variável x\n",
    "\n",
    "x = np.random.rand()\n",
    "\n",
    "print(x)"
   ]
  },
  {
   "cell_type": "markdown",
   "metadata": {},
   "source": [
    "Aqui vale a mesma lógica usando a função `.rand()`. Rode a célula várias vezes para ver o resultado mudar.\n",
    "\n",
    "Podemos gerar um `array` de número inteiros, por exemplo, se passarmos o parâmetro `size` para a função `randint`:"
   ]
  },
  {
   "cell_type": "code",
   "execution_count": 10,
   "metadata": {},
   "outputs": [
    {
     "name": "stdout",
     "output_type": "stream",
     "text": [
      "[60 40 61 90 42 61 62 90 42 67]\n"
     ]
    }
   ],
   "source": [
    "# Gerando um array com 10 entradas de números aleatórios inteiros de 0 a 100\n",
    "N = np.random.randint(100, size = (10))\n",
    "\n",
    "print(N)"
   ]
  },
  {
   "cell_type": "markdown",
   "metadata": {},
   "source": [
    "Note que o argumento dentro do `size=` deve estar entre (), pois temos a opção de gerar matrizes passando argumentos separados por vírgulas.\n",
    "\n",
    "Por exemplo, para gerar uma matriz 4x4 com números inteiros aleatórios entre 0 e 100, fazemos:"
   ]
  },
  {
   "cell_type": "code",
   "execution_count": 11,
   "metadata": {},
   "outputs": [
    {
     "name": "stdout",
     "output_type": "stream",
     "text": [
      "[[48 79 77  1]\n",
      " [48 47 54 41]\n",
      " [31 43  4 76]\n",
      " [41 22 26 57]]\n"
     ]
    }
   ],
   "source": [
    "N_4x4 = np.random.randint(100, size = (4,4))\n",
    "\n",
    "print(N_4x4)"
   ]
  },
  {
   "cell_type": "markdown",
   "metadata": {},
   "source": [
    "Isso é muito legal!!\n",
    "\n",
    "Para fazer o mesmo com números `float`, fazemos algo muito semelhante:"
   ]
  },
  {
   "cell_type": "code",
   "execution_count": 12,
   "metadata": {},
   "outputs": [
    {
     "name": "stdout",
     "output_type": "stream",
     "text": [
      "[0.68528199 0.36646258 0.59401404 0.45953477 0.39249594 0.29684205\n",
      " 0.53034769 0.8443153  0.38154214 0.96827904]\n"
     ]
    }
   ],
   "source": [
    "# Array 1D com 10 números aleatórios entre 0 e 1:\n",
    "X = np.random.rand(10)\n",
    "\n",
    "print(X)"
   ]
  },
  {
   "cell_type": "code",
   "execution_count": 13,
   "metadata": {},
   "outputs": [
    {
     "name": "stdout",
     "output_type": "stream",
     "text": [
      "[[0.28137398 0.3538865  0.03246669 0.88457369]\n",
      " [0.65842088 0.51487568 0.93717062 0.66566547]\n",
      " [0.81263412 0.42684424 0.00343426 0.46817948]\n",
      " [0.33006567 0.74980124 0.47774284 0.31780033]]\n"
     ]
    }
   ],
   "source": [
    "# Matriz 4x4 com floats aleatórios:\n",
    "X_4x4 = np.random.rand(4,4)\n",
    "\n",
    "print(X_4x4)"
   ]
  },
  {
   "cell_type": "markdown",
   "metadata": {},
   "source": [
    "Existem, ainda, muitas funções dentro do módulo `random`. Não vamos ver todas aqui, mas sugiro **MUITO** que dêem uma olhada na documentação completa do módulo: [numpy.random](https://docs.scipy.org/doc/numpy-1.14.0/reference/routines.random.html)\n",
    "\n",
    "Vamos ver só mais uma (que é muito legal!) que é a `.randn()`. Esta função gera números aleatórios `floats` escolhidos de uma distribuição normal padrão (com média 0 e desvio padrão 1). Se eu falei grego para você não se preocupe, vamos ver mais detalhes em breve."
   ]
  },
  {
   "cell_type": "code",
   "execution_count": 16,
   "metadata": {},
   "outputs": [
    {
     "name": "stdout",
     "output_type": "stream",
     "text": [
      "0.6782362646370816\n"
     ]
    }
   ],
   "source": [
    "# Gerando float aleatório de uma distribuição normal padrão:\n",
    "\n",
    "y = np.random.randn()\n",
    "\n",
    "print(y)"
   ]
  },
  {
   "cell_type": "code",
   "execution_count": 17,
   "metadata": {},
   "outputs": [
    {
     "name": "stdout",
     "output_type": "stream",
     "text": [
      "[ 0.21189774 -0.88630357  0.11836489  1.09933212  0.98463481 -0.67276923\n",
      "  0.495897   -1.12783366 -0.76052243 -1.20124517]\n"
     ]
    }
   ],
   "source": [
    "# Gerando array com 10 floats aleatórios de uma distribuição normal padrão:\n",
    "\n",
    "Y = np.random.randn(10)\n",
    "\n",
    "print(Y)"
   ]
  },
  {
   "cell_type": "markdown",
   "metadata": {},
   "source": [
    "# Dicionários\n",
    "\n",
    "Dicionários são estruturas de dados muito parecidas com listas. A diferença está no índice. Lembrem-se que uma lista possui índices que servem para acessarmos suas entradas. Por exemplo, na lista abaixo, vamos acessar o primeiro, terceiro e quarto elemento:"
   ]
  },
  {
   "cell_type": "code",
   "execution_count": 18,
   "metadata": {},
   "outputs": [
    {
     "name": "stdout",
     "output_type": "stream",
     "text": [
      "Primeiro elemento -  1\n",
      "Terceiro elemento -  3\n",
      "Quarto elemento -  4\n"
     ]
    }
   ],
   "source": [
    "lista = [1,2,3,4,5]\n",
    "\n",
    "print('Primeiro elemento - ', lista[0])\n",
    "print('Terceiro elemento - ', lista[2])\n",
    "print('Quarto elemento - ', lista[3])"
   ]
  },
  {
   "cell_type": "markdown",
   "metadata": {},
   "source": [
    "Lembrando que a contagem dos índices começa pelo zero. Agora, se quisermos uma lista com as notas de vários alunos, por exemplo. Poderíamos criar uma lista bem longa e saber de antemão, qual é o aluno que corresponde ao índice 0, qual corresponde ao índice 1 e assim por diante. Mas, para deixar as coisas bem mais eficientes, podemos criar uma maneira de que o nome do aluno seja o pŕopio índice!\n",
    "\n",
    "Seria maravilhoso se eu tivesse uma lista chamada **notas** e quisesse acessar a nota do **Bruno** usando uma chamada do tipo: `notas['Bruno]`.\n",
    "\n",
    "Dicionários fazem exatamente isso para nós! Criamos um dicionário informando não só o conteúdo de cada entrada, mas também seu índice. Criamos usando { } em vez de [ ] com fazíamos em listas. A nomenclatura correta é criarmos entradas com um par **chave** e **valor**. No exemplo acima, a **chave** é o nome (índice) e o **valor** é a nota.\n",
    "\n",
    "Vamos ver um exemplo:"
   ]
  },
  {
   "cell_type": "code",
   "execution_count": 19,
   "metadata": {},
   "outputs": [],
   "source": [
    "# Criando dicionário com notas de vários alunos\n",
    "notas = {'Fulano': 7, 'Joana': 8.5, 'Bruno': 10, 'Ciclana': 9}"
   ]
  },
  {
   "cell_type": "markdown",
   "metadata": {},
   "source": [
    "Notem o padrão: dentro das chaves { }, informamos a chave e o valor de cada entrada separadas por dois pontos ( : ). Agora para acessar as notas de cada aluno, podemos fazer:"
   ]
  },
  {
   "cell_type": "code",
   "execution_count": 20,
   "metadata": {},
   "outputs": [
    {
     "name": "stdout",
     "output_type": "stream",
     "text": [
      "10\n"
     ]
    }
   ],
   "source": [
    "print(notas['Bruno'])"
   ]
  },
  {
   "cell_type": "markdown",
   "metadata": {},
   "source": [
    "Lindo, né.\n",
    "\n",
    "Só um comentário: dicionários podemo ficar bem grandes para caber em uma única linha, então é prática de programadores em Python quebrar a linha para ficar mais visualmente fácil de entender:"
   ]
  },
  {
   "cell_type": "code",
   "execution_count": 21,
   "metadata": {},
   "outputs": [],
   "source": [
    "notas = {'Fulano': 7,\n",
    "         'Joana': 8.5,\n",
    "         'Bruno': 10,\n",
    "         'Ciclana': 9,\n",
    "         'Garibaldo': 4.5,\n",
    "         'Iracema': 6,\n",
    "         'Jurema': 9.5,\n",
    "         'Pedro': 5,\n",
    "         'Mônica': 7.5,\n",
    "         'Cebolinha': 7.5,\n",
    "         'Cascão': 9,\n",
    "         'Magali': 9.8}"
   ]
  },
  {
   "cell_type": "markdown",
   "metadata": {},
   "source": [
    "## Plotando um gráfico em barras (finalmente!)\n",
    "\n",
    "Um gráfico em barras é ótimo para ver diferenças rápidas em distribuições de valores. Para exemplificar, vamos visualizar, em barras, a distribuição de notas do meu dicionário fictício da célula anterior.\n",
    "\n",
    "Usaremos a função `.bar()` dentro do matplotlib.pyplot para plotar as informações que queremos.\n",
    "\n",
    "Esta função precisa de um parâmetro para ser o eixo x e um para o eixo y. Em nosso exemplo, queremos as chaves (ou índices) do dicionário `notas` como eixo x e os valores como eixo y. Acessamos essas informações com `notas.keys()` e `notas.values()`, respectivamente (keys = chaves, values = valores)."
   ]
  },
  {
   "cell_type": "code",
   "execution_count": 26,
   "metadata": {},
   "outputs": [
    {
     "data": {
      "image/png": "[encoded data removed]",
      "text/plain": [
       "<Figure size 432x288 with 1 Axes>"
      ]
     },
     "metadata": {
      "needs_background": "light"
     },
     "output_type": "display_data"
    }
   ],
   "source": [
    "#Plotando gráfico em barras.\n",
    "\n",
    "plt.bar(notas.keys(), notas.values())\n",
    "plt.show()"
   ]
  },
  {
   "cell_type": "markdown",
   "metadata": {},
   "source": [
    "Temos nosso gráfico em barras, mas ainda está bem feio, pois os índices estão \"amassados\" lá no eixo x.\n",
    "\n",
    "Podemos mudar o tamanho da figura usando a função `figure()` com o argumento `figsize=(tamanho horizontal, tamnho vertical)`. Aqui os tamanhos são em polegadas."
   ]
  },
  {
   "cell_type": "code",
   "execution_count": 27,
   "metadata": {},
   "outputs": [
    {
     "data": {
      "image/png": "[encoded data removed]",
      "text/plain": [
       "<Figure size 1080x720 with 1 Axes>"
      ]
     },
     "metadata": {
      "needs_background": "light"
     },
     "output_type": "display_data"
    }
   ],
   "source": [
    "plt.figure(figsize=(15,10))\n",
    "plt.bar(notas.keys(), notas.values())\n",
    "plt.show()"
   ]
  },
  {
   "cell_type": "markdown",
   "metadata": {},
   "source": [
    "Podemos, também, rodar as legendas do eixo x usando a função `.xticks()` com o argumento `rotation`:"
   ]
  },
  {
   "cell_type": "code",
   "execution_count": 28,
   "metadata": {},
   "outputs": [
    {
     "data": {
      "image/png": "[encoded data removed]",
      "text/plain": [
       "<Figure size 1080x720 with 1 Axes>"
      ]
     },
     "metadata": {
      "needs_background": "light"
     },
     "output_type": "display_data"
    }
   ],
   "source": [
    "plt.figure(figsize=(15,10))\n",
    "plt.bar(notas.keys(), notas.values())\n",
    "plt.xticks(rotation='vertical')\n",
    "\n",
    "plt.show()"
   ]
  },
  {
   "cell_type": "markdown",
   "metadata": {},
   "source": [
    "Aletrnativamente, podemos fazer as barras na horizontal com a função `.barh()` em vez de `.bar()`. \n",
    "\n",
    "Mas, por algum motivo, não podemos passar as chaves e os valores diretamente para esta função. Precisamos passar uma lista verdadeira. Fazemos isso com um simples `cast` antes de informar as chaves e valores. Vejam no exemplo:"
   ]
  },
  {
   "cell_type": "code",
   "execution_count": 29,
   "metadata": {},
   "outputs": [
    {
     "data": {
      "image/png": "[encoded data removed]",
      "text/plain": [
       "<Figure size 1080x720 with 1 Axes>"
      ]
     },
     "metadata": {
      "needs_background": "light"
     },
     "output_type": "display_data"
    }
   ],
   "source": [
    "plt.figure(figsize=(15,10))\n",
    "plt.barh( list( notas.keys() ), list( notas.values()) )\n",
    "plt.show()"
   ]
  },
  {
   "cell_type": "markdown",
   "metadata": {},
   "source": [
    "Lembrando que todas as personalizações de título e cor também podem ser usadas aqui. Por exemplo:"
   ]
  },
  {
   "cell_type": "code",
   "execution_count": 30,
   "metadata": {},
   "outputs": [
    {
     "data": {
      "image/png": "[encoded data removed]",
      "text/plain": [
       "<Figure size 1080x720 with 1 Axes>"
      ]
     },
     "metadata": {
      "needs_background": "light"
     },
     "output_type": "display_data"
    }
   ],
   "source": [
    "cores = ['black', 'red', 'green', 'blue', 'cyan', 'yellow','black', 'red', 'green', 'blue', 'cyan', 'yellow']\n",
    "plt.figure(figsize=(15,10))\n",
    "plt.bar(notas.keys(), notas.values(), color = cores)\n",
    "plt.xticks(rotation='vertical')\n",
    "\n",
    "plt.show()"
   ]
  },
  {
   "cell_type": "markdown",
   "metadata": {},
   "source": [
    "QUE FOFO!"
   ]
  },
  {
   "cell_type": "markdown",
   "metadata": {},
   "source": [
    "# Histogramas\n",
    "\n",
    "Histogramas são ferramentas poderosas em analisar distribuições de variáveis contínuas. Basicamente, dividimos o espaço em faixas (usamos o termo \"bins\" em inglês) iguais e contamos quantos pontos existem em cada faixa. Para o número de pontos em cada faixa, fazemos uma barra de atura igual a esta contagem.\n",
    "\n",
    "Por exemplo, vamos gerar 1000 números aleatórios entre 0 e 1. Depois, vamos criar um histograma contando quantos números geramos em cada intervalo. Por **default**, o matplotlib divide o espaço em 10 faixas, mas isso pode ser controlado com o argumento `bin=` dentro da chamada da função `hist()`.\n",
    "\n",
    "Vamos ver o exemplo:"
   ]
  },
  {
   "cell_type": "code",
   "execution_count": 31,
   "metadata": {},
   "outputs": [
    {
     "data": {
      "image/png": "[encoded data removed]",
      "text/plain": [
       "<Figure size 432x288 with 1 Axes>"
      ]
     },
     "metadata": {
      "needs_background": "light"
     },
     "output_type": "display_data"
    }
   ],
   "source": [
    "x = np.random.rand(1000)\n",
    "plt.hist(x)\n",
    "plt.show()"
   ]
  },
  {
   "cell_type": "markdown",
   "metadata": {},
   "source": [
    "Parece que é bem igualmente distribuído... Para entender: existe uma barra para cada intervalo entre 0 e 1. Como foram 10 barras geradas por **default**, cada barra conta a quantidade de números entre 0 e 0.1, depois entre 0.1 e 0.2 e assim até o final.\n",
    "\n",
    "Para começar a entender a distribuição normal que falamos lá no início, vamos fazer o mesmo código, mas com a chamada ao `randn()`, ou seja, gerando números de uma distribuição normal:"
   ]
  },
  {
   "cell_type": "code",
   "execution_count": 32,
   "metadata": {},
   "outputs": [
    {
     "data": {
      "image/png": "[encoded data removed]",
      "text/plain": [
       "<Figure size 432x288 with 1 Axes>"
      ]
     },
     "metadata": {
      "needs_background": "light"
     },
     "output_type": "display_data"
    }
   ],
   "source": [
    "X = np.random.randn(1000)\n",
    "plt.hist(X)\n",
    "plt.show()"
   ]
  },
  {
   "cell_type": "markdown",
   "metadata": {},
   "source": [
    "A distribuição normal é centrada em sua média (no caso, zero) e é mais \"larga\" conforme maior for seu desvio padrão.\n",
    "\n",
    "Para ver melhor o formato da distribuição **normal**, vamos aumentar bastante a quantidade de números gerados e, também, o número de faixas (`bins`):"
   ]
  },
  {
   "cell_type": "code",
   "execution_count": 35,
   "metadata": {},
   "outputs": [
    {
     "data": {
      "image/png": "[encoded data removed]",
      "text/plain": [
       "<Figure size 432x288 with 1 Axes>"
      ]
     },
     "metadata": {
      "needs_background": "light"
     },
     "output_type": "display_data"
    }
   ],
   "source": [
    "X = np.random.randn(100000)\n",
    "plt.hist(X, bins = 50)\n",
    "plt.show()"
   ]
  },
  {
   "cell_type": "markdown",
   "metadata": {},
   "source": [
    "Esse formato de curva é a importantíssima **curva Gaussiana**, que veremos em detalhes mais ao final deste projeto."
   ]
  },
  {
   "cell_type": "markdown",
   "metadata": {},
   "source": [
    "Um último detalhe: vimos que números realmente aleatórios não podem ser gerados por computadores. Por isso, toda vez que chamamos uma função do tipo `random` estamos, na verdade, usando uma sequência de números que \"parece\" aleatória. Por exemplo, cada vez que chamamos a céluala abaixo, teremos um novo número: (RODE MESMO VÁRIAS VEZES PARA VER POR SI MESMO!)"
   ]
  },
  {
   "cell_type": "code",
   "execution_count": 38,
   "metadata": {},
   "outputs": [
    {
     "name": "stdout",
     "output_type": "stream",
     "text": [
      "0.10182993133127771\n"
     ]
    }
   ],
   "source": [
    "x = np.random.rand()\n",
    "print(x)"
   ]
  },
  {
   "cell_type": "markdown",
   "metadata": {},
   "source": [
    "Um problema que enfrentamos é a reprodutibilidade de resultados que obtemos ao usar algum número aleatório. Por exemplo, este último gráfico que geramos será, muito provavelmente, diferente para cada um de vocês. Apesar do formato ser parecido (pois a distribuição é a mesma), cada um de vocês terá um gráfico ligeiramente diferente dos outros. E, as vezes, queremos reproduzir, em computadores diferentes, os mesmos resultados. Isso é feito utilizando a função `seed()` dentro do módulo `random`.\n",
    "\n",
    "Como sempre geramos uma sequência de números aleatórios, esta precisa de uma **semente** para ser iniciada. É um número a partir do qual a sequência é construída (não significa que ele será o primeiro número da sequência, mas será usado para iniciar a sequência).\n",
    "\n",
    "Se definirmos a semente (seed), a sequência será sempre a mesma. Vamos ver o que isso significa:"
   ]
  },
  {
   "cell_type": "code",
   "execution_count": 41,
   "metadata": {},
   "outputs": [
    {
     "name": "stdout",
     "output_type": "stream",
     "text": [
      "0.3745401188473625\n"
     ]
    }
   ],
   "source": [
    "# Definindo a semente\n",
    "np.random.seed(42)\n",
    "\n",
    "x = np.random.rand()\n",
    "print(x)"
   ]
  },
  {
   "cell_type": "markdown",
   "metadata": {},
   "source": [
    "Se vocês rodarem a célula acima várias vezes, o número impresso será sempre o mesmo! Mudando a semente, muda esse número. Se quisermos uma sequência aleatória igual em todos os computadores:"
   ]
  },
  {
   "cell_type": "code",
   "execution_count": 43,
   "metadata": {},
   "outputs": [
    {
     "name": "stdout",
     "output_type": "stream",
     "text": [
      "[0.37454012 0.95071431 0.73199394 0.59865848 0.15601864 0.15599452\n",
      " 0.05808361 0.86617615 0.60111501 0.70807258]\n"
     ]
    }
   ],
   "source": [
    "np.random.seed(42)\n",
    "\n",
    "x = np.random.rand(10)\n",
    "print(x)"
   ]
  },
  {
   "cell_type": "markdown",
   "metadata": {},
   "source": [
    "**IMPORTANTE**: o número que eu escolhi (42) é completamente arbitrário! Vocês podem escolher a semente que quiserem. Sempre que usar esse valor, a sua sequência será a mesma.\n",
    "\n",
    "(espero que a minha escolha tenha motivação óbvia para tod@s... Se não, acho que não podemos mais ser amigos...)"
   ]
  },
  {
   "cell_type": "markdown",
   "metadata": {},
   "source": [
    "### Exercícios\n",
    "\n",
    "Neste exercício quero que vocês exerçam a criatividade!\n",
    "\n",
    "Vocês irão criar 4 gráficos \"subplotados\" (uma única figura com os 4 gráficos utilizando o subplots).\n",
    "\n",
    "* Um deles deve ser um `.plot()` de alguma função analítica que vocês gostem muito (eu, por exemplo, acho a tangente hiperbólica altamente atraente);\n",
    "* Um deles deve ser um `.scatter()` de alguma lista de números que vocês gostem (pode ser a sequência de Fibonacci, os digitos de PI, uma sequência gerada por números pseudo-aleatórios...).\n",
    "* Um deles deve utilizar o `.bar()` com um dicionário. Eu usei, neste documento, um exemplo de notas de alunos fictícios, vocês podem pensar o que quiserem (pontos de times em um campeonato, preço de alimentos em um mercado, grau de beleza dos professores...)\n",
    "* O último deve ser um `.hist()` de alguma distribuição de pontos. Pode ser de uma distribuição aleatória ou vocês podem criar uma também. Apenas lembrem-se da diferença entre histogramas e barras. No gráfico de barras, cada barra corresponde a um valor atribuído a um \"objeto\". Em histogramas há apenas uma variável que assume valores continuamente em algum intervalo. O histograma divide esse intervalo em pedaços e conta quantos pontos há em cada divisão (bins). Exemplos de ideias para criar histogramas: distribuição da altura das pessoas, quantos kg você está ganhando por semana na quarentena (credo), preço de um único produto em vários lugares... Para algo mais científico, vocês podem pensar, por exemplo, na distribuição de velocidades de partículas de um gás (que, por sinal, se for um gás ideal, deve ser uma curva normal!).\n",
    "\n",
    "Sejam **criativos**! Criem dados fictícios ou busquem informações reais, tanto faz. Deixem os gráficos o mais personalizados possível. Mudem tamanho, cor, legendas, títulos... Na dúvida, procurem o que gostariam de fazer, sempre há um jeito. Por exemplo, quero meu histograma metade de uma cor e metade de outra, procurem \"pyplot histograma várias cores\". O google é um ótimo parceiro de todo programador, desde que você saiba as fontes confiáveis (por exemplo, Stackoverflow é recomendadíssimo.)\n",
    "\n",
    "**DIVIRTAM-SE!**"
   ]
  },
  {
   "cell_type": "code",
   "execution_count": null,
   "metadata": {},
   "outputs": [],
   "source": []
  }
 ],
 "metadata": {
  "colab": {
   "collapsed_sections": [],
   "name": "6-maisIteracoes.ipynb",
   "provenance": []
  },
  "kernelspec": {
   "display_name": "Python 3",
   "language": "python",
   "name": "python3"
  },
  "language_info": {
   "codemirror_mode": {
    "name": "ipython",
    "version": 3
   },
   "file_extension": ".py",
   "mimetype": "text/x-python",
   "name": "python",
   "nbconvert_exporter": "python",
   "pygments_lexer": "ipython3",
   "version": "3.8.5"
  }
 },
 "nbformat": 4,
 "nbformat_minor": 1
}
