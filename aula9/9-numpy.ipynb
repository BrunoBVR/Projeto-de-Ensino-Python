{
 "cells": [
  {
   "cell_type": "markdown",
   "metadata": {
    "colab_type": "text",
    "id": "SHbMPISpmozK"
   },
   "source": [
    "## <center>Introdução à Linguagem Python</center>\n",
    "###  <center>Projeto de ensino - IFB</center>\n",
    "---\n",
    "## <center>9- Módulo Numpy</center>\n",
    "##### <center>Prof.: Bruno V. Ribeiro"
   ]
  },
  {
   "cell_type": "markdown",
   "metadata": {
    "colab_type": "text",
    "id": "oQiBqoX8mozN"
   },
   "source": [
    "Neste documento vamos ver uma introdução muito breve a um dos módulos mais importantes para a programação científica, o módulo `Numpy`. `Numpy` é uma abreviação de **Numerical Python** e é um módulo desenvolvido para lidar com matrizes multidimensionais de forma eficiente. Uma das grandes vantagens da linguagem Python é sua acessibilidade por ser uma linguagem facilemnte legível e rápida de aprender. Porém, isso torna ela uma linguagem lenta, pois é pensada para facilitar a sua escrita. Por exemplo, vimos que listas são objetos muito úteis e flexíveis, podendo conter números, `strings` ou até outras listas como itens. Apesar de isso ser muito legal e nos dar muita flexibilidade, isso acaba consumindo muita memória e deixando os códigos com execução lenta.\n",
    "\n",
    "O módulo `Numpy` lida, exclusivamente, com números e é construído com o objetivo de otimizar uso de memória (permite comunicação com linguagem C e C++, por exemplo, que sao extremamente rápidas).\n",
    "\n",
    "O objeto principal do módulo `Numpy` é o chamado `ndarray`, que é um array (ou, matriz) multidimensional de elementos do mesmo tipo indexados por números inteiros. Ou seja, uma grande matriz multidimensional contendo apenas números.\n",
    "\n",
    "Vamos aprender a criar e fazer algumas manipulações nesses objetos para entender sua importância na programação científica. Além dos `ndarrays`, o módulo `Numpy` oferece uma série de métodos de solução de equações lineares e funções matemáticas. Não é possível cobrir todo o conteúdo disponível nesse módulo em nosso projeto, mas aprendendo o básico teremos ferramenta e conhecimento para resolver problemas conforme eles se apresentem.\n",
    "\n",
    "A documentação completa do módulo esta na página [Numpy.org](https://numpy.org/doc/stable/)."
   ]
  },
  {
   "cell_type": "markdown",
   "metadata": {
    "colab_type": "text",
    "id": "mm6ZiyF-0wu2"
   },
   "source": [
    "A primeira coisa a ser feita é importar o módulo para ter acesso a seu conteúdo:"
   ]
  },
  {
   "cell_type": "code",
   "execution_count": 1,
   "metadata": {},
   "outputs": [],
   "source": [
    "import numpy as np"
   ]
  },
  {
   "cell_type": "markdown",
   "metadata": {},
   "source": [
    "Note uma pequena diferença aqui na forma que uso o **import**. O trecho \"as np\" é simplesmente uma forma de informar ao Python que usaremos `np` para nos referir ao módulo `Numpy` (porque escrevernumpy toda hora poluiria muito nosso código).\n",
    "\n",
    "O que vocês usam é completamente arbitrário (poderia escrever **import numpy as Bruno**, por exemplo) mas já é prática comum usar o `np` para o Numpy."
   ]
  },
  {
   "cell_type": "markdown",
   "metadata": {},
   "source": [
    "O módulo possui algumas constantes e funções assim como o `math`:"
   ]
  },
  {
   "cell_type": "code",
   "execution_count": 2,
   "metadata": {},
   "outputs": [
    {
     "name": "stdout",
     "output_type": "stream",
     "text": [
      "Valor de pi no módulo Numpy, aqui chamado como np:\n",
      "3.141592653589793\n",
      "\n",
      "Valor de e no módulo Numpy, aqui chamado como np:\n",
      "2.718281828459045\n"
     ]
    }
   ],
   "source": [
    "print(\"Valor de pi no módulo Numpy, aqui chamado como np:\")\n",
    "print(np.pi)\n",
    "\n",
    "print()\n",
    "\n",
    "print(\"Valor de e no módulo Numpy, aqui chamado como np:\")\n",
    "print(np.e)"
   ]
  },
  {
   "cell_type": "code",
   "execution_count": 3,
   "metadata": {},
   "outputs": [
    {
     "name": "stdout",
     "output_type": "stream",
     "text": [
      "Valor de e, aproximado:\n",
      "2.718281828459045\n"
     ]
    }
   ],
   "source": [
    "# O valor de ´e´ também faz parte do módulo:\n",
    "print('Valor de e, aproximado:')\n",
    "print(np.e)"
   ]
  },
  {
   "cell_type": "markdown",
   "metadata": {},
   "source": [
    "Além de constantes, o módulo `numpy` possui várias funções importantes:"
   ]
  },
  {
   "cell_type": "code",
   "execution_count": 4,
   "metadata": {},
   "outputs": [
    {
     "name": "stdout",
     "output_type": "stream",
     "text": [
      "7.38905609893065\n"
     ]
    }
   ],
   "source": [
    "# Exponencial:\n",
    "print(np.exp(2))\n",
    "# Isto nos retorna a exponencial de 2"
   ]
  },
  {
   "cell_type": "code",
   "execution_count": 5,
   "metadata": {},
   "outputs": [
    {
     "name": "stdout",
     "output_type": "stream",
     "text": [
      "e elevado a 0 = 1.0\n",
      "e elevado a 1 = 2.718281828459045\n",
      "e elevado a 2 = 7.38905609893065\n",
      "e elevado a 3 = 20.085536923187668\n",
      "e elevado a 4 = 54.598150033144236\n",
      "e elevado a 5 = 148.4131591025766\n",
      "e elevado a 6 = 403.4287934927351\n",
      "e elevado a 7 = 1096.6331584284585\n",
      "e elevado a 8 = 2980.9579870417283\n",
      "e elevado a 9 = 8103.083927575384\n"
     ]
    }
   ],
   "source": [
    "# Só para ficar claro:\n",
    "for x in range(10):\n",
    "    print(f'e elevado a {x} = {np.exp(x)}')"
   ]
  },
  {
   "cell_type": "code",
   "execution_count": 6,
   "metadata": {},
   "outputs": [
    {
     "name": "stdout",
     "output_type": "stream",
     "text": [
      "log de 1 = 0.0\n",
      "log de 2 = 0.6931471805599453\n",
      "log de 3 = 1.0986122886681098\n",
      "log de 4 = 1.3862943611198906\n",
      "log de 5 = 1.6094379124341003\n",
      "log de 6 = 1.791759469228055\n",
      "log de 7 = 1.9459101490553132\n",
      "log de 8 = 2.0794415416798357\n",
      "log de 9 = 2.1972245773362196\n",
      "log de 10 = 2.302585092994046\n"
     ]
    }
   ],
   "source": [
    "# Logaritmo natural:\n",
    "for x in range(1,11):\n",
    "    print(f'log de {x} = {np.log(x)}')"
   ]
  },
  {
   "cell_type": "markdown",
   "metadata": {},
   "source": [
    "Ou seja, muita coisa do módulo `math` é reaproveitada dentro do `numpy`. Vamos agora ao grande objeto deste módulo, as matrizes (ou `arrays`)."
   ]
  },
  {
   "cell_type": "code",
   "execution_count": 7,
   "metadata": {},
   "outputs": [
    {
     "name": "stdout",
     "output_type": "stream",
     "text": [
      "[1 2 3]\n"
     ]
    }
   ],
   "source": [
    "# Criando um array de dimensão 1 (semelhante a uma lista)\n",
    "a = np.array([1,2,3])\n",
    "\n",
    "print(a)"
   ]
  },
  {
   "cell_type": "markdown",
   "metadata": {},
   "source": [
    "A variável `a` parece uma lista usual, mas, ao olharmos o seu tipo:"
   ]
  },
  {
   "cell_type": "code",
   "execution_count": 8,
   "metadata": {},
   "outputs": [
    {
     "data": {
      "text/plain": [
       "numpy.ndarray"
      ]
     },
     "execution_count": 8,
     "metadata": {},
     "output_type": "execute_result"
    }
   ],
   "source": [
    "type(a)"
   ]
  },
  {
   "cell_type": "markdown",
   "metadata": {},
   "source": [
    "O programa nos informa que se trata de um `numpy.ndarray`, que é um objeto novo para nós."
   ]
  },
  {
   "cell_type": "code",
   "execution_count": 9,
   "metadata": {},
   "outputs": [
    {
     "name": "stdout",
     "output_type": "stream",
     "text": [
      "[[1 2 3]\n",
      " [4 5 6]]\n"
     ]
    }
   ],
   "source": [
    "# Criando uma matriz com 2 dimensões\n",
    "b = np.array([[1,2,3], [4,5,6]])\n",
    "\n",
    "print(b)"
   ]
  },
  {
   "cell_type": "markdown",
   "metadata": {},
   "source": [
    "Notem o que acabamos de fazer: criamos uma matriz com duas linhas e três colunas usando o `numpy`. Tomem muito cuidado com a notação, dentro da chamada do `np.array()` primeiro abrimos um `[` e depois outro. O primeiro inicia o objeto maior (no caso a matriz) e o segundo inicia o objeto menor (no caso o array que compõe uma linha da matriz."
   ]
  },
  {
   "cell_type": "code",
   "execution_count": 10,
   "metadata": {},
   "outputs": [
    {
     "name": "stdout",
     "output_type": "stream",
     "text": [
      "[[1 2 3]\n",
      " [4 5 6]\n",
      " [7 8 9]]\n"
     ]
    }
   ],
   "source": [
    "# Criando matriz bidimensional 3x3\n",
    "c = np.array([[1,2,3], [4,5,6], [7,8,9]])\n",
    "\n",
    "print(c)"
   ]
  },
  {
   "cell_type": "markdown",
   "metadata": {},
   "source": [
    "Podemos obter o formato de nossas matrizes utilizando o método `shape`, na forma:"
   ]
  },
  {
   "cell_type": "code",
   "execution_count": 11,
   "metadata": {},
   "outputs": [
    {
     "name": "stdout",
     "output_type": "stream",
     "text": [
      "(3,)\n",
      "\n",
      "(2, 3)\n",
      "\n",
      "(3, 3)\n"
     ]
    }
   ],
   "source": [
    "print(a.shape)\n",
    "\n",
    "print()\n",
    "\n",
    "print(b.shape)\n",
    "\n",
    "print()\n",
    "\n",
    "print(c.shape)"
   ]
  },
  {
   "cell_type": "markdown",
   "metadata": {},
   "source": [
    "Observem bem o resultado: `a` tem apenas uma dimensão e três elementos, `b` tem duas linhas e três colunos e `c`, três linhas e três colunas. O método `shape` retorna o formato da matriz seguindo a ordem (linha, coluna)."
   ]
  },
  {
   "cell_type": "markdown",
   "metadata": {},
   "source": [
    "Além do formato, podemos obter a dimensão da matriz com o método `ndim`:"
   ]
  },
  {
   "cell_type": "code",
   "execution_count": 12,
   "metadata": {},
   "outputs": [
    {
     "name": "stdout",
     "output_type": "stream",
     "text": [
      "1\n",
      "\n",
      "2\n",
      "\n",
      "2\n"
     ]
    }
   ],
   "source": [
    "print(a.ndim)\n",
    "\n",
    "print()\n",
    "\n",
    "print(b.ndim)\n",
    "\n",
    "print()\n",
    "\n",
    "print(c.ndim)"
   ]
  },
  {
   "cell_type": "markdown",
   "metadata": {},
   "source": [
    "Como já esperado, `b` e `c` tem dimensão 2 e `a` tem dimensão 1."
   ]
  },
  {
   "cell_type": "markdown",
   "metadata": {},
   "source": [
    "Assim como fizemos com listas, podemos acessar os elementos dentro de cada matriz:"
   ]
  },
  {
   "cell_type": "code",
   "execution_count": 13,
   "metadata": {},
   "outputs": [
    {
     "name": "stdout",
     "output_type": "stream",
     "text": [
      "1\n",
      "2\n",
      "3\n"
     ]
    }
   ],
   "source": [
    "print(a[0])\n",
    "print(a[1])\n",
    "print(a[2])"
   ]
  },
  {
   "cell_type": "markdown",
   "metadata": {},
   "source": [
    "No caso de mais de uma dimensão, vejam bem o que acontece:"
   ]
  },
  {
   "cell_type": "code",
   "execution_count": 14,
   "metadata": {},
   "outputs": [
    {
     "name": "stdout",
     "output_type": "stream",
     "text": [
      "[1 2 3]\n"
     ]
    }
   ],
   "source": [
    "print(b[0])"
   ]
  },
  {
   "cell_type": "markdown",
   "metadata": {},
   "source": [
    "Em vez de um elemento, obtemos um array. Isso faz sentido pois a primeira entrada (ou seja, o item [0]) da matriz `b` é a primeira coluna inteira. Se quisermos apenas o segundo item da primeira coluna, por exemplo, faremos:"
   ]
  },
  {
   "cell_type": "code",
   "execution_count": 15,
   "metadata": {},
   "outputs": [
    {
     "name": "stdout",
     "output_type": "stream",
     "text": [
      "2\n"
     ]
    }
   ],
   "source": [
    "print(b[0,1])"
   ]
  },
  {
   "cell_type": "markdown",
   "metadata": {},
   "source": [
    "Informamos primeiro o número da linha e depois o da coluna. Se vocês já são familiares com notação de matrizes, percebem que a lógica é a mesma dos índices matriciais."
   ]
  },
  {
   "cell_type": "markdown",
   "metadata": {},
   "source": [
    "O módulo `numpy` ainda fornece maneiras de preencher matrizes com alguns valores prontos por conveniência:"
   ]
  },
  {
   "cell_type": "code",
   "execution_count": 16,
   "metadata": {},
   "outputs": [
    {
     "name": "stdout",
     "output_type": "stream",
     "text": [
      "[[0. 0. 0. 0.]\n",
      " [0. 0. 0. 0.]\n",
      " [0. 0. 0. 0.]\n",
      " [0. 0. 0. 0.]]\n"
     ]
    }
   ],
   "source": [
    "# Criando matriz de formato (4,4) toda com zeros\n",
    "zero4 = np.zeros((4,4))\n",
    "\n",
    "print(zero4)\n",
    "\n",
    "# A notação é np.zeros(shape), onde o shape vocês substituem pelo formato que quiserem."
   ]
  },
  {
   "cell_type": "code",
   "execution_count": 17,
   "metadata": {},
   "outputs": [
    {
     "name": "stdout",
     "output_type": "stream",
     "text": [
      "[[1. 1. 1. 1. 1. 1.]\n",
      " [1. 1. 1. 1. 1. 1.]\n",
      " [1. 1. 1. 1. 1. 1.]]\n"
     ]
    }
   ],
   "source": [
    "# Criando matriz (3,6) toda com uns\n",
    "uns = np.ones((3,6))\n",
    "\n",
    "print(uns)"
   ]
  },
  {
   "cell_type": "code",
   "execution_count": 18,
   "metadata": {},
   "outputs": [
    {
     "name": "stdout",
     "output_type": "stream",
     "text": [
      "[[7 7]\n",
      " [7 7]]\n"
     ]
    }
   ],
   "source": [
    "# Criando matriz (2,2) com números 7:\n",
    "setes = np.full((2,2), 7)\n",
    "\n",
    "print(setes)\n",
    "\n",
    "# A notação é np.full(shape, valor)"
   ]
  },
  {
   "cell_type": "code",
   "execution_count": 19,
   "metadata": {},
   "outputs": [
    {
     "name": "stdout",
     "output_type": "stream",
     "text": [
      "[[1. 0. 0.]\n",
      " [0. 1. 0.]\n",
      " [0. 0. 1.]]\n"
     ]
    }
   ],
   "source": [
    "# Criando matriz identidade 3x3:\n",
    "identidade = np.eye(3)\n",
    "\n",
    "print(identidade)"
   ]
  },
  {
   "cell_type": "markdown",
   "metadata": {},
   "source": [
    "Temos, também, duas maneiras muito úteis de gerar sequências com o `numpy`. A primeira delas é o método `arange` que funciona exatamente como o `range` que já temos prática, mas agora criando um `array` em vez de uma lista."
   ]
  },
  {
   "cell_type": "code",
   "execution_count": 20,
   "metadata": {},
   "outputs": [
    {
     "name": "stdout",
     "output_type": "stream",
     "text": [
      "[0 1 2 3 4 5 6 7 8 9]\n"
     ]
    }
   ],
   "source": [
    "print(np.arange(10))"
   ]
  },
  {
   "cell_type": "code",
   "execution_count": 21,
   "metadata": {},
   "outputs": [
    {
     "name": "stdout",
     "output_type": "stream",
     "text": [
      "[ 0  2  4  6  8 10 12 14 16 18 20 22 24 26 28 30 32 34 36 38 40 42 44 46\n",
      " 48 50 52 54 56 58 60 62 64 66 68 70 72 74 76 78 80 82 84 86 88 90 92 94\n",
      " 96 98]\n"
     ]
    }
   ],
   "source": [
    "print(np.arange(0,100,2))"
   ]
  },
  {
   "cell_type": "markdown",
   "metadata": {},
   "source": [
    "Uma função **muito útil** para nós será a `linspace`. Com esta, criamos uma sequência de números igualmente espaçados entre dois números informados. Por exemplo, queremos 20 números igualemten espaçados entre 1 e 4:"
   ]
  },
  {
   "cell_type": "code",
   "execution_count": 22,
   "metadata": {},
   "outputs": [
    {
     "name": "stdout",
     "output_type": "stream",
     "text": [
      "[1.         1.15789474 1.31578947 1.47368421 1.63157895 1.78947368\n",
      " 1.94736842 2.10526316 2.26315789 2.42105263 2.57894737 2.73684211\n",
      " 2.89473684 3.05263158 3.21052632 3.36842105 3.52631579 3.68421053\n",
      " 3.84210526 4.        ]\n"
     ]
    }
   ],
   "source": [
    "teste = np.linspace(1,4,20)\n",
    "\n",
    "print(teste)"
   ]
  },
  {
   "cell_type": "markdown",
   "metadata": {},
   "source": [
    "## Mais de duas dimensões"
   ]
  },
  {
   "cell_type": "markdown",
   "metadata": {},
   "source": [
    "Até aqui falamos apenas de uma ou duas dimensões. Como seria uma matriz em 3 dimensões?\n",
    "\n",
    "Vamos criar, usando os métodos que já conhecemos, uma matriz cheia de números 1 em três dimensões. Fazemos isso com o `np.ones` e o formato que informamos terá um terceiro argumento que será a dimensão. Vamos ver no exemplo abaixo como funciona:"
   ]
  },
  {
   "cell_type": "code",
   "execution_count": 23,
   "metadata": {},
   "outputs": [
    {
     "name": "stdout",
     "output_type": "stream",
     "text": [
      "[[[1. 1. 1.]\n",
      "  [1. 1. 1.]]\n",
      "\n",
      " [[1. 1. 1.]\n",
      "  [1. 1. 1.]]\n",
      "\n",
      " [[1. 1. 1.]\n",
      "  [1. 1. 1.]]\n",
      "\n",
      " [[1. 1. 1.]\n",
      "  [1. 1. 1.]]\n",
      "\n",
      " [[1. 1. 1.]\n",
      "  [1. 1. 1.]]]\n"
     ]
    }
   ],
   "source": [
    "dim3 = np.ones((5,2,3))\n",
    "\n",
    "print(dim3)"
   ]
  },
  {
   "cell_type": "markdown",
   "metadata": {},
   "source": [
    "Notem que criamos uma sobreposição de 5 matrizes 2 x 3. Os eixos das matrizes (`axes`) nos permitem visualizar como criamos estes objetos:\n",
    "\n",
    "<img src=https://miro.medium.com/max/817/0*y04Nh3L0aSwyGaby.png>"
   ]
  },
  {
   "cell_type": "markdown",
   "metadata": {},
   "source": [
    "Para facilitar o entendimento, é muito importante termos uma noção geométrica destes arrays. Vejam os exemplos abaixo:\n",
    "\n",
    "* Aqui estamos criando, \"na mão\", um array tridimensional composto de duas matrizes bidimensionais.\n",
    "\n",
    "<img src=http://jalammar.github.io/images/numpy/numpy-3d-array.png>\n",
    "\n",
    "* Aqui temos três maneiras de criar arrays em três dimensões: usando o método `.ones()`, o método `.zeros()` e preenchendo com números aleatórios (veremos na próxima aula em detalhes).\n",
    "\n",
    "<img src=http://jalammar.github.io/images/numpy/numpy-3d-array-creation.png>"
   ]
  },
  {
   "cell_type": "markdown",
   "metadata": {},
   "source": [
    "# Exercícios\n",
    "\n",
    "1- Importe o módulo `numpy` como `np`\n",
    "\n",
    "2- Crie um array em uma dimensão com 10 elementos quaisquer e o atribua a uma variável `a`.\n",
    "\n",
    "3- Crie um array em uma dimesão com 100 elementos iguais a zero usando o método `.zeros()` e o atribua a uma variável `b`.\n",
    "\n",
    "4- Use um `loop` com o comando `for` para substituir os itens do array `b` criado acima por todos os números pares de 0 a 200 (sem incluir o 200). Ou sejam antes você tinha um array com 100 zeros e agora queremos um array do tipo [0,2,4,...,200].\n",
    "\n",
    "5- Crie uma matriz identidade 8x8 utilizando o método `.eye()` e atribua a uma variável `c`. Crie uma variável `d` do tipo `d = 4*c` e imprima `d`.\n",
    "\n",
    "6- Crie uma variável `e` que seja a soma de `d` e `c`. Imprima `e`. O resultdo é o que você esperava?\n",
    "\n",
    "7- Crie uma variável `f` que seja o produto de `d` e `c`. Imprima `f`. O resultdo é o que você esperava?\n",
    "\n",
    "## NOTA: a aritmética das matrizes aqui não é exatamente igual à usual..."
   ]
  },
  {
   "cell_type": "code",
   "execution_count": null,
   "metadata": {},
   "outputs": [],
   "source": []
  }
 ],
 "metadata": {
  "colab": {
   "collapsed_sections": [],
   "name": "6-maisIteracoes.ipynb",
   "provenance": []
  },
  "kernelspec": {
   "display_name": "Python 3",
   "language": "python",
   "name": "python3"
  },
  "language_info": {
   "codemirror_mode": {
    "name": "ipython",
    "version": 3
   },
   "file_extension": ".py",
   "mimetype": "text/x-python",
   "name": "python",
   "nbconvert_exporter": "python",
   "pygments_lexer": "ipython3",
   "version": "3.8.2"
  }
 },
 "nbformat": 4,
 "nbformat_minor": 1
}
