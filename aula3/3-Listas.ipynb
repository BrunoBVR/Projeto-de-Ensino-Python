{
 "cells": [
  {
   "cell_type": "markdown",
   "metadata": {
    "colab_type": "text",
    "id": "SHbMPISpmozK"
   },
   "source": [
    "## <center>Introdução à Linguagem Python</center>\n",
    "###  <center>Projeto de ensino - IFB</center>\n",
    "---\n",
    "## <center>3- Listas</center>\n",
    "##### <center>Prof.: Bruno V. Ribeiro"
   ]
  },
  {
   "cell_type": "markdown",
   "metadata": {
    "colab_type": "text",
    "id": "oQiBqoX8mozN"
   },
   "source": [
    "Python inclui diversas estruturas de dados compostas, usadas para agrupar outros valores. A mais versátil é *list* (lista), que pode ser escrita como uma lista de valores (itens) separados por vírgula, entre colchetes `[]`. Os valores contidos na lista não precisam ser todos do mesmo tipo."
   ]
  },
  {
   "cell_type": "code",
   "execution_count": 2,
   "metadata": {
    "colab": {},
    "colab_type": "code",
    "id": "cAPI3isaBYBy",
    "outputId": "f1445bc8-bda8-4395-fa68-8a400b3832c4"
   },
   "outputs": [
    {
     "name": "stdout",
     "output_type": "stream",
     "text": [
      "[1, 4, 9, 16, 25]\n"
     ]
    }
   ],
   "source": [
    "quadrados = [1, 4, 9, 16, 25]\n",
    "print(quadrados)"
   ]
  },
  {
   "cell_type": "markdown",
   "metadata": {
    "colab_type": "text",
    "id": "NNsQw-ycptaU"
   },
   "source": [
    "**Para executar o código de uma célula (este documento do GoogleColab é divido em células executáveis), selecione a célula e aperte Shift+Enter.**"
   ]
  },
  {
   "cell_type": "markdown",
   "metadata": {},
   "source": [
    "Como strings (e todos os tipos de *sequence* nativos), listas podem ser indexadas e fatiadas:"
   ]
  },
  {
   "cell_type": "code",
   "execution_count": 4,
   "metadata": {
    "colab": {
     "base_uri": "https://localhost:8080/",
     "height": 35
    },
    "colab_type": "code",
    "id": "avVP-UTPmozP",
    "outputId": "dd0a19c0-f3b8-4f35-8c15-8170b350aa51"
   },
   "outputs": [
    {
     "name": "stdout",
     "output_type": "stream",
     "text": [
      "1\n",
      "25\n",
      "[9, 16, 25]\n"
     ]
    }
   ],
   "source": [
    "print(quadrados[0])  # indice retorna o valor\n",
    "\n",
    "print(quadrados[-1])\n",
    "\n",
    "print(quadrados[-3:])  # fatiando\n"
   ]
  },
  {
   "cell_type": "markdown",
   "metadata": {
    "colab_type": "text",
    "id": "nq89zZqYmozV"
   },
   "source": [
    "Listas também podem ser concatenadas:"
   ]
  },
  {
   "cell_type": "code",
   "execution_count": 5,
   "metadata": {
    "colab": {},
    "colab_type": "code",
    "id": "KYsxiid2BYB_"
   },
   "outputs": [
    {
     "data": {
      "text/plain": [
       "[1, 4, 9, 16, 25, 36, 49, 64, 81, 100]"
      ]
     },
     "execution_count": 5,
     "metadata": {},
     "output_type": "execute_result"
    }
   ],
   "source": [
    "quadrados + [36, 49, 64, 81, 100]\n"
   ]
  },
  {
   "cell_type": "markdown",
   "metadata": {
    "colab_type": "text",
    "id": "EqdhPimkmozW"
   },
   "source": [
    "Para a concatenação, rode abaixo o seguinte e veja se bateu com o que você esperava:\n",
    "\n",
    "- Defina a variável `minha_lista` na forma: `minha_lista = [1, 2, 3]`\n",
    "\n",
    "- Depois imprima: `print(minha_lista + [6, 5, 4])`"
   ]
  },
  {
   "cell_type": "code",
   "execution_count": 7,
   "metadata": {
    "colab": {},
    "colab_type": "code",
    "id": "XmjQ8A8qBYCE"
   },
   "outputs": [],
   "source": [
    "# Faça aqui o que foi dito na célula anterior:\n"
   ]
  },
  {
   "cell_type": "markdown",
   "metadata": {
    "colab_type": "text",
    "id": "X-1Jjhm5mozX"
   },
   "source": [
    "Diferentemente de *strings*, que são imutáveis, listas são mutáveis, ou seja, é possível alterar elementos individuais de uma lista:"
   ]
  },
  {
   "cell_type": "code",
   "execution_count": 8,
   "metadata": {
    "colab": {},
    "colab_type": "code",
    "id": "TPYETQtvBYCJ",
    "outputId": "5698bb04-80e6-4b33-beed-af65739b5a97"
   },
   "outputs": [
    {
     "name": "stdout",
     "output_type": "stream",
     "text": [
      "[1, 8, 27, 65, 125]\n",
      "64\n",
      "\n",
      "Depois de consertar:\n",
      "[1, 8, 27, 64, 125]\n"
     ]
    }
   ],
   "source": [
    "cubos = [1, 8, 27, 65, 125]  # algo errado nessa lista...\n",
    "print(cubos)\n",
    "print(4 ** 3)  # ops, o cubo de 4 é 64, não 65!\n",
    "print()\n",
    "cubos[3] = 64  # trocar o valor errado\n",
    "print(\"Depois de consertar:\")\n",
    "print(cubos)"
   ]
  },
  {
   "cell_type": "markdown",
   "metadata": {
    "colab_type": "text",
    "id": "M4IRY5cwBYCO"
   },
   "source": [
    "Você também pode adicionar novos itens no final da lista, usando o método `append()` (estudaremos mais a respeito dos métodos posteriormente):"
   ]
  },
  {
   "cell_type": "code",
   "execution_count": 9,
   "metadata": {
    "colab": {},
    "colab_type": "code",
    "id": "cWWM7F8JBYCP",
    "outputId": "c980305f-3260-4f9a-8f98-1a7d7c626052"
   },
   "outputs": [
    {
     "name": "stdout",
     "output_type": "stream",
     "text": [
      "[1, 8, 27, 64, 125, 216, 343]\n"
     ]
    }
   ],
   "source": [
    "cubos.append(216)  # adicionar o cubo de 6\n",
    "cubos.append(7 ** 3)  # e o cubo de 7\n",
    "print(cubos)"
   ]
  },
  {
   "cell_type": "markdown",
   "metadata": {
    "colab_type": "text",
    "id": "Ka-vC_LiBYCU"
   },
   "source": [
    "Como uma *string*, uma *lista* é uma sequência de valores. Em uma *string*, os valores são caracteres; em uma *lista*, eles podem ser de qualquer tipo. Os valores em *lista* são chamados elementos ou às vezes itens."
   ]
  },
  {
   "cell_type": "code",
   "execution_count": 10,
   "metadata": {
    "colab": {},
    "colab_type": "code",
    "id": "pwd8mQybBYCU",
    "outputId": "f7e799f2-cae0-4828-fb3a-6de295c2da1c"
   },
   "outputs": [
    {
     "name": "stdout",
     "output_type": "stream",
     "text": [
      "[0, 2, 'quatro', 42, 'que loucura']\n"
     ]
    }
   ],
   "source": [
    "lista_misturada = [0, 2, \"quatro\", 42, \"que loucura\"]\n",
    "print(lista_misturada)"
   ]
  },
  {
   "cell_type": "code",
   "execution_count": 12,
   "metadata": {
    "colab": {},
    "colab_type": "code",
    "id": "_WPLBp51BYCY",
    "outputId": "84628e3b-af99-4803-b0d0-55cc705ef530"
   },
   "outputs": [],
   "source": [
    "# Qual é o resultado da linha abaixo? Pense antes de rodar (Shift+Enter)\n",
    "print(lista_misturada[2])"
   ]
  },
  {
   "cell_type": "markdown",
   "metadata": {},
   "source": [
    "Atribuição a fatias também é possível, e isso pode até alterar o tamanho da lista ou remover todos os itens dela:"
   ]
  },
  {
   "cell_type": "code",
   "execution_count": 14,
   "metadata": {},
   "outputs": [
    {
     "name": "stdout",
     "output_type": "stream",
     "text": [
      "['a', 'b', 'c', 'd', 'e', 'f', 'g']\n",
      "\n",
      "['a', 'b', 'C', 'D', 'E', 'f', 'g']\n",
      "\n",
      "['a', 'b', 'f', 'g']\n",
      "\n",
      "[]\n"
     ]
    }
   ],
   "source": [
    "letras = ['a', 'b', 'c', 'd', 'e', 'f', 'g']\n",
    "print(letras)\n",
    "print()\n",
    "\n",
    "# substituir alguns valores\n",
    "letras[2:5] = ['C', 'D', 'E']\n",
    "print(letras)\n",
    "print()\n",
    "\n",
    "# agora vamos remover\n",
    "letras[2:5] = []         # Isto é uma lista vazia []\n",
    "print(letras)\n",
    "print()\n",
    "\n",
    "# apagar a lista inteira substituindo ela por uma lista vazia\n",
    "letras[:] = []\n",
    "print(letras)"
   ]
  },
  {
   "cell_type": "markdown",
   "metadata": {},
   "source": [
    "A função embutida `len()` também se aplica a listas:"
   ]
  },
  {
   "cell_type": "code",
   "execution_count": 15,
   "metadata": {},
   "outputs": [
    {
     "name": "stdout",
     "output_type": "stream",
     "text": [
      "4\n"
     ]
    }
   ],
   "source": [
    "lista = ['a', 'b', 2, 3]\n",
    "print(len(lista))"
   ]
  },
  {
   "cell_type": "markdown",
   "metadata": {},
   "source": [
    "É possível aninhar listas (criar listas contendo outras listas), por exemplo:"
   ]
  },
  {
   "cell_type": "code",
   "execution_count": 16,
   "metadata": {},
   "outputs": [
    {
     "name": "stdout",
     "output_type": "stream",
     "text": [
      "Esta é a lista a: ['a', 'b', 'c']\n",
      "Esta é a lista n: [1, 2, 3]\n"
     ]
    }
   ],
   "source": [
    "a = ['a', 'b', 'c']\n",
    "n = [1, 2, 3]\n",
    "print(\"Esta é a lista a:\", a)\n",
    "print(\"Esta é a lista n:\", n)\n"
   ]
  },
  {
   "cell_type": "code",
   "execution_count": 17,
   "metadata": {},
   "outputs": [
    {
     "name": "stdout",
     "output_type": "stream",
     "text": [
      "Esta é a lista x:  [['a', 'b', 'c'], [1, 2, 3]]\n"
     ]
    }
   ],
   "source": [
    "x = [a, n]\n",
    "print(\"Esta é a lista x: \", x)\n"
   ]
  },
  {
   "cell_type": "markdown",
   "metadata": {},
   "source": [
    "Este ponto é importante: note que a lista `x` tem dois elementos: o primeiro é uma lista de 3 elementos (a lista *a*) e o segundo é uma lista de 3 elementos (a lista *n*).\n",
    "Ou seja, é uma lista de listas!\n",
    "\n",
    "Pense nas linhas a seguir e depois rode a célula. O resultado é o que você esperava?"
   ]
  },
  {
   "cell_type": "code",
   "execution_count": null,
   "metadata": {},
   "outputs": [],
   "source": [
    "print(x[0])\n",
    "\n",
    "print(x[0][1])\n"
   ]
  },
  {
   "cell_type": "markdown",
   "metadata": {
    "colab": {},
    "colab_type": "code",
    "id": "rOlxBBBGBYEX"
   },
   "source": [
    "###  Métodos de listas\n",
    "Acesse [aqui](https://docs.python.org/pt-br/3/tutorial/datastructures.html) todos os métodos de listas."
   ]
  },
  {
   "cell_type": "markdown",
   "metadata": {},
   "source": [
    "# Desafio"
   ]
  },
  {
   "cell_type": "markdown",
   "metadata": {},
   "source": [
    "As linhas abaixo geram uma lista de números aleatórios entre 1 e 100. Modifique a variável `N` para informar o tamnho da lista. Sem mudança, serão gerados apenas 10 números. Mas, brinquem com isso, tentem gerar 1000000 de números aleatórios, por exemplo."
   ]
  },
  {
   "cell_type": "code",
   "execution_count": 25,
   "metadata": {},
   "outputs": [],
   "source": [
    "N = 10"
   ]
  },
  {
   "cell_type": "code",
   "execution_count": null,
   "metadata": {},
   "outputs": [],
   "source": [
    "import random\n",
    "\n",
    "num_alea = [random.randrange(1, 101, 1) for i in range(N)]\n",
    "\n",
    "print(num_alea)"
   ]
  },
  {
   "cell_type": "markdown",
   "metadata": {},
   "source": [
    "O desafio é: olhe com cuidado os métodos de listas e, depois de gerar uma lista `num_alea` bem grande, conte quantas vezes o número 42 aparece."
   ]
  },
  {
   "cell_type": "code",
   "execution_count": null,
   "metadata": {},
   "outputs": [],
   "source": [
    "# Faça aqui:"
   ]
  },
  {
   "cell_type": "markdown",
   "metadata": {},
   "source": [
    "### Desafio extra (esse é bem avançado para vocês pensarem, a solução, inclusive pode depender das próximas aulas, mas quero que pensem na lógica de programação, sempre!)\n",
    "\n",
    "Vocês conseguem encontrar o número mais frequente?"
   ]
  },
  {
   "cell_type": "code",
   "execution_count": null,
   "metadata": {},
   "outputs": [],
   "source": []
  }
 ],
 "metadata": {
  "colab": {
   "collapsed_sections": [],
   "name": "2-Strings.ipynb",
   "provenance": []
  },
  "kernelspec": {
   "display_name": "Python 3",
   "language": "python",
   "name": "python3"
  },
  "language_info": {
   "codemirror_mode": {
    "name": "ipython",
    "version": 3
   },
   "file_extension": ".py",
   "mimetype": "text/x-python",
   "name": "python",
   "nbconvert_exporter": "python",
   "pygments_lexer": "ipython3",
   "version": "3.8.2"
  }
 },
 "nbformat": 4,
 "nbformat_minor": 1
}
