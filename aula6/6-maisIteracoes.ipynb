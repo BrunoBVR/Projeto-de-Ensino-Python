{
  "nbformat": 4,
  "nbformat_minor": 0,
  "metadata": {
    "colab": {
      "name": "6-maisIteracoes.ipynb",
      "provenance": [],
      "collapsed_sections": []
    },
    "kernelspec": {
      "display_name": "Python 3",
      "language": "python",
      "name": "python3"
    },
    "language_info": {
      "codemirror_mode": {
        "name": "ipython",
        "version": 3
      },
      "file_extension": ".py",
      "mimetype": "text/x-python",
      "name": "python",
      "nbconvert_exporter": "python",
      "pygments_lexer": "ipython3",
      "version": "3.8.2"
    }
  },
  "cells": [
    {
      "cell_type": "markdown",
      "metadata": {
        "colab_type": "text",
        "id": "SHbMPISpmozK"
      },
      "source": [
        "## <center>Introdução à Linguagem Python</center>\n",
        "###  <center>Projeto de ensino - IFB</center>\n",
        "---\n",
        "## <center>6- Mais Iterações</center>\n",
        "##### <center>Prof.: Bruno V. Ribeiro"
      ]
    },
    {
      "cell_type": "markdown",
      "metadata": {
        "colab_type": "text",
        "id": "oQiBqoX8mozN"
      },
      "source": [
        "Há um outro comando `Python` que pode ser usado para construir uma iteração. Ele é o comando `while`. O `while` fornece um mecanismo muito mais geral para a iteração. Semelhante ao comando `if`, ele usa uma expressão booleana para controlar o fluxo de execução. O corpo do `while` será repetido enquanto a expressão booleana de controle for avaliada como `True` (**while** = enquanto em inglês).\n",
        "\n",
        "Abaixo temos uma representação do fluxo do comando `while`.\n",
        "\n",
        "<img src=https://panda.ime.usp.br/pensepy/static/pensepy/_images/while_flow.png>"
      ]
    },
    {
      "cell_type": "markdown",
      "metadata": {
        "id": "mm6ZiyF-0wu2",
        "colab_type": "text"
      },
      "source": [
        "## Leitura e implementação do `while`"
      ]
    },
    {
      "cell_type": "markdown",
      "metadata": {
        "id": "O0zfUiF10wu3",
        "colab_type": "text"
      },
      "source": [
        "O comando `while` pode ser \"lido\" como se fosse uma frase (lendo \"enquanto\" no lugar do `while`). Sua implementação é direta e segue as normas de bloco de execução do `if` e do `for`. Antes de escrevermos o código, vamos entender a chamada do comando:\n",
        "\n",
        "- while (alguma condição testada):\n",
        "\n",
        "    &nbsp;&nbsp;&nbsp; execute estas ações...\n",
        "    \n",
        "Simples assim. Vamos ver um exemplo de soma de números usando `while`:"
      ]
    },
    {
      "cell_type": "code",
      "metadata": {
        "id": "9-IcBxlY0wu4",
        "colab_type": "code",
        "colab": {},
        "outputId": "8ea33af5-486a-402b-ffe3-5a016f90553e"
      },
      "source": [
        "# Somando números inteiros de 1 até o 'limite':\n",
        "limite = 10\n",
        "\n",
        "soma = 0\n",
        "numero = 1\n",
        "\n",
        "while numero <= limite:\n",
        "    soma += numero\n",
        "    numero += 1\n",
        "    \n",
        "print(soma)"
      ],
      "execution_count": 0,
      "outputs": [
        {
          "output_type": "stream",
          "text": [
            "55\n"
          ],
          "name": "stdout"
        }
      ]
    },
    {
      "cell_type": "markdown",
      "metadata": {
        "id": "VqCGdhfG0wu_",
        "colab_type": "text"
      },
      "source": [
        "Vamos entender cada linha acima:\n",
        "  * Primeiro definimos o limite (até qual valor vamos somar);\n",
        "  * Definimos `soma=0` pois antes de iniciar a contagem não há nada somado;\n",
        "  * Definimos `numero = 1` para começar a soma do número 1.\n",
        "  * Começamos o bloco do `while`:<space><space><space>\n",
        "    * enquanto `numero<=limite`, faça <space><space><space><space><space>\n",
        "    * some o valor de `numero` a `soma` <space><space><space><space><space>\n",
        "    * incremente o valor de `numero` por 1 <space><space><space><space><space>\n",
        "  * Ao acabarem as linhas dentro do bloco do `while` o código volta à primeira e testa a condição `numero<=limite`;\n",
        "  * Se a condição ainda é satisfeita, continua dentro do bloco;\n",
        "  * Se não, sai do bloco."
      ]
    },
    {
      "cell_type": "markdown",
      "metadata": {
        "id": "KQSXJTJB0wvA",
        "colab_type": "text"
      },
      "source": [
        "Formalmente, este é o fluxo de execução do comando `while`:\n",
        "\n",
        "1. Avalie a condição, que deve resultar em `False` ou `True`.\n",
        "2. Se o resultado for `False`, saia do comando `while` e continue o programa executando o próximo comando.\n",
        "3. Se o resultado da condição for `True`, execute os comandos dentro do corpo do `while` e, ao final, retorne ao passo 1.\n",
        "\n",
        "O corpo do `while` é constituído por todas as instruções abaixo do cabeçalho com a mesma tabulação.\n",
        "\n",
        "Este tipo de fluxo é chamado de laço (`loop`) porque o terceiro passo volta para o topo, fechando o laço. Observe que se a condição é avaliada como `False` no início do laço, os comandos dentro do corpo nunca são executados.\n",
        "\n",
        "O corpo do laço deve alterar o valor de uma ou mais variáveis para que a condição se torne `False` e faça o laço terminar. Caso contrário, o ciclo se repetirá para sempre. Isso é chamado de um laço infinito. Uma boa piada para os cientistas da computação são as instruções que acompanham alguns xampus: ensaboe, enxague, repita; que resulta em um laço infinito."
      ]
    },
    {
      "cell_type": "markdown",
      "metadata": {
        "id": "owXUrccu0wvB",
        "colab_type": "text"
      },
      "source": [
        "Vamos ver um exemplo simples de uso do `while` como ferramenta de controle. Voltemos ao nosso obeto em **MRU**. Vamos imaginar que todas as unidades estão do S.I. então não precisamos de nenhum tipo de correção por agora. Objeto possui velocidade `v=4` e posição inicial `x0=0`. Já sabemos, dos primeiros exercícios, que podemos criar uma sequência de código para calcular sua posição a qualquer instante. Podemos usar o `while` para descobrir em qual tempo ele atingirá uma certa posição `xf`, por exemplo (lógico que tudo isso pode ser feito facilmente com um lápis e um papel, mas vamos exercitar nossa programação!). Veja abaixo:"
      ]
    },
    {
      "cell_type": "code",
      "metadata": {
        "id": "QIsnEdCQ0wvC",
        "colab_type": "code",
        "colab": {},
        "outputId": "caa246b0-bce2-4b0b-ddff-8c7db9377c62"
      },
      "source": [
        "v = 4\n",
        "x0 = 0\n",
        "t = 0         # iniciando o tempo\n",
        "x = x0        # iniciando a posição\n",
        "# Esta é a informação mutável:\n",
        "xf = 120\n",
        "\n",
        "# Lembrem-se x = x0 + v*t\n",
        "while x < xf:\n",
        "    t += 1               # Passou um segundo!\n",
        "    x = x0 + v*t         # Nosso objeto avançou no espaço\n",
        "\n",
        "# Quando sairmos do while, nosso tempo (t) terá o valor correspondente a x = xf    \n",
        "print(\"O objeto atinge a posição \", xf, \" após \", t, \" segundos.\")"
      ],
      "execution_count": 0,
      "outputs": [
        {
          "output_type": "stream",
          "text": [
            "O objeto atinge a posição  120  após  30  segundos.\n"
          ],
          "name": "stdout"
        }
      ]
    },
    {
      "cell_type": "markdown",
      "metadata": {
        "id": "9rly06EV0wvH",
        "colab_type": "text"
      },
      "source": [
        "De fato: 120 = 0 + 4*30.\n",
        "\n",
        "Note alguns detalhes: se mudarmos a posição inicial para `x0=1`, o que acontece? Vejamos"
      ]
    },
    {
      "cell_type": "code",
      "metadata": {
        "id": "ih6doI8q0wvI",
        "colab_type": "code",
        "colab": {},
        "outputId": "b7838a17-ffa7-4d6c-da8b-853af86c4279"
      },
      "source": [
        "v = 4\n",
        "# Mudei aqui!!!!\n",
        "x0 = 1\n",
        "t = 0         # iniciando o tempo\n",
        "x = x0        # iniciando a posição\n",
        "# Esta é a informação mutável:\n",
        "xf = 120\n",
        "\n",
        "# Lembrem-se x = x0 + v*t\n",
        "while x < xf:\n",
        "    t += 1               # Passou um segundo!\n",
        "    x = x0 + v*t         # Nosso objeto avançou no espaço\n",
        "\n",
        "# Quando sairmos do while, nosso tempo (t) terá o valor correspondente a x = xf    \n",
        "print(\"O objeto atinge a posição \", xf, \" após \", t, \" segundos.\")"
      ],
      "execution_count": 0,
      "outputs": [
        {
          "output_type": "stream",
          "text": [
            "O objeto atinge a posição  120  após  30  segundos.\n"
          ],
          "name": "stdout"
        }
      ]
    },
    {
      "cell_type": "markdown",
      "metadata": {
        "id": "N1hmlmft0wvM",
        "colab_type": "text"
      },
      "source": [
        "A resposta não mudou. Mas, (120 = 1 + 4*30) me parece errado...\n",
        "\n",
        "Este é um exemplo muuuuuuuuuuuuuuuuito simples (**MUITO**) de erro de precisão. Se resolvermos na mão o problema da última célula, chegamos à resposta t = 29,75 (acredito que too mundo consegue resolver, né?). O problema é que, aqui dentro do nosso `while`, o tempo é incrementado de 1 a cada iteração (veja a linha 11 da célula acima). Então, o que acontece é que \n",
        "* quando o t = 30 temos x = 1 + 4*30 = 121.\n",
        "* Ao tentar entrar no while novamente, o programa testa: `x < 120`, ou seja 121 < 120?\n",
        "* Como isso é falso, ele sai do laço com o valor de t = 30.\n",
        "\n",
        "Como corrigimos isso? Usando passos de tempo menores. Podemos acrescentar uma variável `dt` ao nosso código para dizer ao programar o tamanho do paaso de tempo que queremos. Vamos fazer isso:"
      ]
    },
    {
      "cell_type": "code",
      "metadata": {
        "id": "ZwjdPGJ70wvN",
        "colab_type": "code",
        "colab": {},
        "outputId": "b225237b-a925-42fb-bbd4-ef7344f6f153"
      },
      "source": [
        "v = 4\n",
        "x0 = 1\n",
        "t = 0         # iniciando o tempo\n",
        "x = x0        # iniciando a posição\n",
        "\n",
        "# Esta é a informação mutável:\n",
        "xf = 120\n",
        "\n",
        "#Definindo passo de tempo\n",
        "dt = 0.05\n",
        "\n",
        "# Lembrem-se x = x0 + v*t\n",
        "while x < xf:\n",
        "    t += dt               # Passo de tempo igual a dt\n",
        "    x = x0 + v*t         # Nosso objeto avançou no espaço\n",
        "\n",
        "# Quando sairmos do while, nosso tempo (t) terá o valor correspondente a x = xf    \n",
        "print(\"O objeto atinge a posição \", xf, \" após \", \"%.2f\"%t, \" segundos.\")"
      ],
      "execution_count": 0,
      "outputs": [
        {
          "output_type": "stream",
          "text": [
            "O objeto atinge a posição  120  após  29.75  segundos.\n"
          ],
          "name": "stdout"
        }
      ]
    },
    {
      "cell_type": "markdown",
      "metadata": {
        "id": "KldtmOLr0wvT",
        "colab_type": "text"
      },
      "source": [
        "Prontinho!"
      ]
    },
    {
      "cell_type": "markdown",
      "metadata": {
        "id": "tLxjEnF10wvU",
        "colab_type": "text"
      },
      "source": [
        "O comando `while` será muito útil para obtermos valores de quantidades dinâmicas (dependentes do tempo). Podemos, por exemplo, criar tabelas de valores a cada instante de tempo ao observarmos um objeto em movimento.\n",
        "\n",
        "Vamos a outro exemplo. Imagine, agora, um objeto em MRUV (lembrem-se $S = S_0 + v_0 t + \\frac{a}{2} t ^2$). Seja sua posição inicial `x0 = 0`, sua velocidade inicial `v0 = 20` e sua aceleração `a = -5`. Vamos fazer uma tabela acompanhando a evolução de sua posição ao passar o tempo por 10 segundos:"
      ]
    },
    {
      "cell_type": "code",
      "metadata": {
        "id": "Z8SixsMX0wvV",
        "colab_type": "code",
        "colab": {},
        "outputId": "a825fe9a-76ba-464c-9321-30387784d5b7"
      },
      "source": [
        "x0 = 0\n",
        "v0 = 20\n",
        "a = -5\n",
        "\n",
        "# Definindo passo de tempo e tempo inicial\n",
        "dt = 0.1\n",
        "t = 0\n",
        "\n",
        "# Inicializando a posição\n",
        "x = x0\n",
        "print(\"t = %.2f\"%t , \"-- xf = %.2f\"%x)\n",
        "\n",
        "# Tempo de observação\n",
        "tf = 10\n",
        "\n",
        "\n",
        "while t <= tf:\n",
        "    t += dt\n",
        "    x = x0 + v0*t + (a/2)*(t**2)\n",
        "    print(\"t = %.2f\"%t , \"-- xf = %.2f\"%x)\n",
        "    \n"
      ],
      "execution_count": 0,
      "outputs": [
        {
          "output_type": "stream",
          "text": [
            "t = 0.00 -- xf = 0.00\n",
            "t = 0.10 -- xf = 1.98\n",
            "t = 0.20 -- xf = 3.90\n",
            "t = 0.30 -- xf = 5.78\n",
            "t = 0.40 -- xf = 7.60\n",
            "t = 0.50 -- xf = 9.38\n",
            "t = 0.60 -- xf = 11.10\n",
            "t = 0.70 -- xf = 12.78\n",
            "t = 0.80 -- xf = 14.40\n",
            "t = 0.90 -- xf = 15.98\n",
            "t = 1.00 -- xf = 17.50\n",
            "t = 1.10 -- xf = 18.97\n",
            "t = 1.20 -- xf = 20.40\n",
            "t = 1.30 -- xf = 21.77\n",
            "t = 1.40 -- xf = 23.10\n",
            "t = 1.50 -- xf = 24.38\n",
            "t = 1.60 -- xf = 25.60\n",
            "t = 1.70 -- xf = 26.78\n",
            "t = 1.80 -- xf = 27.90\n",
            "t = 1.90 -- xf = 28.98\n",
            "t = 2.00 -- xf = 30.00\n",
            "t = 2.10 -- xf = 30.98\n",
            "t = 2.20 -- xf = 31.90\n",
            "t = 2.30 -- xf = 32.78\n",
            "t = 2.40 -- xf = 33.60\n",
            "t = 2.50 -- xf = 34.38\n",
            "t = 2.60 -- xf = 35.10\n",
            "t = 2.70 -- xf = 35.78\n",
            "t = 2.80 -- xf = 36.40\n",
            "t = 2.90 -- xf = 36.98\n",
            "t = 3.00 -- xf = 37.50\n",
            "t = 3.10 -- xf = 37.98\n",
            "t = 3.20 -- xf = 38.40\n",
            "t = 3.30 -- xf = 38.77\n",
            "t = 3.40 -- xf = 39.10\n",
            "t = 3.50 -- xf = 39.38\n",
            "t = 3.60 -- xf = 39.60\n",
            "t = 3.70 -- xf = 39.78\n",
            "t = 3.80 -- xf = 39.90\n",
            "t = 3.90 -- xf = 39.98\n",
            "t = 4.00 -- xf = 40.00\n",
            "t = 4.10 -- xf = 39.97\n",
            "t = 4.20 -- xf = 39.90\n",
            "t = 4.30 -- xf = 39.77\n",
            "t = 4.40 -- xf = 39.60\n",
            "t = 4.50 -- xf = 39.38\n",
            "t = 4.60 -- xf = 39.10\n",
            "t = 4.70 -- xf = 38.78\n",
            "t = 4.80 -- xf = 38.40\n",
            "t = 4.90 -- xf = 37.98\n",
            "t = 5.00 -- xf = 37.50\n",
            "t = 5.10 -- xf = 36.98\n",
            "t = 5.20 -- xf = 36.40\n",
            "t = 5.30 -- xf = 35.78\n",
            "t = 5.40 -- xf = 35.10\n",
            "t = 5.50 -- xf = 34.38\n",
            "t = 5.60 -- xf = 33.60\n",
            "t = 5.70 -- xf = 32.78\n",
            "t = 5.80 -- xf = 31.90\n",
            "t = 5.90 -- xf = 30.98\n",
            "t = 6.00 -- xf = 30.00\n",
            "t = 6.10 -- xf = 28.98\n",
            "t = 6.20 -- xf = 27.90\n",
            "t = 6.30 -- xf = 26.78\n",
            "t = 6.40 -- xf = 25.60\n",
            "t = 6.50 -- xf = 24.38\n",
            "t = 6.60 -- xf = 23.10\n",
            "t = 6.70 -- xf = 21.78\n",
            "t = 6.80 -- xf = 20.40\n",
            "t = 6.90 -- xf = 18.98\n",
            "t = 7.00 -- xf = 17.50\n",
            "t = 7.10 -- xf = 15.98\n",
            "t = 7.20 -- xf = 14.40\n",
            "t = 7.30 -- xf = 12.78\n",
            "t = 7.40 -- xf = 11.10\n",
            "t = 7.50 -- xf = 9.38\n",
            "t = 7.60 -- xf = 7.60\n",
            "t = 7.70 -- xf = 5.78\n",
            "t = 7.80 -- xf = 3.90\n",
            "t = 7.90 -- xf = 1.98\n",
            "t = 8.00 -- xf = 0.00\n",
            "t = 8.10 -- xf = -2.02\n",
            "t = 8.20 -- xf = -4.10\n",
            "t = 8.30 -- xf = -6.22\n",
            "t = 8.40 -- xf = -8.40\n",
            "t = 8.50 -- xf = -10.62\n",
            "t = 8.60 -- xf = -12.90\n",
            "t = 8.70 -- xf = -15.22\n",
            "t = 8.80 -- xf = -17.60\n",
            "t = 8.90 -- xf = -20.02\n",
            "t = 9.00 -- xf = -22.50\n",
            "t = 9.10 -- xf = -25.02\n",
            "t = 9.20 -- xf = -27.60\n",
            "t = 9.30 -- xf = -30.22\n",
            "t = 9.40 -- xf = -32.90\n",
            "t = 9.50 -- xf = -35.62\n",
            "t = 9.60 -- xf = -38.40\n",
            "t = 9.70 -- xf = -41.22\n",
            "t = 9.80 -- xf = -44.10\n",
            "t = 9.90 -- xf = -47.02\n",
            "t = 10.00 -- xf = -50.00\n",
            "t = 10.10 -- xf = -53.02\n"
          ],
          "name": "stdout"
        }
      ]
    },
    {
      "cell_type": "markdown",
      "metadata": {
        "id": "tlQk5imO0wvb",
        "colab_type": "text"
      },
      "source": [
        "Uma informação legal que podemos pedir ao código é para encontrar o **ponto de inflexão**, ou seja, quando a velocidade passou a ser negativa, ou seja de novo, quando a posição começou a diminuir.\n",
        "Existem várias maneiras de fazer isso. Aqui vai uma delas:\n"
      ]
    },
    {
      "cell_type": "code",
      "metadata": {
        "id": "jkQ1L1TW0wvc",
        "colab_type": "code",
        "colab": {},
        "outputId": "2af8d73e-a86f-46d7-9fe9-09d8dbd9c3b5"
      },
      "source": [
        "x0 = 0\n",
        "v0 = 20\n",
        "a = -5\n",
        "\n",
        "# Definindo passo de tempo e tempo inicial\n",
        "dt = 0.1\n",
        "t = 0\n",
        "\n",
        "# Inicializando a posição\n",
        "x = x0\n",
        "print(\"t = %.2f\"%t , \"-- xf = %.2f\"%x)\n",
        "\n",
        "# Tempo de observação\n",
        "tf = 10\n",
        "\n",
        "\n",
        "while t <= tf:\n",
        "    t += dt\n",
        "    xa = x\n",
        "    x = x0 + v0*t + (a/2)*(t**2)\n",
        "    if x < xa:\n",
        "        print(\"O ponto de inflexão é o x = %.2f\"%xa)\n",
        "        print(\"Acontece após t = %.2f\"%(t-dt))\n",
        "        break\n",
        "    print(\"t = %.2f\"%t , \"-- xf = %.2f\"%x)"
      ],
      "execution_count": 0,
      "outputs": [
        {
          "output_type": "stream",
          "text": [
            "t = 0.00 -- xf = 0.00\n",
            "t = 0.10 -- xf = 1.98\n",
            "t = 0.20 -- xf = 3.90\n",
            "t = 0.30 -- xf = 5.78\n",
            "t = 0.40 -- xf = 7.60\n",
            "t = 0.50 -- xf = 9.38\n",
            "t = 0.60 -- xf = 11.10\n",
            "t = 0.70 -- xf = 12.78\n",
            "t = 0.80 -- xf = 14.40\n",
            "t = 0.90 -- xf = 15.98\n",
            "t = 1.00 -- xf = 17.50\n",
            "t = 1.10 -- xf = 18.97\n",
            "t = 1.20 -- xf = 20.40\n",
            "t = 1.30 -- xf = 21.77\n",
            "t = 1.40 -- xf = 23.10\n",
            "t = 1.50 -- xf = 24.38\n",
            "t = 1.60 -- xf = 25.60\n",
            "t = 1.70 -- xf = 26.78\n",
            "t = 1.80 -- xf = 27.90\n",
            "t = 1.90 -- xf = 28.98\n",
            "t = 2.00 -- xf = 30.00\n",
            "t = 2.10 -- xf = 30.98\n",
            "t = 2.20 -- xf = 31.90\n",
            "t = 2.30 -- xf = 32.78\n",
            "t = 2.40 -- xf = 33.60\n",
            "t = 2.50 -- xf = 34.38\n",
            "t = 2.60 -- xf = 35.10\n",
            "t = 2.70 -- xf = 35.78\n",
            "t = 2.80 -- xf = 36.40\n",
            "t = 2.90 -- xf = 36.98\n",
            "t = 3.00 -- xf = 37.50\n",
            "t = 3.10 -- xf = 37.98\n",
            "t = 3.20 -- xf = 38.40\n",
            "t = 3.30 -- xf = 38.77\n",
            "t = 3.40 -- xf = 39.10\n",
            "t = 3.50 -- xf = 39.38\n",
            "t = 3.60 -- xf = 39.60\n",
            "t = 3.70 -- xf = 39.78\n",
            "t = 3.80 -- xf = 39.90\n",
            "t = 3.90 -- xf = 39.98\n",
            "t = 4.00 -- xf = 40.00\n",
            "O ponto de inflexão é o x = 40.00\n",
            "Acontece após t = 4.00\n"
          ],
          "name": "stdout"
        }
      ]
    },
    {
      "cell_type": "markdown",
      "metadata": {
        "id": "Z53Bw5t_0wvg",
        "colab_type": "text"
      },
      "source": [
        "Tente acompanhar o código acima (na dúvida, me pergunte!). A ideia principal é que usamos uma variável auxiliar `xa` para armazenar a posição no passo anterior (antes de atualizar o valor de `x`) e comparar com `x` após atualizá-lo. Note, também, que usei o `break` para sair do laço depois que já achamos o ponto de inflexão."
      ]
    },
    {
      "cell_type": "markdown",
      "metadata": {
        "id": "b_EUH8Hc0wvh",
        "colab_type": "text"
      },
      "source": [
        "## Exercício:\n",
        "\n",
        "1) Repita o último exemplo (com os mesmos valores) mas, além da posição a cada passo de tempo, imprima também a velocidade (lembrem-se: $v = v_0 + a t$)\n",
        "\n",
        "2) Tente encontrar o tempo em que o móvel volta a sua posição inicial. Lembre-se, a posição será descrita por uma parábola com concavidade negativa, então o móvel volta a sua posição original."
      ]
    },
    {
      "cell_type": "code",
      "metadata": {
        "id": "LPEAVbax0wvi",
        "colab_type": "code",
        "colab": {}
      },
      "source": [
        "# Faça aqui o exercício 1.\n",
        "\n",
        "\n",
        "\n",
        "\n"
      ],
      "execution_count": 0,
      "outputs": []
    },
    {
      "cell_type": "code",
      "metadata": {
        "id": "kMIOTg5g0wvm",
        "colab_type": "code",
        "colab": {}
      },
      "source": [
        "# Faça aqui o exercício 2.\n",
        "\n",
        "\n",
        "\n",
        "\n"
      ],
      "execution_count": 0,
      "outputs": []
    },
    {
      "cell_type": "markdown",
      "metadata": {
        "id": "BUvbjkGb0wvq",
        "colab_type": "text"
      },
      "source": [
        "## Desafio:\n",
        "\n",
        "Quando resolvemos o primeiro MRUV, obtivemos uma \"tabela\" de valores de posição para cada passo de tempo. Isso deixou a tela muito poluída. **SEM MUDAR** o valor de `dt`, faça o mesmo código que fizemos mas que imprima apenas as posições nos valores inteiros de `t`.\n",
        "\n",
        "Ou seja, ao invés de vermos\n",
        "\n",
        "t = 0.00 -- xf = 0.00\n",
        "\n",
        "t = 0.10 -- xf = 1.98\n",
        "\n",
        "t = 0.20 -- xf = 3.90\n",
        "\n",
        "t = 0.30 -- xf = 5.78\n",
        "\n",
        "t = 0.40 -- xf = 7.60\n",
        "\n",
        "t = 0.50 -- xf = 9.38\n",
        "\n",
        "t = 0.60 -- xf = 11.10\n",
        "\n",
        "t = 0.70 -- xf = 12.78\n",
        "\n",
        "t = 0.80 -- xf = 14.40\n",
        "\n",
        "t = 0.90 -- xf = 15.98\n",
        "\n",
        "t = 1.00 -- xf = 17.50\n",
        "\n",
        "t = 1.10 -- xf = 18.97\n",
        "\n",
        "t = 1.20 -- xf = 20.40\n",
        "\n",
        "t = 1.30 -- xf = 21.77\n",
        "\n",
        "t = 1.40 -- xf = 23.10\n",
        "\n",
        "t = 1.50 -- xf = 24.38\n",
        "\n",
        "t = 1.60 -- xf = 25.60\n",
        "\n",
        "t = 1.70 -- xf = 26.78\n",
        "\n",
        "t = 1.80 -- xf = 27.90\n",
        "\n",
        "t = 1.90 -- xf = 28.98\n",
        "\n",
        "t = 2.00 -- xf = 30.00\n",
        "\n",
        "\n",
        "Quero ver apenas:\n",
        "\n",
        "t = 0.00 -- xf = 0.00\n",
        "\n",
        "t = 1.00 -- xf = 17.50\n",
        "\n",
        "t = 2.00 -- xf = 30.00"
      ]
    },
    {
      "cell_type": "code",
      "metadata": {
        "id": "V6Db7Glh0wvr",
        "colab_type": "code",
        "colab": {}
      },
      "source": [
        "# Faça aqui o desafio:\n",
        "\n",
        "# Modifique o já escrevemos acima:\n",
        "x0 = 0\n",
        "v0 = 20\n",
        "a = -5\n",
        "\n",
        "# Definindo passo de tempo e tempo inicial\n",
        "dt = 0.1\n",
        "t = 0\n",
        "\n",
        "# Inicializando a posição\n",
        "x = x0\n",
        "print(\"t = %.2f\"%t , \"-- xf = %.2f\"%x)\n",
        "\n",
        "# Tempo de observação\n",
        "tf = 10\n",
        "\n",
        "\n",
        "while t <= tf:\n",
        "    t += dt\n",
        "    x = x0 + v0*t + (a/2)*(t**2)\n",
        "    print(\"t = %.2f\"%t , \"-- xf = %.2f\"%x)"
      ],
      "execution_count": 0,
      "outputs": []
    },
    {
      "cell_type": "code",
      "metadata": {
        "id": "9ykA1QeR0wvw",
        "colab_type": "code",
        "colab": {}
      },
      "source": [
        ""
      ],
      "execution_count": 0,
      "outputs": []
    },
    {
      "cell_type": "markdown",
      "metadata": {
        "id": "Y_3Kokht0wv0",
        "colab_type": "text"
      },
      "source": [
        "#### NOTA IMPORTANTE:\n",
        "\n",
        "Notem que eu usei, em alguns lugares a notação (`\"%.2f\"%x`) para imprimir números. Isso diz ao Python para imprimir o valor de `x` com duas casas decimais. Veja:\n"
      ]
    },
    {
      "cell_type": "code",
      "metadata": {
        "id": "hUYZxpbw0wv1",
        "colab_type": "code",
        "colab": {},
        "outputId": "dc05c7ac-ff7f-4f01-dddf-00f31dd3ecce"
      },
      "source": [
        "x = 1/3\n",
        "print(x)"
      ],
      "execution_count": 0,
      "outputs": [
        {
          "output_type": "stream",
          "text": [
            "0.3333333333333333\n"
          ],
          "name": "stdout"
        }
      ]
    },
    {
      "cell_type": "code",
      "metadata": {
        "id": "O2zhQOrZ0wv5",
        "colab_type": "code",
        "colab": {},
        "outputId": "2b468b57-ade4-40ce-c8d7-1632e89640be"
      },
      "source": [
        "x = 1/3\n",
        "print(\"%.2f\"%x)"
      ],
      "execution_count": 0,
      "outputs": [
        {
          "output_type": "stream",
          "text": [
            "0.33\n"
          ],
          "name": "stdout"
        }
      ]
    },
    {
      "cell_type": "markdown",
      "metadata": {
        "id": "gLjqE0MZ0wv_",
        "colab_type": "text"
      },
      "source": [
        "Vejam que isso muda o valor impresso, mas não altera o valor da variável!"
      ]
    },
    {
      "cell_type": "code",
      "metadata": {
        "id": "voleLtQM0wwA",
        "colab_type": "code",
        "colab": {}
      },
      "source": [
        ""
      ],
      "execution_count": 0,
      "outputs": []
    }
  ]
}