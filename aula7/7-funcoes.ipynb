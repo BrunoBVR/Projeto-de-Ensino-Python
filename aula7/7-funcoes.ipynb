{
 "cells": [
  {
   "cell_type": "markdown",
   "metadata": {
    "colab_type": "text",
    "id": "SHbMPISpmozK"
   },
   "source": [
    "## <center>Introdução à Linguagem Python</center>\n",
    "###  <center>Projeto de ensino - IFB</center>\n",
    "---\n",
    "## <center>7- Funções</center>\n",
    "##### <center>Prof.: Bruno V. Ribeiro"
   ]
  },
  {
   "cell_type": "markdown",
   "metadata": {
    "colab_type": "text",
    "id": "oQiBqoX8mozN"
   },
   "source": [
    "Em Python, uma função é uma sequência de comandos que executa alguma tarefa e que tem um nome. A sua principal finalidade é nos ajudar a organizar programas em pedaços que correspondam a como imaginamos uma solução do problema.\n",
    "\n",
    "A definição de função, aqui, é bem semelhante ao que já conhecemos da Matemática. Uma função, em geral, aceita um argumento e opera sobre ele.\n",
    "\n",
    "A sintaxe de uma definição de função é:\n",
    "\n",
    "`def NOME( PARÂMETROS ):\n",
    "    COMANDOS`"
   ]
  },
  {
   "cell_type": "markdown",
   "metadata": {
    "colab_type": "text",
    "id": "mm6ZiyF-0wu2"
   },
   "source": [
    "Note o uso do termo `def` para iniciara definição (por isso \"def\") da usa função. Ao final da linha que se inicia com o `def` temos o `:` e, como estamos sempre fazendo, iniciamos nosso bloco indentado. Tudo que vier abaixo da primeira linha, e com a indentação correta, será parte da função."
   ]
  },
  {
   "cell_type": "markdown",
   "metadata": {
    "colab_type": "text",
    "id": "O0zfUiF10wu3"
   },
   "source": [
    "Você pode inventar qualquer nome para as funções que você cria, exceto que você não pode usar um nome que é uma palavra reservada em Python (como `print` e `while`), e que os nomes devem seguir a regra de identificadores permitidos. Os parâmetros especificam qual informação, se alguma, você deve providenciar para que a função possa ser usada. Outra forma de dizer isto é que os parâmetros especificam o que a função necessita para executar a sua tarefa.\n",
    "\n",
    "Pode existir qualquer número de comandos em uma função, mas eles tem que ter a mesma tabulação a partir do `def`. Definição de função tem o mesmo padrão que já vimos em outros comandos:\n",
    "\n",
    "- Uma linha de cabeçalho começando com uma palavra reservada e terminando com dois pontos.\n",
    "- Um corpo consistindo de um ou mais comandos, cada um deles com a mesma tabulação em relação à linha de cabeçalho.\n",
    "\n",
    "Na definição de uma função, a palavra reservada no cabeçalho é `def`, que é seguida pelo nome da função e alguns parâmetros entre parênteses. A lista de parâmetros pode ser vazia ou conter qualquer número de parâmetros separados pos vírgulas. Em qualquer caso, **os parênteses são obrigatórios**.\n",
    "\n",
    "Precisamos falar um pouco mais sobre **parâmetros**. Na definição, a lista de parâmetros é conhecida mais especificamente como os **parâmetros formais**. Esta lista de nomes descrevem o que a função precisará receber do usuário da função. Quando você usa uma função, você fornece valores aos parâmetros formais."
   ]
  },
  {
   "cell_type": "code",
   "execution_count": 1,
   "metadata": {
    "colab": {},
    "colab_type": "code",
    "id": "9-IcBxlY0wu4",
    "outputId": "8ea33af5-486a-402b-ffe3-5a016f90553e"
   },
   "outputs": [],
   "source": [
    "# Vamos ver um exemplo rápido:\n",
    "\n",
    "# Criar uma função chamada \"cumprimento\" que fala \"Oi\" para o usuário.\n",
    "# Para isso, vamos usar como parâmetro (ou argumento) o nome do usuário.\n",
    "\n",
    "def cumprimento(nome):\n",
    "    print(\"Oi, \", nome, \", tudo bem?\")"
   ]
  },
  {
   "cell_type": "markdown",
   "metadata": {
    "colab_type": "text",
    "id": "VqCGdhfG0wu_"
   },
   "source": [
    "Vejam que definir a função não faz nada! Para que ela funcione, precisamos **chamá-la** com algum argumento:"
   ]
  },
  {
   "cell_type": "code",
   "execution_count": 2,
   "metadata": {},
   "outputs": [
    {
     "name": "stdout",
     "output_type": "stream",
     "text": [
      "Oi,  Bruno , tudo bem?\n"
     ]
    }
   ],
   "source": [
    "cumprimento('Bruno')"
   ]
  },
  {
   "cell_type": "markdown",
   "metadata": {
    "colab_type": "text",
    "id": "KQSXJTJB0wvA"
   },
   "source": [
    "Isso é maravilhoso! Criamos uma função com o nome `cumprimento` que podemos usar com qualquer argumento do tipo `string` e ela sempre fará o que nós definimos. Note que usar a função `cumprimento` é muito semelhante a usar outras funções do Python que já vem prontas, por exemplo: `print('alguma coisa')`.\n",
    "\n",
    "Para entender bem como funciona, veja o uso dela em vários nomes:"
   ]
  },
  {
   "cell_type": "code",
   "execution_count": 4,
   "metadata": {},
   "outputs": [
    {
     "name": "stdout",
     "output_type": "stream",
     "text": [
      "Oi,  Renata , tudo bem?\n",
      "Oi,  Luiz , tudo bem?\n",
      "Oi,  Julia , tudo bem?\n",
      "Oi,  Aléxia , tudo bem?\n",
      "Oi,  Mecânica Clássica, sua linda , tudo bem?\n"
     ]
    }
   ],
   "source": [
    "cumprimento('Renata')\n",
    "cumprimento('Luiz')\n",
    "cumprimento('Julia')\n",
    "cumprimento('Aléxia')\n",
    "cumprimento('Mecânica Clássica, sua linda')"
   ]
  },
  {
   "cell_type": "markdown",
   "metadata": {
    "colab_type": "text",
    "id": "owXUrccu0wvB"
   },
   "source": [
    "Mas, funções não servem apenas para ficar escrevendo coisas. Podemos usar para cálculos, estimativas, alocação de números... Aqui vocês precisam começar a ficar bem criativos. Funções são muito importantes e devem ser sempre usadas para otimizar seus programas e enxugar o código.\n",
    "\n",
    "Para tal, algumas funções **retornam** valores (de qualquer tipo de variável) a partir dos argumentos que damos a elas. Por exemplo, a função primitiva do Python `range()` retorna uma lista de números, a função `int()` retorna um número inteiro...\n",
    "\n",
    "Funções que retornam valores são chamadas algumas vezes de **funções frutíferas**. Em muitas outras linguagens, uma função que não retorna um valor é chamado de procedimento. Mas ficaremos aqui com o jeito do Python e também chamaremos isso de função, ou quando quisermos enfatizar essa propriedade de não retornar valores, chamaremos a função de não-frutífera.\n",
    "\n",
    "Funções frutíferas ainda permitem ao usuário fornecer informação (argumentos). Entretanto, existe agora um dado adicional que é retornado da função.\n",
    "\n",
    "<img src=https://panda.ime.usp.br/pensepy/static/pensepy/_images/caixapretafun.png>\n",
    "\n",
    "Como escrever funções futíferas? Vamos começar com uma função matemática bem simples, a função `quadrado`. A função `quadrado` terá um número como parâmetro e retornará o resultado desse número ao quadrado. Segue abaixo um diagrama do código Python seguinte.\n",
    "\n",
    "<img src=https://panda.ime.usp.br/pensepy/static/pensepy/_images/quadradofun.png>"
   ]
  },
  {
   "cell_type": "code",
   "execution_count": 6,
   "metadata": {
    "colab": {},
    "colab_type": "code",
    "id": "QIsnEdCQ0wvC",
    "outputId": "caa246b0-bce2-4b0b-ddff-8c7db9377c62"
   },
   "outputs": [],
   "source": [
    "def quadrado(x):\n",
    "    return x*x"
   ]
  },
  {
   "cell_type": "markdown",
   "metadata": {},
   "source": [
    "A função está definida! Quando chamarmos a função ela irá nos fornecer o valor que passarmos a ela como argumento ao quadrado. Para visualizar o valor retornado, precisamos imprimir. Vamos usá-la para calcular alguma coisa:"
   ]
  },
  {
   "cell_type": "code",
   "execution_count": 8,
   "metadata": {},
   "outputs": [
    {
     "name": "stdout",
     "output_type": "stream",
     "text": [
      "4\n"
     ]
    }
   ],
   "source": [
    "y = quadrado(2)\n",
    "print(y)"
   ]
  },
  {
   "cell_type": "markdown",
   "metadata": {},
   "source": [
    "Vamos usar, só para exercitar, um `loop` para calcular os quadrados de todos os números de 1 a 10:"
   ]
  },
  {
   "cell_type": "code",
   "execution_count": 9,
   "metadata": {},
   "outputs": [
    {
     "name": "stdout",
     "output_type": "stream",
     "text": [
      "1 ao quadrado é 1\n",
      "2 ao quadrado é 4\n",
      "3 ao quadrado é 9\n",
      "4 ao quadrado é 16\n",
      "5 ao quadrado é 25\n",
      "6 ao quadrado é 36\n",
      "7 ao quadrado é 49\n",
      "8 ao quadrado é 64\n",
      "9 ao quadrado é 81\n",
      "10 ao quadrado é 100\n"
     ]
    }
   ],
   "source": [
    "# Lembrem-se que o range não inclui o último valor. Então, range(1,11) = [1,2,3,4,5,6,7,8,9,10]\n",
    "for x in range(1,11):\n",
    "    print(x, \"ao quadrado é\", quadrado(x))"
   ]
  },
  {
   "cell_type": "markdown",
   "metadata": {},
   "source": [
    "Que lindo!"
   ]
  },
  {
   "cell_type": "markdown",
   "metadata": {},
   "source": [
    "Uma função pode ter quantos argumentos quisermos. Veja abaixo, por exemplo:"
   ]
  },
  {
   "cell_type": "code",
   "execution_count": 10,
   "metadata": {},
   "outputs": [],
   "source": [
    "def multiplica(x,y):\n",
    "    return x*y\n",
    "\n",
    "def raizN(x,N):\n",
    "    return x**(1/N)"
   ]
  },
  {
   "cell_type": "code",
   "execution_count": 12,
   "metadata": {},
   "outputs": [
    {
     "name": "stdout",
     "output_type": "stream",
     "text": [
      "Multiplicando 3 e 8:\n",
      "24\n",
      "Raiz cúbica de 8:\n",
      "2.0\n"
     ]
    }
   ],
   "source": [
    "# Multiplicando dois números:\n",
    "print(\"Multiplicando 3 e 8:\")\n",
    "print( multiplica(3,8) )\n",
    "\n",
    "# Raiz n-ésima de x:\n",
    "print(\"Raiz cúbica de 8:\")\n",
    "print( raizN(8,3) )"
   ]
  },
  {
   "cell_type": "markdown",
   "metadata": {},
   "source": [
    "Podemos, também, fazer várias operações dentro das funções. Vamos criar uma função, `somaAte`, que retorne a soma de todos os números naturais até o valor dado como argumento:"
   ]
  },
  {
   "cell_type": "code",
   "execution_count": 13,
   "metadata": {},
   "outputs": [
    {
     "name": "stdout",
     "output_type": "stream",
     "text": [
      "55\n"
     ]
    }
   ],
   "source": [
    "def somaAte(n):\n",
    "    soma = 0\n",
    "    for i in range(n+1):\n",
    "        soma += i\n",
    "    return soma\n",
    "\n",
    "# Chamando a função e imprimindo seu resultado (vamos somar todos os naturais até 10):\n",
    "print(somaAte(10))"
   ]
  },
  {
   "cell_type": "markdown",
   "metadata": {},
   "source": [
    "Notem como temos flexibilidade de operações!"
   ]
  },
  {
   "cell_type": "markdown",
   "metadata": {},
   "source": [
    "### Exercício:\n",
    "- Escreva uma função `produtoAte(n)` que retorne o produto de todos os naturais até `n` (não incluam o zero, por motivos óbvios).\n",
    "\n",
    "- Escreva uma função `proxPA(a, r)` que retorne o próximo elemento de uma P.A. (progressão aritmética) sendo `a` o elemento atual e `r` a razão da P.A.\n",
    "\n",
    "- Escreva uma função `PA(a1,r,N)` que imprimi todos os primeiros `N` termos de uma P.A. com o primeiro termo dado por `a1` e razão `r`."
   ]
  },
  {
   "cell_type": "code",
   "execution_count": null,
   "metadata": {},
   "outputs": [],
   "source": [
    "# Faça aqui os exercícios\n",
    "\n",
    "\n",
    "\n"
   ]
  },
  {
   "cell_type": "markdown",
   "metadata": {
    "colab_type": "text",
    "id": "9rly06EV0wvH"
   },
   "source": [
    "O retorno de uma função não precisa ser sempre um número ou `string`. Podemos retornar uma lista, por exemplo. Vamos criar uma função para retornar uma lista com números ao quadrado:"
   ]
  },
  {
   "cell_type": "code",
   "execution_count": 16,
   "metadata": {
    "colab": {},
    "colab_type": "code",
    "id": "ih6doI8q0wvI",
    "outputId": "b7838a17-ffa7-4d6c-da8b-853af86c4279"
   },
   "outputs": [
    {
     "name": "stdout",
     "output_type": "stream",
     "text": [
      "[16, 25, 36, 49, 64]\n"
     ]
    }
   ],
   "source": [
    "def ListaQuadrado(ni, nf):\n",
    "    lista = [] # criar lista vazia\n",
    "    for i in range(ni, nf+1):\n",
    "        lista.append(i*i)\n",
    "    return lista\n",
    "\n",
    "# Vamos criar uma lista com os números de 4 a 14 ao quadrado:\n",
    "\n",
    "minhaLista = ListaQuadrado(4,8)\n",
    "\n",
    "print(minhaLista)"
   ]
  },
  {
   "cell_type": "markdown",
   "metadata": {
    "colab_type": "text",
    "id": "N1hmlmft0wvM"
   },
   "source": [
    "Uma propriedade importante é que funções podem usar outras funções que foram definidas antes delas. Por exemplo, já haviamos definido antes a função para calcular quadrados. Vamos usá-la dentro da função definida nesta última célula:"
   ]
  },
  {
   "cell_type": "code",
   "execution_count": 17,
   "metadata": {},
   "outputs": [
    {
     "name": "stdout",
     "output_type": "stream",
     "text": [
      "[16, 25, 36, 49, 64]\n"
     ]
    }
   ],
   "source": [
    "# Definimos a primeira função\n",
    "def quadrado(x):\n",
    "    return x*x\n",
    "\n",
    "# Vamos usar ela aqui dentro\n",
    "def ListaQuadrado(ni, nf):\n",
    "    lista = [] # criar lista vazia\n",
    "    for i in range(ni, nf+1):\n",
    "        lista.append(quadrado(i))     # <---Aqui!\n",
    "    return lista\n",
    "\n",
    "# Vamos criar uma lista com os números de 4 a 14 ao quadrado:\n",
    "minhaLista = ListaQuadrado(4,8)\n",
    "\n",
    "print(minhaLista)"
   ]
  },
  {
   "cell_type": "markdown",
   "metadata": {},
   "source": [
    "Um último detalhe é que podemos retornar vários valores. Por exemplo, vamos criar uma função para retornar o dobro de três números diferentes."
   ]
  },
  {
   "cell_type": "code",
   "execution_count": 18,
   "metadata": {},
   "outputs": [],
   "source": [
    "def dobro(x,y,z):\n",
    "    return 2*x, 2*y, 2*z"
   ]
  },
  {
   "cell_type": "markdown",
   "metadata": {},
   "source": [
    "Vejam que o `return` pode retornar vários valores separados por vírgulas. Quando chamarmos a função, temos que atribuir variáveis separadas por vírgulas para receber o resultado da função (existem outras maneiras que veremos mais à frente):"
   ]
  },
  {
   "cell_type": "code",
   "execution_count": 19,
   "metadata": {},
   "outputs": [
    {
     "name": "stdout",
     "output_type": "stream",
     "text": [
      "6 18 24\n"
     ]
    }
   ],
   "source": [
    "a = 3\n",
    "b = 9\n",
    "c = 12\n",
    "\n",
    "a2, b2, c2 = dobro(a,b,c)\n",
    "\n",
    "print(a2,b2,c2)"
   ]
  },
  {
   "cell_type": "markdown",
   "metadata": {
    "colab_type": "text",
    "id": "b_EUH8Hc0wvh"
   },
   "source": [
    "## Exercício:\n",
    "\n",
    "1) Crie uma função que calcula o n-ésimo termo de um P.G. (progressão geométrica) informando, como argumentos, o valor do primeiro termo e a razão da progressão.\n",
    "\n",
    "2) Crie uma função que tenha como argumento o lado de um quadrado e retorne três valores: seu perímetro, sua área e sua diagonal.\n",
    "\n",
    "3) Crie uma função que aceite uma lista de números como argumento (de qualquer tamanho) e retorne a soma de todos os elementos da lista.\n",
    "\n",
    "4) Crie uma função que aceite uma lista de números como argumento e retorne uma nova lista contendo apenas os números pares da lista original.\n",
    "\n",
    "5) Crie uma função que aceite 4 argumentos: (x1,y1,x2,y2). Estes números representam as posições de dois pontos em um plano cartesiano 2D, isto é, (x1,y1) e (x2,y2). A sua função deve retornar a distância entre estes dois pontos.\n",
    "\n",
    "6) Crie uma função que aceite um número natural como argumento e retorne seu fatorial.\n",
    "\n",
    "7) Crie uma função que aceite os coeficientes de uma parábola como argumento (a,b,c) e retorne o x e o y do vértice. CUIDADO: use um `if` dentro de sua função para alertar o usuário caso ele informe o `a` como zero (afinal, retas não têm vértices...)\n",
    "\n",
    "8) Crie uma função que aceite como argumento a velocidade, a posição incial e o tempo de observação de um móvel em MRU. A função deve retornar a posição desse móvel no tempo informado.\n",
    "\n",
    "9) Crie uma função que aceite a posição inicial e a velocidade de um móvel em lançamento verical. A função deve retornar o tempo de subida e a altura máxima atingida pelo móvel. (Podem usar g = 10 $m/s^2$ e tomem cuidado com os sinais!!!)\n",
    "\n",
    "#### DESAFIOS:\n",
    "\n",
    "10) Crie uma função que aceite uma lista como argumento (a lista pode conter qualquer variável, seja `int`, `float`, `string`... e ter qualquer tamanho) e retorne a mesma lista invertida. Por exemplo, se usarmos como argumento `[1,2,3,4,5]` a função deve retornar `[5,4,3,2,1]`.\n",
    "\n",
    "11) Crie uma função que aceite um número natural `n` como argumento. A função deve retornar o `n`-ésimo número da sequência de Fibonacci.\n",
    "\n",
    "Para os que não se lembram: Sucessão de Fibonacci (ou Sequência de Fibonacci), é uma sequência de números inteiros, começando normalmente por 0 e 1 (**usem o 0 como primeiro termo no desafio**), na qual, cada termo subsequente corresponde à soma dos dois anteriores. Os números de Fibonacci são, portanto, os números que compõem a seguinte sequência :\n",
    "\n",
    "0, 1, 1, 2, 3, 5, 8, 13, 21, 34, 55, 89, 144, 233, 377, 610, 987, 1597, 2584, ... \n",
    "\n",
    "Em termos matemáticos, a sequência é definida recursivamente pela fórmula abaixo, sendo o primeiro termo $F_1= 1$:\n",
    "\n",
    "$F_{n}=F_{n-1}+F_{n-2}$,\n",
    "\n",
    "e valores iniciais\n",
    "\n",
    "$F_{1}=1,\\;F_{2}=1.$"
   ]
  },
  {
   "cell_type": "code",
   "execution_count": 0,
   "metadata": {
    "colab": {},
    "colab_type": "code",
    "id": "LPEAVbax0wvi"
   },
   "outputs": [],
   "source": [
    "# Faça aqui o exercício 1.\n",
    "\n",
    "\n",
    "\n",
    "\n"
   ]
  },
  {
   "cell_type": "code",
   "execution_count": 0,
   "metadata": {
    "colab": {},
    "colab_type": "code",
    "id": "kMIOTg5g0wvm"
   },
   "outputs": [],
   "source": [
    "# Faça aqui o exercício 2.\n",
    "\n",
    "\n",
    "\n",
    "\n"
   ]
  },
  {
   "cell_type": "code",
   "execution_count": null,
   "metadata": {},
   "outputs": [],
   "source": [
    "# Faça aqui o exercício 3.\n"
   ]
  },
  {
   "cell_type": "code",
   "execution_count": null,
   "metadata": {},
   "outputs": [],
   "source": [
    "# Faça aqui o exercício 4.\n"
   ]
  },
  {
   "cell_type": "code",
   "execution_count": null,
   "metadata": {},
   "outputs": [],
   "source": [
    "# Faça aqui o exercício 5.\n"
   ]
  },
  {
   "cell_type": "code",
   "execution_count": null,
   "metadata": {},
   "outputs": [],
   "source": [
    "# Faça aqui o exercício 6.\n"
   ]
  },
  {
   "cell_type": "code",
   "execution_count": null,
   "metadata": {},
   "outputs": [],
   "source": [
    "# Faça aqui o exercício 7.\n"
   ]
  },
  {
   "cell_type": "code",
   "execution_count": null,
   "metadata": {},
   "outputs": [],
   "source": [
    "# Faça aqui o exercício 8.\n"
   ]
  },
  {
   "cell_type": "code",
   "execution_count": null,
   "metadata": {},
   "outputs": [],
   "source": [
    "# Faça aqui o exercício 9.\n"
   ]
  },
  {
   "cell_type": "code",
   "execution_count": null,
   "metadata": {},
   "outputs": [],
   "source": [
    "# Faça aqui o exercício 10.\n"
   ]
  },
  {
   "cell_type": "code",
   "execution_count": null,
   "metadata": {},
   "outputs": [],
   "source": [
    "# Faça aqui o exercício 11.\n"
   ]
  }
 ],
 "metadata": {
  "colab": {
   "collapsed_sections": [],
   "name": "6-maisIteracoes.ipynb",
   "provenance": []
  },
  "kernelspec": {
   "display_name": "Python 3",
   "language": "python",
   "name": "python3"
  },
  "language_info": {
   "codemirror_mode": {
    "name": "ipython",
    "version": 3
   },
   "file_extension": ".py",
   "mimetype": "text/x-python",
   "name": "python",
   "nbconvert_exporter": "python",
   "pygments_lexer": "ipython3",
   "version": "3.8.2"
  }
 },
 "nbformat": 4,
 "nbformat_minor": 1
}
