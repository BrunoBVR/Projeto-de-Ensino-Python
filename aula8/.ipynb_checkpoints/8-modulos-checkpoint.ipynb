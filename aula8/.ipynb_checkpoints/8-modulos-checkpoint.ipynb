{
 "cells": [
  {
   "cell_type": "markdown",
   "metadata": {
    "colab_type": "text",
    "id": "SHbMPISpmozK"
   },
   "source": [
    "## <center>Introdução à Linguagem Python</center>\n",
    "###  <center>Projeto de ensino - IFB</center>\n",
    "---\n",
    "## <center>8- Módulos</center>\n",
    "##### <center>Prof.: Bruno V. Ribeiro"
   ]
  },
  {
   "cell_type": "markdown",
   "metadata": {
    "colab_type": "text",
    "id": "oQiBqoX8mozN"
   },
   "source": [
    "Um módulo é um arquivo contendo definições e comandos em Python para serem usados em outros programas em Python. Há diversos módulos do Python que fazem parte da **biblioteca padrão**. Uma das grandes vantagens da linguagem Python é sua enorme variedade de módulos para lidar com diferentes problemas. É impossível conhecer todos eles e, muito mais impossível, usar todos eles em nossos projetos.\n",
    "\n",
    "Vamos iniciar, agora, uma série onde conheceremos os módulos mais utilizados para as nossas simulações (claro, ao longo do caminho vocês podem topar com outros módulos que achem úteis e, quem sabe, podemos até escrever nossos própios módulos)."
   ]
  },
  {
   "cell_type": "markdown",
   "metadata": {
    "colab_type": "text",
    "id": "mm6ZiyF-0wu2"
   },
   "source": [
    "Antes de prosseguir com a exploração dos módulos, nós vamos falar um pouco mais sobre o que são módulos e como são tipicamente usados. Uma das coisas mais importantes a saber sobre módulos é o fato de que eles são objetos de dados, assim como qualquer outro tipo de dado em Python. Objetos do tipo `module` simplesmente contém outros elementos do Python.\n",
    "\n",
    "A primeira coisa que precisamos fazer quando queremos usar um módulo é fazer um `import`. A fim de utilizar algo contido em um módulo, usamos a notação de ponto, fornecendo o nome de módulo e o item específico unidos por um “ponto”.\n",
    "\n",
    "Em nosso primeiro arquivo, conhecemos as operações matemáticas básicas que o Python realiza (`+`, `-`, `*`, `/`, `%`, ...). Porém, para resolver problemas cada vez mais elaborados, vamos usar muitas outras funções matemáticas importantes. As funções e constantes mais comuns que usaremos podem ser encontradas no módulo `math`.\n",
    "\n",
    "O módulo math contém funções matemáticas que você costuma encontrar em calculadoras e algumas constantes matemáticas como **pi** e **e**. Ao importar o módulo `math`, obtemos uma referência para um objeto `module` que contém esses elementos.\n",
    "\n",
    "<img src=https://panda.ime.usp.br/pensepy/static/pensepy/_images/mathmod.png>"
   ]
  },
  {
   "cell_type": "markdown",
   "metadata": {},
   "source": [
    "Vamos aprender como utilizar os elementos do módulo `math`:"
   ]
  },
  {
   "cell_type": "code",
   "execution_count": 1,
   "metadata": {},
   "outputs": [
    {
     "name": "stdout",
     "output_type": "stream",
     "text": [
      "Valor de pi, aproximado:\n",
      "3.141592653589793\n"
     ]
    }
   ],
   "source": [
    "# Primeiro fazemos o import (importamos) o módulo\n",
    "import math\n",
    "\n",
    "# Agora, lembrem-se da notação com ponto (.) para usar tudo que há dentro do módulo.\n",
    "# Aqui vão alguns exemplos:\n",
    "\n",
    "print('Valor de pi, aproximado:')\n",
    "print(math.pi)"
   ]
  },
  {
   "cell_type": "markdown",
   "metadata": {},
   "source": [
    "Notem como chamamos o objeto `pi` dentro do módulo `math` -> usamos o nome do módulo seguido de um ponto e o objeto que queremos, neste caso **math.pi**."
   ]
  },
  {
   "cell_type": "code",
   "execution_count": 2,
   "metadata": {},
   "outputs": [
    {
     "name": "stdout",
     "output_type": "stream",
     "text": [
      "Valor de e, aproximado:\n",
      "2.718281828459045\n"
     ]
    }
   ],
   "source": [
    "# O valor de ´e´ também faz parte do módulo:\n",
    "print('Valor de e, aproximado:')\n",
    "print(math.e)"
   ]
  },
  {
   "cell_type": "markdown",
   "metadata": {},
   "source": [
    "Além de constantes, o módulo `math` possui várias funções importantes:"
   ]
  },
  {
   "cell_type": "code",
   "execution_count": 5,
   "metadata": {},
   "outputs": [
    {
     "name": "stdout",
     "output_type": "stream",
     "text": [
      "7.38905609893065\n"
     ]
    }
   ],
   "source": [
    "# Exponencial:\n",
    "print(math.exp(2))\n",
    "# Isto nos retorna a exponencial de 2"
   ]
  },
  {
   "cell_type": "code",
   "execution_count": 7,
   "metadata": {},
   "outputs": [
    {
     "name": "stdout",
     "output_type": "stream",
     "text": [
      "e elevado a 0 = 1.0\n",
      "e elevado a 1 = 2.718281828459045\n",
      "e elevado a 2 = 7.38905609893065\n",
      "e elevado a 3 = 20.085536923187668\n",
      "e elevado a 4 = 54.598150033144236\n",
      "e elevado a 5 = 148.4131591025766\n",
      "e elevado a 6 = 403.4287934927351\n",
      "e elevado a 7 = 1096.6331584284585\n",
      "e elevado a 8 = 2980.9579870417283\n",
      "e elevado a 9 = 8103.083927575384\n"
     ]
    }
   ],
   "source": [
    "# Só para ficar claro:\n",
    "for x in range(10):\n",
    "    print(f'e elevado a {x} = {math.exp(x)}')"
   ]
  },
  {
   "cell_type": "code",
   "execution_count": 10,
   "metadata": {},
   "outputs": [
    {
     "name": "stdout",
     "output_type": "stream",
     "text": [
      "log de 1 = 0.0\n",
      "log de 2 = 0.6931471805599453\n",
      "log de 3 = 1.0986122886681098\n",
      "log de 4 = 1.3862943611198906\n",
      "log de 5 = 1.6094379124341003\n",
      "log de 6 = 1.791759469228055\n",
      "log de 7 = 1.9459101490553132\n",
      "log de 8 = 2.0794415416798357\n",
      "log de 9 = 2.1972245773362196\n",
      "log de 10 = 2.302585092994046\n"
     ]
    }
   ],
   "source": [
    "# Logaritmo natural:\n",
    "for x in range(1,11):\n",
    "    print(f'log de {x} = {math.log(x)}')"
   ]
  },
  {
   "cell_type": "markdown",
   "metadata": {},
   "source": [
    "Notem que, acima, usei o `range(1,11)` para evitar que calculemos `log(0)`!\n",
    "\n",
    "Temos também funções trigonométricas:"
   ]
  },
  {
   "cell_type": "code",
   "execution_count": 13,
   "metadata": {},
   "outputs": [
    {
     "name": "stdout",
     "output_type": "stream",
     "text": [
      "cos(0) = 1.0\n",
      "cos(1) = 0.5403023058681398\n",
      "cos(2) = -0.4161468365471424\n",
      "cos(3) = -0.9899924966004454\n",
      "cos(4) = -0.6536436208636119\n",
      "cos(5) = 0.28366218546322625\n",
      "cos(6) = 0.960170286650366\n",
      "cos(7) = 0.7539022543433046\n",
      "cos(8) = -0.14550003380861354\n",
      "cos(9) = -0.9111302618846769\n"
     ]
    }
   ],
   "source": [
    "# O argumento das funções trigonométricas sempre em radianos!!\n",
    "for x in range(10):\n",
    "    print(f'cos({x}) = {math.cos(x)}')"
   ]
  },
  {
   "cell_type": "markdown",
   "metadata": {},
   "source": [
    "Para uma lista completa de todas as funções no módulo `math` acesse: [Módulo math](https://docs.python.org/pt-br/3/library/math.html)."
   ]
  },
  {
   "cell_type": "code",
   "execution_count": null,
   "metadata": {},
   "outputs": [],
   "source": []
  },
  {
   "cell_type": "markdown",
   "metadata": {
    "colab_type": "text",
    "id": "b_EUH8Hc0wvh"
   },
   "source": [
    "## Exercício:\n",
    "\n",
    "Para pequenas amplitudes, a equação de evolução do ângulo $\\theta$ que um pêndulo de comprimento $l$ faz com a vertical é dada por:\n",
    "\n",
    "$\\frac{d^2 \\theta}{dt^2} + \\frac{g}{l} = 0$, que é a equação do oscilador harmônico simples, onde $g$ é a aceleração da gravidade local. Dadas as condições iniciais $\\theta(0) = \\theta_0$ e partindo do repouso, a solução para qualuer tempo $t$ é dada por\n",
    "\n",
    "$\\theta(t) = \\theta_0 . \\mathrm{cos}\\left( \\sqrt{\\frac{g}{l}} . t\\right)$,\n",
    "\n",
    "sendo o período da oscilação dado por\n",
    "\n",
    "$T_0  = 2\\pi \\sqrt{\\frac{l}{g}}$ .\n",
    "\n",
    "\n",
    "Seja uma pêndulo de comprimento $0,5 m$ partindo do repouso com ângulo inicial $\\theta_0 = 0,1 rad$, calcule o período de oscilação e determine os valores de $\\theta(t)$ para os tempos $t =${0,2,4,6,8,10,12,14,16,18,20,22,24,26,28,30} $s$.\n"
   ]
  },
  {
   "cell_type": "code",
   "execution_count": 14,
   "metadata": {
    "colab": {},
    "colab_type": "code",
    "id": "LPEAVbax0wvi"
   },
   "outputs": [],
   "source": [
    "# Faça aqui o exercício.\n",
    "\n",
    "\n",
    "\n",
    "\n"
   ]
  }
 ],
 "metadata": {
  "colab": {
   "collapsed_sections": [],
   "name": "6-maisIteracoes.ipynb",
   "provenance": []
  },
  "kernelspec": {
   "display_name": "Python 3",
   "language": "python",
   "name": "python3"
  },
  "language_info": {
   "codemirror_mode": {
    "name": "ipython",
    "version": 3
   },
   "file_extension": ".py",
   "mimetype": "text/x-python",
   "name": "python",
   "nbconvert_exporter": "python",
   "pygments_lexer": "ipython3",
   "version": "3.8.2"
  }
 },
 "nbformat": 4,
 "nbformat_minor": 1
}
