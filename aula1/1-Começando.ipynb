{
 "cells": [
  {
   "cell_type": "markdown",
   "metadata": {
    "colab_type": "text",
    "id": "SHbMPISpmozK"
   },
   "source": [
    "## <center>Introdução à Linguagem Python</center>\n",
    "###  <center>Projeto de ensino - IFB</center>\n",
    "---\n",
    "## <center>1- Começando</center>\n",
    "##### <center>Prof.: Bruno V. Ribeiro"
   ]
  },
  {
   "cell_type": "markdown",
   "metadata": {
    "colab_type": "text",
    "id": "1xT6-GUrmozM"
   },
   "source": [
    "## Por que Python?\n",
    "\n",
    "Python é uma linguagem fácil de aprender e poderosa. Ela tem estruturas de dados de alto nível eficientes e uma abordagem simples mas efetiva de programação orientada a objetos. A elegância de sintaxe e a tipagem dinâmica do Python aliadas com sua natureza interpretativa, o fazem a linguagem ideal para programas e desenvolvimento de aplicações rápidas em diversas áreas e na maioria das plataformas.\n",
    "\n",
    "<img src=\"https://www.python.org/static/community_logos/python-logo-master-v3-TM.png\" >"
   ]
  },
  {
   "cell_type": "markdown",
   "metadata": {
    "colab_type": "text",
    "id": "oQiBqoX8mozN"
   },
   "source": [
    "Neste curso você trabalhará com a linguagem [*Python*](https://www.python.org/), uma linguagem de **propósito geral** que oferece **alto nível** de abstração. Isso faz de *Python* uma excelente primeira linguagem a ser aprendida, pois *(i)* você poderá aplicar seus novos conhecimentos em programação a vários projetos e contextos diferentes; e *(ii)* você trabalhará projetando suas ideias, sem ter que se preocupar com o funcionamento interno do código. (Para quem quiser, essa também é uma área de estudo importante!)\n",
    "\n",
    "Um componente fundamental da linguagem *Python* que nos permite **executar** o código que escrevemos é o **interpretador**.\n",
    "No fundo, o interpretador é um programa que executa programas! Ele lê as instruções que escrevemos na forma de código e as executa logo em seguida, sem antes precisar traduzi-lo para código de máquina. Quer ver um exemplo?\n",
    "\n",
    "Vamos começar construindo o [programa \"Hello World\"](https://www.wikiwand.com/en/%22Hello,_World!%22_program), uma tradição bem conhecida entre os programadores quando estão aprendendo uma linguagem nova.\n",
    "Este pequeno programa é encarado como um primeiro teste, e simplesmente imprime uma mensagem com o texto *\"Hello World\"* no console.\n",
    "Escrever o programa \"Hello World em *Python* é realmente muito simples. Veja na célula abaixo."
   ]
  },
  {
   "cell_type": "markdown",
   "metadata": {
    "colab_type": "text",
    "id": "NNsQw-ycptaU"
   },
   "source": [
    "**Para executar o código de uma célula (este documento do GoogleColab é divido em células executáveis), selecione a célula e aperte Shift+Enter.**"
   ]
  },
  {
   "cell_type": "code",
   "execution_count": 1,
   "metadata": {
    "colab": {
     "base_uri": "https://localhost:8080/",
     "height": 35
    },
    "colab_type": "code",
    "id": "avVP-UTPmozP",
    "outputId": "dd0a19c0-f3b8-4f35-8c15-8170b350aa51"
   },
   "outputs": [
    {
     "name": "stdout",
     "output_type": "stream",
     "text": [
      "Hello World\n"
     ]
    }
   ],
   "source": [
    "# Esta é nossa primeira célula com código escrito em Python! Clique aqui e aperte Shift+Enter\n",
    "print(\"Hello World\")"
   ]
  },
  {
   "cell_type": "markdown",
   "metadata": {
    "colab_type": "text",
    "id": "nq89zZqYmozV"
   },
   "source": [
    "O que fizemos foi simplesmente executar uma **função**, que já faz todo o \"trabalho sujo\" para nós. Esta função, que se chama `print`, recebe um texto como **argumento**, entre parênteses, e o imprime no console. No caso, o texto que passamos é `\"Hello World\"`. As aspas envolvendo o texto servem para dizer ao interpretador que estamos construindo uma *string* (o tipo de dado que usamos para representar texto).\n",
    "\n",
    "Toda função em Python é precedida de um (). Dentro deste () são colocados os argumentos para a função executar o que ela foi programada para fazer. Neste caso, a função `print` recebe o argumento \"Hello World\" e o imprime para nós.\n",
    "\n",
    "Tente voltar à célula acima e substitua o texto pelo texto que você quiser. Tire as aspas e veja se acontece algum problema. Escreva um número dentro das aspas. Ele é impresso na tela? E se tentarmos dar um `print` no número sem aspas o que acontece?\n",
    "\n",
    "Uma filosofia que espero que vocês adotem é a de, na dúvida, tentem executar o que pensaram! Se der problemas, temos que entender o porquê. Se funcionar, também temos que entender o motivo!"
   ]
  },
  {
   "cell_type": "markdown",
   "metadata": {
    "colab_type": "text",
    "id": "EqdhPimkmozW"
   },
   "source": [
    "Por enquanto vamos focar no uso mais básico do interpretador *Python*, operando valores numéricos apenas.\n",
    "Nesta aula vamos aprender a usar o interpretador como uma calculadora um pouco mais elaborada. \n",
    "No fim você codificará um modelo de crescimento exponencial para estimar o tamanho populacional em uma cultura bacteriana."
   ]
  },
  {
   "cell_type": "markdown",
   "metadata": {
    "colab_type": "text",
    "id": "X-1Jjhm5mozX"
   },
   "source": [
    "### Objetivos. \n",
    "Após esta aula você deverá ser capaz de: \n",
    "\n",
    "* Reconhecer os principais **operadores numéricos**;\n",
    "* Construir e computar **expressões** matemáticas;\n",
    "* Armazenar e consultar resultados de computações em **variáveis**."
   ]
  },
  {
   "cell_type": "markdown",
   "metadata": {
    "colab_type": "text",
    "id": "WP6BnEhcmozY"
   },
   "source": [
    "## 1. Tipos"
   ]
  },
  {
   "cell_type": "markdown",
   "metadata": {
    "colab_type": "text",
    "id": "ZGPi_LImmozZ"
   },
   "source": [
    "**Tipos** são abstrações fundamentais nas linguagens de programação que nos permitem representar elementos de informação. Cada linguagem possui um conjunto de *tipos primitivos* (ou fundamentais), a partir dos quais o programador pode construir *tipos compostos*.\n",
    "Por enquanto vamos conhecer alguns dos tipos primitivos, que já vêm definidos na linguagem *Python*:\n",
    "\n",
    "* Tipos **numéricos**:\n",
    " * **Integer** (**int**: inteiros): Permite representar números inteiros, por exemplo `4`. \n",
    " * **Float** (**float**: ponto flutuante): Permite representar números com parte fracionária, por exemplo `42.5`.\n",
    "\n",
    "* **String** (**str**): Permite representar informação na forma de texto, por exemplo `\"Palavra\"` ou `\"C\"`. Usamos aspas (duplas ou simples) para representar informação textual. Em muitas outras linguagens de programação existe também o tipo caractere (ou char). Porém, em *Python* um caractere é uma string de comprimento 1.\n",
    "\n",
    "* **Boolean** (**bool**): Representa informação em lógica binária, `True` ou `False`. (o famoso 0 ou 1)\n",
    "\n",
    "A função `type()` nos retorna o tipo de um argumento.\n",
    "\n",
    "Rode a célula abaixo e tente entender o resultado."
   ]
  },
  {
   "cell_type": "code",
   "execution_count": 2,
   "metadata": {
    "colab": {
     "base_uri": "https://localhost:8080/",
     "height": 215
    },
    "colab_type": "code",
    "id": "u6a2w8F6moza",
    "outputId": "38165e8f-d8de-4f0d-85ad-aa527a2a5cf2"
   },
   "outputs": [
    {
     "name": "stdout",
     "output_type": "stream",
     "text": [
      "42 <class 'int'>\n",
      "\n",
      "42.5 <class 'float'>\n",
      "\n",
      "Palavra <class 'str'>\n",
      "\n",
      "C <class 'str'>\n",
      "\n",
      "True <class 'bool'>\n",
      "\n",
      "False <class 'bool'>\n"
     ]
    }
   ],
   "source": [
    "print(42, type(42))\n",
    "print()\n",
    "print(42.5, type(42.5))\n",
    "print()\n",
    "print(\"Palavra\", type(\"Palavra\"))\n",
    "print()\n",
    "print('C', type('C'))\n",
    "print()\n",
    "print(True, type(True))\n",
    "print()\n",
    "print(False, type(False))"
   ]
  },
  {
   "cell_type": "markdown",
   "metadata": {
    "colab_type": "text",
    "id": "V7q6-j4tmozg"
   },
   "source": [
    "Veja os [tipos nativos](https://docs.python.org/3/library/stdtypes.html#built-in-types) da linguagem *Python*."
   ]
  },
  {
   "cell_type": "markdown",
   "metadata": {
    "colab_type": "text",
    "id": "WS8JrOLwmozi"
   },
   "source": [
    "## 2. Operadores e expressões"
   ]
  },
  {
   "cell_type": "markdown",
   "metadata": {
    "colab_type": "text",
    "id": "D0CPv56Tmozj"
   },
   "source": [
    "**Operadores** são os símbolos que especificam as computações mais fundamentais, como por exemplo soma, subtração, multiplicação e divisão. Sempre que aplicamos um operador sobre dois operandos, esperamos obter algum resultado imediatamente. Podemos combinar vários operadores e operandos, construindo assim **expressões**. Veja na tabela abaixo os principais operadores numéricos da linguagem *Python*."
   ]
  },
  {
   "cell_type": "markdown",
   "metadata": {
    "colab_type": "text",
    "id": "lYszHUvFmozk"
   },
   "source": [
    "| Operação| Operador| Exemplo | Resultado\n",
    "|:-|---|-:|--|\n",
    "| Soma      | `+` | `9 + 7` | `16` |\n",
    "| Subtração | `-` | `9 - 7` | `2` |\n",
    "| Multiplicação | `*` | `9 * 7` | `63` |\n",
    "| Divisão | `/` | `5 / 2`| `2.5` | \n",
    "| Exponenciação | `**` | `9**2` | `81` |\n",
    "| Módulo | `%` | `9 % 2` | `1` |\n",
    "\n"
   ]
  },
  {
   "cell_type": "markdown",
   "metadata": {
    "colab_type": "text",
    "id": "deOVqNVkmozl"
   },
   "source": [
    "Experimente operar alguns números na célula abaixo"
   ]
  },
  {
   "cell_type": "code",
   "execution_count": 0,
   "metadata": {
    "colab": {},
    "colab_type": "code",
    "id": "A0BnfYoxmozm",
    "outputId": "a6b0a9b8-232c-4ca7-9f18-886f36223316"
   },
   "outputs": [
    {
     "data": {
      "text/plain": [
       "49"
      ]
     },
     "execution_count": 3,
     "metadata": {
      "tags": []
     },
     "output_type": "execute_result"
    }
   ],
   "source": [
    "42 + 7"
   ]
  },
  {
   "cell_type": "code",
   "execution_count": 0,
   "metadata": {
    "colab": {},
    "colab_type": "code",
    "id": "94N-njwEmozs",
    "outputId": "cf41754f-8866-42bc-aa4e-5f998f9dde4d"
   },
   "outputs": [
    {
     "data": {
      "text/plain": [
       "35"
      ]
     },
     "execution_count": 4,
     "metadata": {
      "tags": []
     },
     "output_type": "execute_result"
    }
   ],
   "source": [
    "42 - 7"
   ]
  },
  {
   "cell_type": "code",
   "execution_count": 0,
   "metadata": {
    "colab": {},
    "colab_type": "code",
    "id": "x8xsujcYmozy",
    "outputId": "98f4f925-0f64-4308-95e8-c5c66f7e9b74"
   },
   "outputs": [
    {
     "data": {
      "text/plain": [
       "256"
      ]
     },
     "execution_count": 5,
     "metadata": {
      "tags": []
     },
     "output_type": "execute_result"
    }
   ],
   "source": [
    "2**8"
   ]
  },
  {
   "cell_type": "code",
   "execution_count": 0,
   "metadata": {
    "colab": {},
    "colab_type": "code",
    "id": "E3t6Mymnmoz4",
    "outputId": "6dbb016e-62a0-4041-b965-b1e220c4fc1e"
   },
   "outputs": [
    {
     "data": {
      "text/plain": [
       "0"
      ]
     },
     "execution_count": 6,
     "metadata": {
      "tags": []
     },
     "output_type": "execute_result"
    }
   ],
   "source": [
    "6 % 3"
   ]
  },
  {
   "cell_type": "code",
   "execution_count": 0,
   "metadata": {
    "colab": {},
    "colab_type": "code",
    "id": "u-0zDz90moz9",
    "outputId": "b86ba3b1-7e5b-443a-a855-2bf70d24954b"
   },
   "outputs": [
    {
     "data": {
      "text/plain": [
       "1"
      ]
     },
     "execution_count": 7,
     "metadata": {
      "tags": []
     },
     "output_type": "execute_result"
    }
   ],
   "source": [
    "3 % 2"
   ]
  },
  {
   "cell_type": "code",
   "execution_count": 0,
   "metadata": {
    "colab": {},
    "colab_type": "code",
    "id": "7_ZpW-JDmo0C",
    "outputId": "b535f9ab-5d64-49b2-8102-ac01b8d9c346"
   },
   "outputs": [
    {
     "data": {
      "text/plain": [
       "3"
      ]
     },
     "execution_count": 8,
     "metadata": {
      "tags": []
     },
     "output_type": "execute_result"
    }
   ],
   "source": [
    "3 % 5"
   ]
  },
  {
   "cell_type": "markdown",
   "metadata": {
    "colab_type": "text",
    "id": "DKoNZx2etcSG"
   },
   "source": [
    "Note o operador Módulo *%*: ele representa o resto de uma divisão. Por exemplo 6 é divisível por 3, por isso 6 % 3 = 0. Agora, pense, por que 3 % 2 = 1? E por que 3 % 5 = 3?"
   ]
  },
  {
   "cell_type": "markdown",
   "metadata": {
    "colab_type": "text",
    "id": "whYed0aZmo0I"
   },
   "source": [
    "Você também pode criar expressões combinando valores e operadores!"
   ]
  },
  {
   "cell_type": "code",
   "execution_count": 0,
   "metadata": {
    "colab": {},
    "colab_type": "code",
    "id": "FmXS19Wumo0J",
    "outputId": "373e0ab8-73ff-4b7b-aac7-920fa12426f3"
   },
   "outputs": [
    {
     "data": {
      "text/plain": [
       "48.7"
      ]
     },
     "execution_count": 9,
     "metadata": {
      "tags": []
     },
     "output_type": "execute_result"
    }
   ],
   "source": [
    "42 + 7 - 3/10"
   ]
  },
  {
   "cell_type": "code",
   "execution_count": 0,
   "metadata": {
    "colab": {},
    "colab_type": "code",
    "id": "QKbDnpwgmo0S",
    "outputId": "eee9b96a-c2c2-4da5-f97d-79b89c15e67e"
   },
   "outputs": [
    {
     "data": {
      "text/plain": [
       "6"
      ]
     },
     "execution_count": 10,
     "metadata": {
      "tags": []
     },
     "output_type": "execute_result"
    }
   ],
   "source": [
    "3*2 - 4%2"
   ]
  },
  {
   "cell_type": "markdown",
   "metadata": {
    "colab_type": "text",
    "id": "iXIObsgAmo0X"
   },
   "source": [
    "<b style=\"color:red\">Cuidado!</b> A ordem de avaliação dos elementos em uma expressão segue a mesma convenção de precedência utilizada na matemática. Elementos entre parênteses têm prioridade durante a avaliação."
   ]
  },
  {
   "cell_type": "markdown",
   "metadata": {
    "colab_type": "text",
    "id": "WkdK0sowmo0Y"
   },
   "source": [
    "Na célula abaixo, represente a seguinte expressão em código e obtenha seu resultado: "
   ]
  },
  {
   "cell_type": "markdown",
   "metadata": {
    "colab_type": "text",
    "id": "3B_laSSNmo0Z"
   },
   "source": [
    "$$ \\frac{3+(3\\times5)}{2\\times(2+3)} $$"
   ]
  },
  {
   "cell_type": "code",
   "execution_count": 0,
   "metadata": {
    "colab": {},
    "colab_type": "code",
    "id": "bmT0dsDCmo0a"
   },
   "outputs": [],
   "source": [
    "# Faça o exercício aqui:\n"
   ]
  },
  {
   "cell_type": "markdown",
   "metadata": {
    "colab_type": "text",
    "id": "iSX4-Xyomo0e"
   },
   "source": [
    "> **Comentários**: Está vendo este `#` na primeira linha da célula acima? Linhas de código precedidas por este símbolo são comentários, que funcionam como mensagens a quem está lendo seu código, normalmente outros programadores. \n",
    "Qualquer coisa escrita na mesma linha **à direita** do símbolo é simplesmente ignorada pelo interpretador, ou seja, **não é executada**. \n",
    "É comum utilizar comentários para documentar partes de um código, ou marcar regiões que devem ser trabalhadas futuramente. "
   ]
  },
  {
   "cell_type": "markdown",
   "metadata": {
    "colab_type": "text",
    "id": "gk_NT-PWmo0e"
   },
   "source": [
    "## 3. Variáveis"
   ]
  },
  {
   "cell_type": "markdown",
   "metadata": {
    "colab_type": "text",
    "id": "IJmSW6KPmo0f"
   },
   "source": [
    "Quando estamos programando, frequentemente precisamos armazenar valores obtidos em etapas anteriores em memória.\n",
    "Assim, podemos re-utilizar estes valores sem precisar repetir todo o código.\n",
    "Linguagens de programação oferecem uma maneira bastante intuitiva para isso, por meio de **variáveis**.\n",
    "O símbolo que usamos para **atribuir** valores a variáveis é o sinal de igual (`=`). Na linguagem *Python*, uma variável é criada assim que atribuimos algum valor a ela.\n",
    "\n",
    "**obs:** O nome da variável sempre deve ser escrito à esquerda do símbolo `=`, e o valor a ser atribuído à variável, à direita."
   ]
  },
  {
   "cell_type": "markdown",
   "metadata": {
    "colab_type": "text",
    "id": "5I5njTmLmo0g"
   },
   "source": [
    "Por exemplo, podemos criar uma variável chamada `idade`, para armazenar sua idade. Assim, sempre que quisermos saber o valor atribuído a esta variável, basta escrever seu nome em uma célula e executá-la!"
   ]
  },
  {
   "cell_type": "code",
   "execution_count": 0,
   "metadata": {
    "colab": {},
    "colab_type": "code",
    "id": "Y8JztDP2mo0h"
   },
   "outputs": [],
   "source": [
    "idade = 29"
   ]
  },
  {
   "cell_type": "code",
   "execution_count": 0,
   "metadata": {
    "colab": {},
    "colab_type": "code",
    "id": "4DWVVp9Tmo0n",
    "outputId": "a0a79472-836b-4ac9-ea0e-6412d7f967db"
   },
   "outputs": [
    {
     "data": {
      "text/plain": [
       "29"
      ]
     },
     "execution_count": 13,
     "metadata": {
      "tags": []
     },
     "output_type": "execute_result"
    }
   ],
   "source": [
    "idade"
   ]
  },
  {
   "cell_type": "markdown",
   "metadata": {
    "colab_type": "text",
    "id": "SKlKyaY9mo0s"
   },
   "source": [
    "Declare uma variável chamada `semestre` que armazene o valor numérico do semestre que está cursando atualmente.\n",
    "Em seguida, escreva o nome da variável para obter seu valor. "
   ]
  },
  {
   "cell_type": "code",
   "execution_count": 0,
   "metadata": {
    "colab": {},
    "colab_type": "code",
    "id": "oYyT0fnYmo0u"
   },
   "outputs": [],
   "source": [
    "# Faça aqui o que se pede.\n"
   ]
  },
  {
   "cell_type": "markdown",
   "metadata": {
    "colab_type": "text",
    "id": "dfUT4XFMmo07"
   },
   "source": [
    "Quando lidamos com expressões grandes e complexas pode ser interessante quebrá-las em várias sub-expressões. Veja o seguinte exemplo:"
   ]
  },
  {
   "cell_type": "markdown",
   "metadata": {
    "colab_type": "text",
    "id": "4NQnPXbtmo07"
   },
   "source": [
    "$$ 2 \\bigg[ \\frac{3\\times(2+5)-20}{3} \\bigg]^2 + \\sqrt 2 + 1  $$"
   ]
  },
  {
   "cell_type": "markdown",
   "metadata": {
    "colab_type": "text",
    "id": "PbU2KeZ6mo08"
   },
   "source": [
    "Para facilitar a codificação desta expressão, vamos escrevê-la nas seguintes etapas:\n",
    "\n",
    "1. Atribua o resultado de $\\frac{3\\times(2+5)-20}{3}$ a uma variável de nome `a`.\n",
    "2. Atribua o resultado de $\\sqrt{2}+1$ a uma variável de nome `b`. Lembrando que $\\sqrt{2} = 2^{\\frac{1}{2}}$\n",
    "3. Agora, compute o resultado da expressão inteira usando as variáveis que você acabou de criar. $2a^2 + b$ e atribua o resultado a uma variável de nome `c`.\n",
    "4. Por fim, imprima no console o valor da variável `c`."
   ]
  },
  {
   "cell_type": "code",
   "execution_count": 3,
   "metadata": {
    "colab": {
     "base_uri": "https://localhost:8080/",
     "height": 35
    },
    "colab_type": "code",
    "id": "u84Zt9n8mo09",
    "outputId": "1244045d-2937-48c1-9fc5-3f89a8ff6207"
   },
   "outputs": [
    {
     "data": {
      "text/plain": [
       "2.6364357845953172"
      ]
     },
     "execution_count": 3,
     "metadata": {
      "tags": []
     },
     "output_type": "execute_result"
    }
   ],
   "source": [
    "a = (3*(2+5)-20)/3\n",
    "b = 2**(1/2) + 1\n",
    "c = 2*a**2 + b\n",
    "\n",
    "c"
   ]
  },
  {
   "cell_type": "markdown",
   "metadata": {
    "colab_type": "text",
    "id": "w6jAz-ejmo1B"
   },
   "source": [
    "---"
   ]
  },
  {
   "cell_type": "markdown",
   "metadata": {
    "colab_type": "text",
    "id": "DXLmc4A_mo1B"
   },
   "source": [
    "## Exercícios"
   ]
  },
  {
   "cell_type": "markdown",
   "metadata": {
    "colab_type": "text",
    "id": "sskduJhYmo1C"
   },
   "source": [
    "**Ex 1.** Associe o resultado da expressão $2(10+1) + \\frac{8}{3+1}$ a uma variável de nome `a`. \n",
    "Em seguida, associe à mesma variável o valor $5$ e imprima seu valor no console, usando a função `print`.\n",
    "Qual valor será mostrado? E se você quisesse imprimir o resultado do primeiro valor que a variável recebeu? "
   ]
  },
  {
   "cell_type": "code",
   "execution_count": 0,
   "metadata": {
    "colab": {},
    "colab_type": "code",
    "id": "EjT0wbscmo1E"
   },
   "outputs": [],
   "source": [
    "# Faça aqui o que se pede;\n"
   ]
  },
  {
   "cell_type": "markdown",
   "metadata": {
    "colab_type": "text",
    "id": "VZe0LAuymo1I"
   },
   "source": [
    "**Ex 2.** Veja na célula abaixo a codificação da expressão $\\sqrt{\\frac{3(3+5)}{5+1}}$. Execute a célula e observe o resultado. O valor está correto? Caso não esteja, como corrigir a expressão?"
   ]
  },
  {
   "cell_type": "code",
   "execution_count": 4,
   "metadata": {
    "colab": {
     "base_uri": "https://localhost:8080/",
     "height": 35
    },
    "colab_type": "code",
    "id": "Jcc3gzxjmo1I",
    "outputId": "8310a0b6-725f-4b30-bcbf-bf12a1471631"
   },
   "outputs": [
    {
     "data": {
      "text/plain": [
       "2.0"
      ]
     },
     "execution_count": 4,
     "metadata": {
      "tags": []
     },
     "output_type": "execute_result"
    }
   ],
   "source": [
    "( 3*(3+5) / (5+1) )**(1/2)"
   ]
  },
  {
   "cell_type": "markdown",
   "metadata": {
    "colab_type": "text",
    "id": "ba80aTpImo1N"
   },
   "source": [
    "**Ex 3. - Resolvido e comentado** Para valores de $x$ em $\\{ 1,5,8, 9\\}$, compute o valor da função $\\quad{}f(x) = \\beta_0 + \\beta_1 x \\quad{}$, com parâmetros $\\beta_0 = -1.3$ e $\\beta_1=3.5$."
   ]
  },
  {
   "cell_type": "code",
   "execution_count": 0,
   "metadata": {
    "colab": {},
    "colab_type": "code",
    "id": "qUwTffU6mo1N",
    "outputId": "f225d5fb-91c4-4028-c366-027e9b8bbabe"
   },
   "outputs": [
    {
     "name": "stdout",
     "output_type": "stream",
     "text": [
      "x = 1 -> f(x) = 2.2\n",
      "x = 5 -> f(x) = 16.2\n",
      "x = 8 -> f(x) = 26.7\n",
      "x = 9 -> f(x) = 30.2\n"
     ]
    }
   ],
   "source": [
    "# Crie as variáveis b0 e b1\n",
    "b0=-1.3\n",
    "b1=3.5\n",
    "\n",
    "# Para cada print, armazene os valores de x e f(x) nas variáveis x e f_x \n",
    "x = 1\n",
    "f_x = b0+b1*x\n",
    "print(\"x = 1 -> f(x) =\", f_x ) # res. esperado: 2.2\n",
    "\n",
    "x = 5\n",
    "f_x = b0+b1*x\n",
    "print(\"x = 5 -> f(x) =\", f_x ) # res. esperado: 16.2\n",
    "\n",
    "x = 8\n",
    "f_x = b0+b1*x\n",
    "print(\"x = 8 -> f(x) =\", f_x ) # res. esperado: 26.7\n",
    "\n",
    "x = 9\n",
    "f_x = b0+b1*x\n",
    "print(\"x = 9 -> f(x) =\", f_x ) # res. esperado: 30.2"
   ]
  },
  {
   "cell_type": "markdown",
   "metadata": {
    "colab_type": "text",
    "id": "qmaQXrTpu5lr"
   },
   "source": [
    "**Desafio**: Declare uma variável `x0` = 2.0. Declare outra variável `v` = 5. Escreva uma expressão para calcular a posição de um móvel em MRU em qualquer instante t sabendo que este possui posição inicial `x0` e velocidade `v`.\n",
    "\n",
    "Use este expressão para calcular as posições em 10 tempos diferentes. Dica, antes da expressão funcionar, você precisará declarar um valor para `t`."
   ]
  },
  {
   "cell_type": "code",
   "execution_count": 0,
   "metadata": {
    "colab": {},
    "colab_type": "code",
    "id": "91CbOSaQwEjt"
   },
   "outputs": [],
   "source": [
    "# Resolva aqui o desafio"
   ]
  }
 ],
 "metadata": {
  "colab": {
   "collapsed_sections": [],
   "name": "1-Começando.ipynb",
   "provenance": []
  },
  "kernelspec": {
   "display_name": "Python 3",
   "language": "python",
   "name": "python3"
  },
  "language_info": {
   "codemirror_mode": {
    "name": "ipython",
    "version": 3
   },
   "file_extension": ".py",
   "mimetype": "text/x-python",
   "name": "python",
   "nbconvert_exporter": "python",
   "pygments_lexer": "ipython3",
   "version": "3.8.2"
  }
 },
 "nbformat": 4,
 "nbformat_minor": 1
}
